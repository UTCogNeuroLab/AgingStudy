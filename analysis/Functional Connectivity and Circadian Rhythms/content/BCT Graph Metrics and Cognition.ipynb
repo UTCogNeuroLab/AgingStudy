{
 "cells": [
  {
   "cell_type": "code",
   "execution_count": 20,
   "metadata": {},
   "outputs": [],
   "source": [
    "import os\n",
    "import pandas as pd\n",
    "import numpy as np\n",
    "from scipy import stats\n",
    "import matplotlib.pyplot as plt\n",
    "%matplotlib inline\n",
    "import seaborn as sns"
   ]
  },
  {
   "cell_type": "code",
   "execution_count": 2,
   "metadata": {},
   "outputs": [],
   "source": [
    "from pathlib import Path\n",
    "home_dir = str(Path.home())\n",
    "work_dir = os.path.join(home_dir, 'Box/CogNeuroLab/Aging Decision Making R01')"
   ]
  },
  {
   "cell_type": "markdown",
   "metadata": {},
   "source": [
    "## Brain Connectivity Toolbox Metrics\n",
    "\n",
    "TO DO:\n",
    "1. Average metrics across graph thresholds"
   ]
  },
  {
   "cell_type": "code",
   "execution_count": 128,
   "metadata": {},
   "outputs": [],
   "source": [
    "thresh_range = [1, 15, 2, 25]"
   ]
  },
  {
   "cell_type": "code",
   "execution_count": 156,
   "metadata": {},
   "outputs": [
    {
     "data": {
      "text/plain": [
       "(44, 15, 4)"
      ]
     },
     "execution_count": 156,
     "metadata": {},
     "output_type": "execute_result"
    }
   ],
   "source": [
    "bct[:,:,1:].shape"
   ]
  },
  {
   "cell_type": "code",
   "execution_count": 157,
   "metadata": {},
   "outputs": [
    {
     "name": "stdout",
     "output_type": "stream",
     "text": [
      "(44, 15)\n",
      "(44, 15)\n",
      "(44, 15)\n",
      "(44, 15)\n",
      "(44, 15, 4)\n"
     ]
    }
   ],
   "source": [
    "bct = np.zeros((44,15))\n",
    "for thresh in thresh_range:\n",
    "    bct_th = np.load(os.path.join(work_dir, 'Analysis/REST/REST_bct_oa_thr_%s.npy' % thresh))\n",
    "    print(bct_th.shape)\n",
    "    bct = np.dstack((bct, bct_th))\n",
    "\n",
    "bct = bct[:,:,1:]\n",
    "print(bct.shape)"
   ]
  },
  {
   "cell_type": "code",
   "execution_count": 165,
   "metadata": {},
   "outputs": [
    {
     "data": {
      "text/html": [
       "<div>\n",
       "<style scoped>\n",
       "    .dataframe tbody tr th:only-of-type {\n",
       "        vertical-align: middle;\n",
       "    }\n",
       "\n",
       "    .dataframe tbody tr th {\n",
       "        vertical-align: top;\n",
       "    }\n",
       "\n",
       "    .dataframe thead th {\n",
       "        text-align: right;\n",
       "    }\n",
       "</style>\n",
       "<table border=\"1\" class=\"dataframe\">\n",
       "  <thead>\n",
       "    <tr style=\"text-align: right;\">\n",
       "      <th></th>\n",
       "      <th>efficiency_global</th>\n",
       "      <th>clustering_coef</th>\n",
       "      <th>modularity</th>\n",
       "      <th>efficiency_local_mean</th>\n",
       "      <th>partic_coef_mean</th>\n",
       "      <th>efficiency_global_dmn</th>\n",
       "      <th>clustering_coef_dmn</th>\n",
       "      <th>modularity_dmn</th>\n",
       "      <th>efficiency_local_dmn</th>\n",
       "      <th>partic_coef_dmn</th>\n",
       "      <th>efficiency_global_fpn</th>\n",
       "      <th>clustering_coef_fpn</th>\n",
       "      <th>modularity_fpn</th>\n",
       "      <th>efficiency_local_fpn</th>\n",
       "      <th>partic_coef_fpn</th>\n",
       "    </tr>\n",
       "  </thead>\n",
       "  <tbody>\n",
       "    <tr>\n",
       "      <th>0</th>\n",
       "      <td>0.366128</td>\n",
       "      <td>0.354204</td>\n",
       "      <td>0.322682</td>\n",
       "      <td>0.329339</td>\n",
       "      <td>0.276309</td>\n",
       "      <td>0.241773</td>\n",
       "      <td>0.641631</td>\n",
       "      <td>0.639116</td>\n",
       "      <td>0.635086</td>\n",
       "      <td>0.377031</td>\n",
       "      <td>0.378252</td>\n",
       "      <td>0.417104</td>\n",
       "      <td>0.710288</td>\n",
       "      <td>0.751343</td>\n",
       "      <td>0.737975</td>\n",
       "    </tr>\n",
       "    <tr>\n",
       "      <th>1</th>\n",
       "      <td>0.370841</td>\n",
       "      <td>0.388046</td>\n",
       "      <td>0.361078</td>\n",
       "      <td>0.356886</td>\n",
       "      <td>0.334238</td>\n",
       "      <td>0.306665</td>\n",
       "      <td>0.623270</td>\n",
       "      <td>0.621455</td>\n",
       "      <td>0.619134</td>\n",
       "      <td>0.336967</td>\n",
       "      <td>0.325927</td>\n",
       "      <td>0.356122</td>\n",
       "      <td>0.740202</td>\n",
       "      <td>0.779422</td>\n",
       "      <td>0.767522</td>\n",
       "    </tr>\n",
       "    <tr>\n",
       "      <th>2</th>\n",
       "      <td>0.369660</td>\n",
       "      <td>0.404896</td>\n",
       "      <td>0.387553</td>\n",
       "      <td>0.371407</td>\n",
       "      <td>0.366750</td>\n",
       "      <td>0.346013</td>\n",
       "      <td>0.598551</td>\n",
       "      <td>0.596974</td>\n",
       "      <td>0.594751</td>\n",
       "      <td>0.307274</td>\n",
       "      <td>0.290011</td>\n",
       "      <td>0.319756</td>\n",
       "      <td>0.759091</td>\n",
       "      <td>0.792183</td>\n",
       "      <td>0.783787</td>\n",
       "    </tr>\n",
       "    <tr>\n",
       "      <th>3</th>\n",
       "      <td>0.366252</td>\n",
       "      <td>0.413367</td>\n",
       "      <td>0.406062</td>\n",
       "      <td>0.379533</td>\n",
       "      <td>0.388455</td>\n",
       "      <td>0.374527</td>\n",
       "      <td>0.571601</td>\n",
       "      <td>0.571267</td>\n",
       "      <td>0.568271</td>\n",
       "      <td>0.282142</td>\n",
       "      <td>0.262575</td>\n",
       "      <td>0.284013</td>\n",
       "      <td>0.771219</td>\n",
       "      <td>0.801869</td>\n",
       "      <td>0.794402</td>\n",
       "    </tr>\n",
       "  </tbody>\n",
       "</table>\n",
       "</div>"
      ],
      "text/plain": [
       "   efficiency_global  clustering_coef  modularity  efficiency_local_mean  \\\n",
       "0           0.366128         0.354204    0.322682               0.329339   \n",
       "1           0.370841         0.388046    0.361078               0.356886   \n",
       "2           0.369660         0.404896    0.387553               0.371407   \n",
       "3           0.366252         0.413367    0.406062               0.379533   \n",
       "\n",
       "   partic_coef_mean  efficiency_global_dmn  clustering_coef_dmn  \\\n",
       "0          0.276309               0.241773             0.641631   \n",
       "1          0.334238               0.306665             0.623270   \n",
       "2          0.366750               0.346013             0.598551   \n",
       "3          0.388455               0.374527             0.571601   \n",
       "\n",
       "   modularity_dmn  efficiency_local_dmn  partic_coef_dmn  \\\n",
       "0        0.639116              0.635086         0.377031   \n",
       "1        0.621455              0.619134         0.336967   \n",
       "2        0.596974              0.594751         0.307274   \n",
       "3        0.571267              0.568271         0.282142   \n",
       "\n",
       "   efficiency_global_fpn  clustering_coef_fpn  modularity_fpn  \\\n",
       "0               0.378252             0.417104        0.710288   \n",
       "1               0.325927             0.356122        0.740202   \n",
       "2               0.290011             0.319756        0.759091   \n",
       "3               0.262575             0.284013        0.771219   \n",
       "\n",
       "   efficiency_local_fpn  partic_coef_fpn  \n",
       "0              0.751343         0.737975  \n",
       "1              0.779422         0.767522  \n",
       "2              0.792183         0.783787  \n",
       "3              0.801869         0.794402  "
      ]
     },
     "execution_count": 165,
     "metadata": {},
     "output_type": "execute_result"
    }
   ],
   "source": [
    "bct_oa = pd.DataFrame(bct.mean(axis=0).transpose(), columns = ('efficiency_global', 'clustering_coef', 'modularity', 'efficiency_local_mean', 'partic_coef_mean', \\\n",
    "                                                       'efficiency_global_dmn', 'clustering_coef_dmn', 'modularity_dmn', 'efficiency_local_dmn', 'partic_coef_dmn', \\\n",
    "                                                       'efficiency_global_fpn', 'clustering_coef_fpn', 'modularity_fpn', 'efficiency_local_fpn', 'partic_coef_fpn'))\n",
    "\n"
   ]
  },
  {
   "cell_type": "code",
   "execution_count": 167,
   "metadata": {},
   "outputs": [],
   "source": [
    "oa_rest_ids = np.load(os.path.join(work_dir, 'Analysis/REST/REST_oa_list.npy'))\n",
    "oa_rest_ids = oa_rest_ids.astype(np.int)\n",
    "\n",
    "ya_rest_ids = np.load(os.path.join(work_dir, 'Analysis/REST/REST_ya_list.npy'))\n",
    "ya_rest_ids = ya_rest_ids.astype(np.int)\n",
    "\n",
    "rest_ids = np.concatenate((ya_rest_ids, oa_rest_ids))\n",
    "\n",
    "bct_oa['record_id'] = oa_rest_ids\n",
    "# bct_ya['record_id'] = ya_rest_ids\n",
    "\n",
    "# bct = pd.concat((bct_ya, bct_oa))"
   ]
  },
  {
   "cell_type": "code",
   "execution_count": 168,
   "metadata": {},
   "outputs": [
    {
     "data": {
      "text/html": [
       "<div>\n",
       "<style scoped>\n",
       "    .dataframe tbody tr th:only-of-type {\n",
       "        vertical-align: middle;\n",
       "    }\n",
       "\n",
       "    .dataframe tbody tr th {\n",
       "        vertical-align: top;\n",
       "    }\n",
       "\n",
       "    .dataframe thead th {\n",
       "        text-align: right;\n",
       "    }\n",
       "</style>\n",
       "<table border=\"1\" class=\"dataframe\">\n",
       "  <thead>\n",
       "    <tr style=\"text-align: right;\">\n",
       "      <th></th>\n",
       "      <th>efficiency_global</th>\n",
       "      <th>clustering_coef</th>\n",
       "      <th>modularity</th>\n",
       "      <th>efficiency_local_mean</th>\n",
       "      <th>partic_coef_mean</th>\n",
       "      <th>efficiency_global_dmn</th>\n",
       "      <th>clustering_coef_dmn</th>\n",
       "      <th>modularity_dmn</th>\n",
       "      <th>efficiency_local_dmn</th>\n",
       "      <th>partic_coef_dmn</th>\n",
       "      <th>efficiency_global_fpn</th>\n",
       "      <th>clustering_coef_fpn</th>\n",
       "      <th>modularity_fpn</th>\n",
       "      <th>efficiency_local_fpn</th>\n",
       "      <th>partic_coef_fpn</th>\n",
       "      <th>record_id</th>\n",
       "    </tr>\n",
       "  </thead>\n",
       "  <tbody>\n",
       "    <tr>\n",
       "      <th>count</th>\n",
       "      <td>44.000000</td>\n",
       "      <td>44.000000</td>\n",
       "      <td>44.000000</td>\n",
       "      <td>44.000000</td>\n",
       "      <td>44.000000</td>\n",
       "      <td>44.000000</td>\n",
       "      <td>44.000000</td>\n",
       "      <td>44.000000</td>\n",
       "      <td>44.000000</td>\n",
       "      <td>44.000000</td>\n",
       "      <td>44.000000</td>\n",
       "      <td>44.000000</td>\n",
       "      <td>44.000000</td>\n",
       "      <td>44.000000</td>\n",
       "      <td>44.000000</td>\n",
       "      <td>44.000000</td>\n",
       "    </tr>\n",
       "    <tr>\n",
       "      <th>mean</th>\n",
       "      <td>0.366128</td>\n",
       "      <td>0.354204</td>\n",
       "      <td>0.322682</td>\n",
       "      <td>0.329339</td>\n",
       "      <td>0.276309</td>\n",
       "      <td>0.241773</td>\n",
       "      <td>0.641631</td>\n",
       "      <td>0.639116</td>\n",
       "      <td>0.635086</td>\n",
       "      <td>0.377031</td>\n",
       "      <td>0.378252</td>\n",
       "      <td>0.417104</td>\n",
       "      <td>0.710288</td>\n",
       "      <td>0.751343</td>\n",
       "      <td>0.737975</td>\n",
       "      <td>40623.386364</td>\n",
       "    </tr>\n",
       "    <tr>\n",
       "      <th>std</th>\n",
       "      <td>0.027989</td>\n",
       "      <td>0.024746</td>\n",
       "      <td>0.033095</td>\n",
       "      <td>0.009652</td>\n",
       "      <td>0.023528</td>\n",
       "      <td>0.023367</td>\n",
       "      <td>0.035428</td>\n",
       "      <td>0.033625</td>\n",
       "      <td>0.021476</td>\n",
       "      <td>0.054259</td>\n",
       "      <td>0.067235</td>\n",
       "      <td>0.077470</td>\n",
       "      <td>0.039518</td>\n",
       "      <td>0.041891</td>\n",
       "      <td>0.030756</td>\n",
       "      <td>154.325270</td>\n",
       "    </tr>\n",
       "    <tr>\n",
       "      <th>min</th>\n",
       "      <td>0.312857</td>\n",
       "      <td>0.295579</td>\n",
       "      <td>0.250324</td>\n",
       "      <td>0.315145</td>\n",
       "      <td>0.204681</td>\n",
       "      <td>0.172600</td>\n",
       "      <td>0.551707</td>\n",
       "      <td>0.567350</td>\n",
       "      <td>0.593898</td>\n",
       "      <td>0.264432</td>\n",
       "      <td>0.206992</td>\n",
       "      <td>0.230912</td>\n",
       "      <td>0.567080</td>\n",
       "      <td>0.599297</td>\n",
       "      <td>0.639257</td>\n",
       "      <td>40160.000000</td>\n",
       "    </tr>\n",
       "    <tr>\n",
       "      <th>25%</th>\n",
       "      <td>0.350080</td>\n",
       "      <td>0.339464</td>\n",
       "      <td>0.305115</td>\n",
       "      <td>0.322343</td>\n",
       "      <td>0.260931</td>\n",
       "      <td>0.227987</td>\n",
       "      <td>0.617222</td>\n",
       "      <td>0.617209</td>\n",
       "      <td>0.620314</td>\n",
       "      <td>0.343799</td>\n",
       "      <td>0.329182</td>\n",
       "      <td>0.384445</td>\n",
       "      <td>0.690906</td>\n",
       "      <td>0.736476</td>\n",
       "      <td>0.723585</td>\n",
       "      <td>40541.250000</td>\n",
       "    </tr>\n",
       "    <tr>\n",
       "      <th>50%</th>\n",
       "      <td>0.365661</td>\n",
       "      <td>0.356002</td>\n",
       "      <td>0.324351</td>\n",
       "      <td>0.328591</td>\n",
       "      <td>0.275499</td>\n",
       "      <td>0.241943</td>\n",
       "      <td>0.634951</td>\n",
       "      <td>0.638108</td>\n",
       "      <td>0.635865</td>\n",
       "      <td>0.384440</td>\n",
       "      <td>0.376673</td>\n",
       "      <td>0.416696</td>\n",
       "      <td>0.719649</td>\n",
       "      <td>0.763284</td>\n",
       "      <td>0.743077</td>\n",
       "      <td>40652.500000</td>\n",
       "    </tr>\n",
       "    <tr>\n",
       "      <th>75%</th>\n",
       "      <td>0.386517</td>\n",
       "      <td>0.367194</td>\n",
       "      <td>0.340152</td>\n",
       "      <td>0.334585</td>\n",
       "      <td>0.294495</td>\n",
       "      <td>0.256860</td>\n",
       "      <td>0.659833</td>\n",
       "      <td>0.658865</td>\n",
       "      <td>0.645788</td>\n",
       "      <td>0.418145</td>\n",
       "      <td>0.424264</td>\n",
       "      <td>0.476441</td>\n",
       "      <td>0.734152</td>\n",
       "      <td>0.780587</td>\n",
       "      <td>0.758709</td>\n",
       "      <td>40744.750000</td>\n",
       "    </tr>\n",
       "    <tr>\n",
       "      <th>max</th>\n",
       "      <td>0.426796</td>\n",
       "      <td>0.424316</td>\n",
       "      <td>0.423680</td>\n",
       "      <td>0.356791</td>\n",
       "      <td>0.320955</td>\n",
       "      <td>0.292651</td>\n",
       "      <td>0.726362</td>\n",
       "      <td>0.722010</td>\n",
       "      <td>0.695720</td>\n",
       "      <td>0.463942</td>\n",
       "      <td>0.487775</td>\n",
       "      <td>0.538521</td>\n",
       "      <td>0.773193</td>\n",
       "      <td>0.802367</td>\n",
       "      <td>0.777560</td>\n",
       "      <td>40803.000000</td>\n",
       "    </tr>\n",
       "  </tbody>\n",
       "</table>\n",
       "</div>"
      ],
      "text/plain": [
       "       efficiency_global  clustering_coef  modularity  efficiency_local_mean  \\\n",
       "count          44.000000        44.000000   44.000000              44.000000   \n",
       "mean            0.366128         0.354204    0.322682               0.329339   \n",
       "std             0.027989         0.024746    0.033095               0.009652   \n",
       "min             0.312857         0.295579    0.250324               0.315145   \n",
       "25%             0.350080         0.339464    0.305115               0.322343   \n",
       "50%             0.365661         0.356002    0.324351               0.328591   \n",
       "75%             0.386517         0.367194    0.340152               0.334585   \n",
       "max             0.426796         0.424316    0.423680               0.356791   \n",
       "\n",
       "       partic_coef_mean  efficiency_global_dmn  clustering_coef_dmn  \\\n",
       "count         44.000000              44.000000            44.000000   \n",
       "mean           0.276309               0.241773             0.641631   \n",
       "std            0.023528               0.023367             0.035428   \n",
       "min            0.204681               0.172600             0.551707   \n",
       "25%            0.260931               0.227987             0.617222   \n",
       "50%            0.275499               0.241943             0.634951   \n",
       "75%            0.294495               0.256860             0.659833   \n",
       "max            0.320955               0.292651             0.726362   \n",
       "\n",
       "       modularity_dmn  efficiency_local_dmn  partic_coef_dmn  \\\n",
       "count       44.000000             44.000000        44.000000   \n",
       "mean         0.639116              0.635086         0.377031   \n",
       "std          0.033625              0.021476         0.054259   \n",
       "min          0.567350              0.593898         0.264432   \n",
       "25%          0.617209              0.620314         0.343799   \n",
       "50%          0.638108              0.635865         0.384440   \n",
       "75%          0.658865              0.645788         0.418145   \n",
       "max          0.722010              0.695720         0.463942   \n",
       "\n",
       "       efficiency_global_fpn  clustering_coef_fpn  modularity_fpn  \\\n",
       "count              44.000000            44.000000       44.000000   \n",
       "mean                0.378252             0.417104        0.710288   \n",
       "std                 0.067235             0.077470        0.039518   \n",
       "min                 0.206992             0.230912        0.567080   \n",
       "25%                 0.329182             0.384445        0.690906   \n",
       "50%                 0.376673             0.416696        0.719649   \n",
       "75%                 0.424264             0.476441        0.734152   \n",
       "max                 0.487775             0.538521        0.773193   \n",
       "\n",
       "       efficiency_local_fpn  partic_coef_fpn     record_id  \n",
       "count             44.000000        44.000000     44.000000  \n",
       "mean               0.751343         0.737975  40623.386364  \n",
       "std                0.041891         0.030756    154.325270  \n",
       "min                0.599297         0.639257  40160.000000  \n",
       "25%                0.736476         0.723585  40541.250000  \n",
       "50%                0.763284         0.743077  40652.500000  \n",
       "75%                0.780587         0.758709  40744.750000  \n",
       "max                0.802367         0.777560  40803.000000  "
      ]
     },
     "execution_count": 168,
     "metadata": {},
     "output_type": "execute_result"
    }
   ],
   "source": [
    "bct_oa.describe()"
   ]
  },
  {
   "cell_type": "code",
   "execution_count": null,
   "metadata": {},
   "outputs": [],
   "source": [
    "# bct_ya.describe()"
   ]
  },
  {
   "cell_type": "markdown",
   "metadata": {},
   "source": [
    "## Network Metric Correlations with Executive Function, Memory, and Circadian Measures\n",
    "### Older Adults"
   ]
  },
  {
   "cell_type": "code",
   "execution_count": 121,
   "metadata": {},
   "outputs": [],
   "source": [
    "ef = pd.read_csv(os.path.join(work_dir, 'Analysis/neuropsych/ef_zscores.csv'))\n",
    "\n",
    "mem_oa = pd.read_csv(os.path.join(work_dir, 'Analysis/neuropsych/oa_neuropsych_zscores.csv'), usecols = ['record_id', 'Memory'])"
   ]
  },
  {
   "cell_type": "code",
   "execution_count": 122,
   "metadata": {},
   "outputs": [],
   "source": [
    "cr = pd.read_csv(os.path.join(work_dir, 'Data/cr/nparact_2019-06-20.csv'))"
   ]
  },
  {
   "cell_type": "code",
   "execution_count": 204,
   "metadata": {},
   "outputs": [],
   "source": [
    "data = pd.merge(ef[['record_id', 'ef_zscore']], mem_oa)\n",
    "data = pd.merge(data, bct_oa)\n",
    "data = pd.merge(data, cr)\n",
    "data[:5]\n",
    "corrdata = data.drop(columns=['record_id', 'L5_starttime', 'M10_starttime', 'L5_start_diff', 'M10_start_diff'])"
   ]
  },
  {
   "cell_type": "code",
   "execution_count": 205,
   "metadata": {},
   "outputs": [
    {
     "name": "stdout",
     "output_type": "stream",
     "text": [
      "**correlations p > 0.05 set to zero**\n"
     ]
    },
    {
     "data": {
      "text/plain": [
       "<matplotlib.axes._subplots.AxesSubplot at 0x119a8e940>"
      ]
     },
     "execution_count": 205,
     "metadata": {},
     "output_type": "execute_result"
    },
    {
     "data": {
      "image/png": "[encoded data removed]",
      "text/plain": [
       "<Figure size 720x1080 with 2 Axes>"
      ]
     },
     "metadata": {
      "needs_background": "light"
     },
     "output_type": "display_data"
    }
   ],
   "source": [
    "from scipy.stats import spearmanr\n",
    "\n",
    "rho, pvalue = spearmanr(corrdata)\n",
    "\n",
    "rho[np.where(pvalue>.05)] = 0\n",
    "print('**correlations p > 0.05 set to zero**')\n",
    "cormat = pd.DataFrame(rho, columns = [corrdata.columns], index = [corrdata.columns])\n",
    "f, ax = plt.subplots(figsize =(10, 15)) \n",
    "sns.heatmap(cormat[['ef_zscore', 'Memory', 'IS', 'IV', 'RA']], ax = ax, cmap = 'RdBu', linewidths = 0.1, vmin=-1, annot=True) "
   ]
  },
  {
   "cell_type": "code",
   "execution_count": 225,
   "metadata": {},
   "outputs": [
    {
     "name": "stdout",
     "output_type": "stream",
     "text": [
      "r = 0.314631, p = 0.048003, std error = 0.025233\n"
     ]
    },
    {
     "data": {
      "image/png": "[encoded data removed]",
      "text/plain": [
       "<Figure size 432x288 with 1 Axes>"
      ]
     },
     "metadata": {
      "needs_background": "light"
     },
     "output_type": "display_data"
    }
   ],
   "source": [
    "from scipy import stats\n",
    "slope, intercept, r_value, p_value, std_err = stats.linregress(data['IS'], data['efficiency_local_dmn'])\n",
    "line = slope*data['IS']+intercept\n",
    "\n",
    "plt.scatter(data['IS'], data['efficiency_local_dmn'])\n",
    "plt.plot(data['IS'], line, color='red')\n",
    "plt.xlabel('IS')\n",
    "plt.ylabel('DMN Local Efficiency')\n",
    "\n",
    "print('r = %f, p = %f, std error = %f' % (r_value, p_value, std_err))"
   ]
  },
  {
   "cell_type": "code",
   "execution_count": 224,
   "metadata": {},
   "outputs": [
    {
     "name": "stdout",
     "output_type": "stream",
     "text": [
      "r = 0.382476, p = 0.014863, std error = 0.035332\n"
     ]
    },
    {
     "data": {
      "image/png": "[encoded data removed]",
      "text/plain": [
       "<Figure size 432x288 with 1 Axes>"
      ]
     },
     "metadata": {
      "needs_background": "light"
     },
     "output_type": "display_data"
    }
   ],
   "source": [
    "from scipy import stats\n",
    "slope, intercept, r_value, p_value, std_err = stats.linregress(data['IS'], data['modularity_dmn'])\n",
    "line = slope*data['IS']+intercept\n",
    "\n",
    "plt.scatter(data['IS'], data['modularity_dmn'])\n",
    "plt.plot(data['IS'], line, color='red')\n",
    "plt.xlabel('IS')\n",
    "plt.ylabel('DMN Modularity')\n",
    "\n",
    "print('r = %f, p = %f, std error = %f' % (r_value, p_value, std_err))"
   ]
  },
  {
   "cell_type": "code",
   "execution_count": 223,
   "metadata": {},
   "outputs": [
    {
     "name": "stdout",
     "output_type": "stream",
     "text": [
      "r = 0.300764, p = 0.059321, std error = 0.041582\n"
     ]
    },
    {
     "data": {
      "image/png": "[encoded data removed]",
      "text/plain": [
       "<Figure size 432x288 with 1 Axes>"
      ]
     },
     "metadata": {
      "needs_background": "light"
     },
     "output_type": "display_data"
    }
   ],
   "source": [
    "from scipy import stats\n",
    "slope, intercept, r_value, p_value, std_err = stats.linregress(data['RA'], data['modularity_dmn'])\n",
    "line = slope*data['RA']+intercept\n",
    "\n",
    "plt.scatter(data['RA'], data['modularity_dmn'])\n",
    "plt.plot(data['RA'], line, color='red')\n",
    "plt.xlabel('RA')\n",
    "plt.ylabel('DMN Modularity')\n",
    "\n",
    "print('r = %f, p = %f, std error = %f' % (r_value, p_value, std_err))"
   ]
  },
  {
   "cell_type": "markdown",
   "metadata": {},
   "source": [
    "**Resources**\n",
    "\n",
    "[Statistics in Python](http://gael-varoquaux.info/stats_in_python_tutorial/)\n",
    "\n",
    "[Exploratory Data Analysis in Python](https://www.kaggle.com/ekami66/detailed-exploratory-data-analysis-with-python)"
   ]
  },
  {
   "cell_type": "code",
   "execution_count": 226,
   "metadata": {},
   "outputs": [
    {
     "name": "stdout",
     "output_type": "stream",
     "text": [
      "                            OLS Regression Results                            \n",
      "==============================================================================\n",
      "Dep. Variable:                     IS   R-squared:                       0.146\n",
      "Model:                            OLS   Adj. R-squared:                  0.124\n",
      "Method:                 Least Squares   F-statistic:                     6.511\n",
      "Date:                Fri, 06 Sep 2019   Prob (F-statistic):             0.0149\n",
      "Time:                        08:24:31   Log-Likelihood:                 27.704\n",
      "No. Observations:                  40   AIC:                            -51.41\n",
      "Df Residuals:                      38   BIC:                            -48.03\n",
      "Df Model:                           1                                         \n",
      "Covariance Type:            nonrobust                                         \n",
      "==================================================================================\n",
      "                     coef    std err          t      P>|t|      [0.025      0.975]\n",
      "----------------------------------------------------------------------------------\n",
      "Intercept         -0.5468      0.407     -1.342      0.188      -1.372       0.278\n",
      "modularity_dmn     1.6226      0.636      2.552      0.015       0.335       2.910\n",
      "==============================================================================\n",
      "Omnibus:                        0.987   Durbin-Watson:                   2.364\n",
      "Prob(Omnibus):                  0.610   Jarque-Bera (JB):                1.028\n",
      "Skew:                          -0.288   Prob(JB):                        0.598\n",
      "Kurtosis:                       2.467   Cond. No.                         45.7\n",
      "==============================================================================\n",
      "\n",
      "Warnings:\n",
      "[1] Standard Errors assume that the covariance matrix of the errors is correctly specified.\n"
     ]
    }
   ],
   "source": [
    "from statsmodels.formula.api import ols\n",
    "model = ols(\"IS ~ modularity_dmn\", data).fit()\n",
    "print(model.summary())"
   ]
  },
  {
   "cell_type": "code",
   "execution_count": null,
   "metadata": {},
   "outputs": [],
   "source": []
  }
 ],
 "metadata": {
  "kernelspec": {
   "display_name": "Python 3",
   "language": "python",
   "name": "python3"
  },
  "language_info": {
   "codemirror_mode": {
    "name": "ipython",
    "version": 3
   },
   "file_extension": ".py",
   "mimetype": "text/x-python",
   "name": "python",
   "nbconvert_exporter": "python",
   "pygments_lexer": "ipython3",
   "version": "3.7.3"
  }
 },
 "nbformat": 4,
 "nbformat_minor": 2
}
