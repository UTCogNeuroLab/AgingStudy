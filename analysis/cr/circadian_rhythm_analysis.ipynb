{
 "cells": [
  {
   "cell_type": "markdown",
   "metadata": {},
   "source": [
    "## Circadian Rhythm Summary by Age Group\n"
   ]
  },
  {
   "cell_type": "code",
   "execution_count": 1,
   "metadata": {},
   "outputs": [],
   "source": [
    "import pandas as pd\n",
    "import numpy as np\n",
    "import matplotlib.pyplot as plt\n",
    "%matplotlib inline\n",
    "import seaborn as sns"
   ]
  },
  {
   "cell_type": "code",
   "execution_count": 2,
   "metadata": {},
   "outputs": [
    {
     "data": {
      "text/html": [
       "<div>\n",
       "<style scoped>\n",
       "    .dataframe tbody tr th:only-of-type {\n",
       "        vertical-align: middle;\n",
       "    }\n",
       "\n",
       "    .dataframe tbody tr th {\n",
       "        vertical-align: top;\n",
       "    }\n",
       "\n",
       "    .dataframe thead th {\n",
       "        text-align: right;\n",
       "    }\n",
       "</style>\n",
       "<table border=\"1\" class=\"dataframe\">\n",
       "  <thead>\n",
       "    <tr style=\"text-align: right;\">\n",
       "      <th></th>\n",
       "      <th>record_id</th>\n",
       "      <th>IS</th>\n",
       "      <th>IV</th>\n",
       "      <th>RA</th>\n",
       "      <th>L5</th>\n",
       "      <th>L5_starttime</th>\n",
       "      <th>M10</th>\n",
       "      <th>M10_starttime</th>\n",
       "      <th>L5_start_diff</th>\n",
       "      <th>M10_start_diff</th>\n",
       "    </tr>\n",
       "  </thead>\n",
       "  <tbody>\n",
       "    <tr>\n",
       "      <th>0</th>\n",
       "      <td>30003</td>\n",
       "      <td>0.44</td>\n",
       "      <td>0.88</td>\n",
       "      <td>0.91</td>\n",
       "      <td>12.88</td>\n",
       "      <td>00:47:00</td>\n",
       "      <td>266.26</td>\n",
       "      <td>12:20:00</td>\n",
       "      <td>0.783333</td>\n",
       "      <td>12.333333</td>\n",
       "    </tr>\n",
       "    <tr>\n",
       "      <th>1</th>\n",
       "      <td>30008</td>\n",
       "      <td>0.45</td>\n",
       "      <td>0.62</td>\n",
       "      <td>0.90</td>\n",
       "      <td>7.64</td>\n",
       "      <td>02:27:00</td>\n",
       "      <td>145.23</td>\n",
       "      <td>07:58:00</td>\n",
       "      <td>2.450000</td>\n",
       "      <td>7.966667</td>\n",
       "    </tr>\n",
       "    <tr>\n",
       "      <th>2</th>\n",
       "      <td>30009</td>\n",
       "      <td>0.30</td>\n",
       "      <td>1.27</td>\n",
       "      <td>0.90</td>\n",
       "      <td>12.15</td>\n",
       "      <td>01:02:00</td>\n",
       "      <td>240.94</td>\n",
       "      <td>10:31:00</td>\n",
       "      <td>1.033333</td>\n",
       "      <td>10.516667</td>\n",
       "    </tr>\n",
       "    <tr>\n",
       "      <th>3</th>\n",
       "      <td>30012</td>\n",
       "      <td>0.34</td>\n",
       "      <td>1.18</td>\n",
       "      <td>0.94</td>\n",
       "      <td>7.73</td>\n",
       "      <td>01:34:30</td>\n",
       "      <td>245.98</td>\n",
       "      <td>09:26:30</td>\n",
       "      <td>1.575000</td>\n",
       "      <td>9.441667</td>\n",
       "    </tr>\n",
       "    <tr>\n",
       "      <th>4</th>\n",
       "      <td>30015</td>\n",
       "      <td>0.36</td>\n",
       "      <td>1.57</td>\n",
       "      <td>0.94</td>\n",
       "      <td>6.04</td>\n",
       "      <td>23:32:00</td>\n",
       "      <td>197.96</td>\n",
       "      <td>10:52:00</td>\n",
       "      <td>23.533333</td>\n",
       "      <td>10.866667</td>\n",
       "    </tr>\n",
       "  </tbody>\n",
       "</table>\n",
       "</div>"
      ],
      "text/plain": [
       "   record_id    IS    IV    RA     L5 L5_starttime     M10 M10_starttime  \\\n",
       "0      30003  0.44  0.88  0.91  12.88     00:47:00  266.26      12:20:00   \n",
       "1      30008  0.45  0.62  0.90   7.64     02:27:00  145.23      07:58:00   \n",
       "2      30009  0.30  1.27  0.90  12.15     01:02:00  240.94      10:31:00   \n",
       "3      30012  0.34  1.18  0.94   7.73     01:34:30  245.98      09:26:30   \n",
       "4      30015  0.36  1.57  0.94   6.04     23:32:00  197.96      10:52:00   \n",
       "\n",
       "   L5_start_diff  M10_start_diff  \n",
       "0       0.783333       12.333333  \n",
       "1       2.450000        7.966667  \n",
       "2       1.033333       10.516667  \n",
       "3       1.575000        9.441667  \n",
       "4      23.533333       10.866667  "
      ]
     },
     "execution_count": 2,
     "metadata": {},
     "output_type": "execute_result"
    }
   ],
   "source": [
    "cr = pd.read_csv('/Users/megmcmahon/Box/CogNeuroLab/Aging Decision Making R01/Data/cr/nparact_2019-06-20.csv')\n",
    "cr[:5]"
   ]
  },
  {
   "cell_type": "code",
   "execution_count": 3,
   "metadata": {},
   "outputs": [
    {
     "data": {
      "text/plain": [
       "array([40160, 40170, 40288, 40351, 40496, 40512, 40515, 40519, 40520,\n",
       "       40522, 40524, 40547, 40550, 40564, 40615, 40619, 40623, 40624,\n",
       "       40629, 40638, 40649, 40650, 40655, 40656, 40664, 40668, 40672,\n",
       "       40685, 40694, 40720, 40728, 40738, 40743, 40750, 40758, 40767,\n",
       "       40768, 40769, 40773, 40777, 40778, 40782, 40796, 40803])"
      ]
     },
     "execution_count": 3,
     "metadata": {},
     "output_type": "execute_result"
    }
   ],
   "source": [
    "oa_rest_ids = np.load('/Users/megmcmahon/Box/CogNeuroLab/Aging Decision Making R01/Analysis/REST/REST_oa_list.npy')\n",
    "oa_rest_ids = oa_rest_ids.astype(np.int)\n",
    "oa_rest_ids"
   ]
  },
  {
   "cell_type": "code",
   "execution_count": 4,
   "metadata": {},
   "outputs": [
    {
     "data": {
      "text/html": [
       "<div>\n",
       "<style scoped>\n",
       "    .dataframe tbody tr th:only-of-type {\n",
       "        vertical-align: middle;\n",
       "    }\n",
       "\n",
       "    .dataframe tbody tr th {\n",
       "        vertical-align: top;\n",
       "    }\n",
       "\n",
       "    .dataframe thead th {\n",
       "        text-align: right;\n",
       "    }\n",
       "</style>\n",
       "<table border=\"1\" class=\"dataframe\">\n",
       "  <thead>\n",
       "    <tr style=\"text-align: right;\">\n",
       "      <th></th>\n",
       "      <th>record_id</th>\n",
       "      <th>IS</th>\n",
       "      <th>IV</th>\n",
       "      <th>RA</th>\n",
       "      <th>L5</th>\n",
       "      <th>L5_starttime</th>\n",
       "      <th>M10</th>\n",
       "      <th>M10_starttime</th>\n",
       "      <th>L5_start_diff</th>\n",
       "      <th>M10_start_diff</th>\n",
       "    </tr>\n",
       "  </thead>\n",
       "  <tbody>\n",
       "    <tr>\n",
       "      <th>55</th>\n",
       "      <td>40160</td>\n",
       "      <td>0.60</td>\n",
       "      <td>0.61</td>\n",
       "      <td>0.95</td>\n",
       "      <td>5.58</td>\n",
       "      <td>02:35:30</td>\n",
       "      <td>231.22</td>\n",
       "      <td>10:04:30</td>\n",
       "      <td>2.591667</td>\n",
       "      <td>10.075000</td>\n",
       "    </tr>\n",
       "    <tr>\n",
       "      <th>56</th>\n",
       "      <td>40170</td>\n",
       "      <td>0.25</td>\n",
       "      <td>0.38</td>\n",
       "      <td>0.96</td>\n",
       "      <td>2.65</td>\n",
       "      <td>23:42:30</td>\n",
       "      <td>117.65</td>\n",
       "      <td>06:35:30</td>\n",
       "      <td>23.708333</td>\n",
       "      <td>6.591667</td>\n",
       "    </tr>\n",
       "    <tr>\n",
       "      <th>58</th>\n",
       "      <td>40288</td>\n",
       "      <td>0.68</td>\n",
       "      <td>0.87</td>\n",
       "      <td>0.97</td>\n",
       "      <td>2.59</td>\n",
       "      <td>00:06:30</td>\n",
       "      <td>172.24</td>\n",
       "      <td>07:51:30</td>\n",
       "      <td>0.108333</td>\n",
       "      <td>7.858333</td>\n",
       "    </tr>\n",
       "    <tr>\n",
       "      <th>59</th>\n",
       "      <td>40351</td>\n",
       "      <td>0.38</td>\n",
       "      <td>0.62</td>\n",
       "      <td>0.94</td>\n",
       "      <td>7.21</td>\n",
       "      <td>00:22:00</td>\n",
       "      <td>243.01</td>\n",
       "      <td>09:40:00</td>\n",
       "      <td>0.366667</td>\n",
       "      <td>9.666667</td>\n",
       "    </tr>\n",
       "    <tr>\n",
       "      <th>61</th>\n",
       "      <td>40496</td>\n",
       "      <td>0.67</td>\n",
       "      <td>0.55</td>\n",
       "      <td>0.89</td>\n",
       "      <td>11.69</td>\n",
       "      <td>22:55:30</td>\n",
       "      <td>198.20</td>\n",
       "      <td>10:19:30</td>\n",
       "      <td>22.925000</td>\n",
       "      <td>10.325000</td>\n",
       "    </tr>\n",
       "  </tbody>\n",
       "</table>\n",
       "</div>"
      ],
      "text/plain": [
       "    record_id    IS    IV    RA     L5 L5_starttime     M10 M10_starttime  \\\n",
       "55      40160  0.60  0.61  0.95   5.58     02:35:30  231.22      10:04:30   \n",
       "56      40170  0.25  0.38  0.96   2.65     23:42:30  117.65      06:35:30   \n",
       "58      40288  0.68  0.87  0.97   2.59     00:06:30  172.24      07:51:30   \n",
       "59      40351  0.38  0.62  0.94   7.21     00:22:00  243.01      09:40:00   \n",
       "61      40496  0.67  0.55  0.89  11.69     22:55:30  198.20      10:19:30   \n",
       "\n",
       "    L5_start_diff  M10_start_diff  \n",
       "55       2.591667       10.075000  \n",
       "56      23.708333        6.591667  \n",
       "58       0.108333        7.858333  \n",
       "59       0.366667        9.666667  \n",
       "61      22.925000       10.325000  "
      ]
     },
     "execution_count": 4,
     "metadata": {},
     "output_type": "execute_result"
    }
   ],
   "source": [
    "oa_df = cr[cr['record_id'].isin(oa_rest_ids)]\n",
    "oa_df[:5]"
   ]
  },
  {
   "cell_type": "code",
   "execution_count": 32,
   "metadata": {},
   "outputs": [
    {
     "data": {
      "text/plain": [
       "Int64Index([32], dtype='int64')"
      ]
     },
     "execution_count": 32,
     "metadata": {},
     "output_type": "execute_result"
    }
   ],
   "source": [
    "pd.DataFrame(oa_rest_ids).index[oa_rest_ids == 40743]"
   ]
  },
  {
   "cell_type": "code",
   "execution_count": 5,
   "metadata": {},
   "outputs": [],
   "source": [
    "oa_df.to_csv('/Users/megmcmahon/Box/CogNeuroLab/Aging Decision Making R01/Data/cr/oa_circadian.csv')"
   ]
  },
  {
   "cell_type": "code",
   "execution_count": 6,
   "metadata": {},
   "outputs": [
    {
     "data": {
      "text/html": [
       "<div>\n",
       "<style scoped>\n",
       "    .dataframe tbody tr th:only-of-type {\n",
       "        vertical-align: middle;\n",
       "    }\n",
       "\n",
       "    .dataframe tbody tr th {\n",
       "        vertical-align: top;\n",
       "    }\n",
       "\n",
       "    .dataframe thead th {\n",
       "        text-align: right;\n",
       "    }\n",
       "</style>\n",
       "<table border=\"1\" class=\"dataframe\">\n",
       "  <thead>\n",
       "    <tr style=\"text-align: right;\">\n",
       "      <th></th>\n",
       "      <th>record_id</th>\n",
       "      <th>IS</th>\n",
       "      <th>IV</th>\n",
       "      <th>RA</th>\n",
       "      <th>L5</th>\n",
       "      <th>M10</th>\n",
       "      <th>L5_start_diff</th>\n",
       "      <th>M10_start_diff</th>\n",
       "    </tr>\n",
       "  </thead>\n",
       "  <tbody>\n",
       "    <tr>\n",
       "      <th>count</th>\n",
       "      <td>40.000000</td>\n",
       "      <td>40.000000</td>\n",
       "      <td>40.000000</td>\n",
       "      <td>40.000000</td>\n",
       "      <td>40.000000</td>\n",
       "      <td>40.000000</td>\n",
       "      <td>40.000000</td>\n",
       "      <td>40.000000</td>\n",
       "    </tr>\n",
       "    <tr>\n",
       "      <th>mean</th>\n",
       "      <td>40622.525000</td>\n",
       "      <td>0.491750</td>\n",
       "      <td>0.859500</td>\n",
       "      <td>0.858500</td>\n",
       "      <td>13.118250</td>\n",
       "      <td>164.522500</td>\n",
       "      <td>7.242917</td>\n",
       "      <td>8.627917</td>\n",
       "    </tr>\n",
       "    <tr>\n",
       "      <th>std</th>\n",
       "      <td>159.863722</td>\n",
       "      <td>0.132682</td>\n",
       "      <td>0.263156</td>\n",
       "      <td>0.116367</td>\n",
       "      <td>13.276938</td>\n",
       "      <td>47.973873</td>\n",
       "      <td>9.747745</td>\n",
       "      <td>2.105186</td>\n",
       "    </tr>\n",
       "    <tr>\n",
       "      <th>min</th>\n",
       "      <td>40160.000000</td>\n",
       "      <td>0.200000</td>\n",
       "      <td>0.380000</td>\n",
       "      <td>0.430000</td>\n",
       "      <td>2.170000</td>\n",
       "      <td>91.710000</td>\n",
       "      <td>0.058333</td>\n",
       "      <td>4.408333</td>\n",
       "    </tr>\n",
       "    <tr>\n",
       "      <th>25%</th>\n",
       "      <td>40541.250000</td>\n",
       "      <td>0.410000</td>\n",
       "      <td>0.667500</td>\n",
       "      <td>0.830000</td>\n",
       "      <td>5.060000</td>\n",
       "      <td>129.137500</td>\n",
       "      <td>0.747917</td>\n",
       "      <td>7.068750</td>\n",
       "    </tr>\n",
       "    <tr>\n",
       "      <th>50%</th>\n",
       "      <td>40655.500000</td>\n",
       "      <td>0.495000</td>\n",
       "      <td>0.850000</td>\n",
       "      <td>0.890000</td>\n",
       "      <td>8.950000</td>\n",
       "      <td>163.685000</td>\n",
       "      <td>1.645833</td>\n",
       "      <td>8.158333</td>\n",
       "    </tr>\n",
       "    <tr>\n",
       "      <th>75%</th>\n",
       "      <td>40752.000000</td>\n",
       "      <td>0.575000</td>\n",
       "      <td>1.012500</td>\n",
       "      <td>0.932500</td>\n",
       "      <td>14.445000</td>\n",
       "      <td>189.557500</td>\n",
       "      <td>20.625000</td>\n",
       "      <td>9.693750</td>\n",
       "    </tr>\n",
       "    <tr>\n",
       "      <th>max</th>\n",
       "      <td>40803.000000</td>\n",
       "      <td>0.790000</td>\n",
       "      <td>1.670000</td>\n",
       "      <td>0.970000</td>\n",
       "      <td>65.860000</td>\n",
       "      <td>291.310000</td>\n",
       "      <td>23.708333</td>\n",
       "      <td>14.283333</td>\n",
       "    </tr>\n",
       "  </tbody>\n",
       "</table>\n",
       "</div>"
      ],
      "text/plain": [
       "          record_id         IS         IV         RA         L5         M10  \\\n",
       "count     40.000000  40.000000  40.000000  40.000000  40.000000   40.000000   \n",
       "mean   40622.525000   0.491750   0.859500   0.858500  13.118250  164.522500   \n",
       "std      159.863722   0.132682   0.263156   0.116367  13.276938   47.973873   \n",
       "min    40160.000000   0.200000   0.380000   0.430000   2.170000   91.710000   \n",
       "25%    40541.250000   0.410000   0.667500   0.830000   5.060000  129.137500   \n",
       "50%    40655.500000   0.495000   0.850000   0.890000   8.950000  163.685000   \n",
       "75%    40752.000000   0.575000   1.012500   0.932500  14.445000  189.557500   \n",
       "max    40803.000000   0.790000   1.670000   0.970000  65.860000  291.310000   \n",
       "\n",
       "       L5_start_diff  M10_start_diff  \n",
       "count      40.000000       40.000000  \n",
       "mean        7.242917        8.627917  \n",
       "std         9.747745        2.105186  \n",
       "min         0.058333        4.408333  \n",
       "25%         0.747917        7.068750  \n",
       "50%         1.645833        8.158333  \n",
       "75%        20.625000        9.693750  \n",
       "max        23.708333       14.283333  "
      ]
     },
     "execution_count": 6,
     "metadata": {},
     "output_type": "execute_result"
    }
   ],
   "source": [
    "oa_df.describe()"
   ]
  },
  {
   "cell_type": "code",
   "execution_count": 7,
   "metadata": {},
   "outputs": [
    {
     "data": {
      "text/plain": [
       "array([30004, 30008, 30009, 30012, 30015, 30019, 30020, 30023, 30057,\n",
       "       30064, 30066, 30069, 30074, 30085, 30088, 30090, 30091, 30095,\n",
       "       30096, 30105, 30116, 30118, 30119, 30128, 30217, 30227, 30236,\n",
       "       30242, 30255, 30283, 30295, 30330, 30346, 30376, 30395, 30400,\n",
       "       30412, 30426, 30432, 30466, 30469, 30476, 30478, 30568, 30570,\n",
       "       30581, 30584, 30588])"
      ]
     },
     "execution_count": 7,
     "metadata": {},
     "output_type": "execute_result"
    }
   ],
   "source": [
    "ya_rest_ids = np.load('/Users/megmcmahon/Box/CogNeuroLab/Aging Decision Making R01/Analysis/REST/REST_ya_list.npy')\n",
    "ya_rest_ids = ya_rest_ids.astype(np.int)\n",
    "ya_rest_ids"
   ]
  },
  {
   "cell_type": "code",
   "execution_count": 8,
   "metadata": {},
   "outputs": [
    {
     "data": {
      "text/html": [
       "<div>\n",
       "<style scoped>\n",
       "    .dataframe tbody tr th:only-of-type {\n",
       "        vertical-align: middle;\n",
       "    }\n",
       "\n",
       "    .dataframe tbody tr th {\n",
       "        vertical-align: top;\n",
       "    }\n",
       "\n",
       "    .dataframe thead th {\n",
       "        text-align: right;\n",
       "    }\n",
       "</style>\n",
       "<table border=\"1\" class=\"dataframe\">\n",
       "  <thead>\n",
       "    <tr style=\"text-align: right;\">\n",
       "      <th></th>\n",
       "      <th>record_id</th>\n",
       "      <th>IS</th>\n",
       "      <th>IV</th>\n",
       "      <th>RA</th>\n",
       "      <th>L5</th>\n",
       "      <th>L5_starttime</th>\n",
       "      <th>M10</th>\n",
       "      <th>M10_starttime</th>\n",
       "      <th>L5_start_diff</th>\n",
       "      <th>M10_start_diff</th>\n",
       "    </tr>\n",
       "  </thead>\n",
       "  <tbody>\n",
       "    <tr>\n",
       "      <th>1</th>\n",
       "      <td>30008</td>\n",
       "      <td>0.45</td>\n",
       "      <td>0.62</td>\n",
       "      <td>0.90</td>\n",
       "      <td>7.64</td>\n",
       "      <td>02:27:00</td>\n",
       "      <td>145.23</td>\n",
       "      <td>07:58:00</td>\n",
       "      <td>2.450000</td>\n",
       "      <td>7.966667</td>\n",
       "    </tr>\n",
       "    <tr>\n",
       "      <th>2</th>\n",
       "      <td>30009</td>\n",
       "      <td>0.30</td>\n",
       "      <td>1.27</td>\n",
       "      <td>0.90</td>\n",
       "      <td>12.15</td>\n",
       "      <td>01:02:00</td>\n",
       "      <td>240.94</td>\n",
       "      <td>10:31:00</td>\n",
       "      <td>1.033333</td>\n",
       "      <td>10.516667</td>\n",
       "    </tr>\n",
       "    <tr>\n",
       "      <th>3</th>\n",
       "      <td>30012</td>\n",
       "      <td>0.34</td>\n",
       "      <td>1.18</td>\n",
       "      <td>0.94</td>\n",
       "      <td>7.73</td>\n",
       "      <td>01:34:30</td>\n",
       "      <td>245.98</td>\n",
       "      <td>09:26:30</td>\n",
       "      <td>1.575000</td>\n",
       "      <td>9.441667</td>\n",
       "    </tr>\n",
       "    <tr>\n",
       "      <th>4</th>\n",
       "      <td>30015</td>\n",
       "      <td>0.36</td>\n",
       "      <td>1.57</td>\n",
       "      <td>0.94</td>\n",
       "      <td>6.04</td>\n",
       "      <td>23:32:00</td>\n",
       "      <td>197.96</td>\n",
       "      <td>10:52:00</td>\n",
       "      <td>23.533333</td>\n",
       "      <td>10.866667</td>\n",
       "    </tr>\n",
       "    <tr>\n",
       "      <th>5</th>\n",
       "      <td>30019</td>\n",
       "      <td>0.45</td>\n",
       "      <td>0.77</td>\n",
       "      <td>0.92</td>\n",
       "      <td>5.73</td>\n",
       "      <td>02:41:30</td>\n",
       "      <td>146.39</td>\n",
       "      <td>11:36:30</td>\n",
       "      <td>2.691667</td>\n",
       "      <td>11.608333</td>\n",
       "    </tr>\n",
       "  </tbody>\n",
       "</table>\n",
       "</div>"
      ],
      "text/plain": [
       "   record_id    IS    IV    RA     L5 L5_starttime     M10 M10_starttime  \\\n",
       "1      30008  0.45  0.62  0.90   7.64     02:27:00  145.23      07:58:00   \n",
       "2      30009  0.30  1.27  0.90  12.15     01:02:00  240.94      10:31:00   \n",
       "3      30012  0.34  1.18  0.94   7.73     01:34:30  245.98      09:26:30   \n",
       "4      30015  0.36  1.57  0.94   6.04     23:32:00  197.96      10:52:00   \n",
       "5      30019  0.45  0.77  0.92   5.73     02:41:30  146.39      11:36:30   \n",
       "\n",
       "   L5_start_diff  M10_start_diff  \n",
       "1       2.450000        7.966667  \n",
       "2       1.033333       10.516667  \n",
       "3       1.575000        9.441667  \n",
       "4      23.533333       10.866667  \n",
       "5       2.691667       11.608333  "
      ]
     },
     "execution_count": 8,
     "metadata": {},
     "output_type": "execute_result"
    }
   ],
   "source": [
    "ya_df = cr[cr['record_id'].isin(ya_rest_ids)]\n",
    "ya_df[:5]"
   ]
  },
  {
   "cell_type": "code",
   "execution_count": 9,
   "metadata": {},
   "outputs": [],
   "source": [
    "ya_df.to_csv('/Users/megmcmahon/Box/CogNeuroLab/Aging Decision Making R01/Data/cr/ya_circadian.csv')"
   ]
  },
  {
   "cell_type": "code",
   "execution_count": 10,
   "metadata": {},
   "outputs": [
    {
     "data": {
      "text/html": [
       "<div>\n",
       "<style scoped>\n",
       "    .dataframe tbody tr th:only-of-type {\n",
       "        vertical-align: middle;\n",
       "    }\n",
       "\n",
       "    .dataframe tbody tr th {\n",
       "        vertical-align: top;\n",
       "    }\n",
       "\n",
       "    .dataframe thead th {\n",
       "        text-align: right;\n",
       "    }\n",
       "</style>\n",
       "<table border=\"1\" class=\"dataframe\">\n",
       "  <thead>\n",
       "    <tr style=\"text-align: right;\">\n",
       "      <th></th>\n",
       "      <th>record_id</th>\n",
       "      <th>IS</th>\n",
       "      <th>IV</th>\n",
       "      <th>RA</th>\n",
       "      <th>L5</th>\n",
       "      <th>M10</th>\n",
       "      <th>L5_start_diff</th>\n",
       "      <th>M10_start_diff</th>\n",
       "    </tr>\n",
       "  </thead>\n",
       "  <tbody>\n",
       "    <tr>\n",
       "      <th>count</th>\n",
       "      <td>45.000000</td>\n",
       "      <td>45.000000</td>\n",
       "      <td>45.000000</td>\n",
       "      <td>45.000000</td>\n",
       "      <td>45.000000</td>\n",
       "      <td>45.000000</td>\n",
       "      <td>45.000000</td>\n",
       "      <td>45.000000</td>\n",
       "    </tr>\n",
       "    <tr>\n",
       "      <th>mean</th>\n",
       "      <td>30233.911111</td>\n",
       "      <td>0.398000</td>\n",
       "      <td>0.908667</td>\n",
       "      <td>0.853778</td>\n",
       "      <td>14.050444</td>\n",
       "      <td>167.451333</td>\n",
       "      <td>3.833333</td>\n",
       "      <td>11.363704</td>\n",
       "    </tr>\n",
       "    <tr>\n",
       "      <th>std</th>\n",
       "      <td>188.070686</td>\n",
       "      <td>0.103212</td>\n",
       "      <td>0.260267</td>\n",
       "      <td>0.116761</td>\n",
       "      <td>14.003068</td>\n",
       "      <td>41.924527</td>\n",
       "      <td>5.533851</td>\n",
       "      <td>2.062907</td>\n",
       "    </tr>\n",
       "    <tr>\n",
       "      <th>min</th>\n",
       "      <td>30008.000000</td>\n",
       "      <td>0.130000</td>\n",
       "      <td>0.390000</td>\n",
       "      <td>0.520000</td>\n",
       "      <td>0.000000</td>\n",
       "      <td>86.940000</td>\n",
       "      <td>0.016667</td>\n",
       "      <td>5.875000</td>\n",
       "    </tr>\n",
       "    <tr>\n",
       "      <th>25%</th>\n",
       "      <td>30074.000000</td>\n",
       "      <td>0.330000</td>\n",
       "      <td>0.740000</td>\n",
       "      <td>0.830000</td>\n",
       "      <td>5.900000</td>\n",
       "      <td>133.720000</td>\n",
       "      <td>1.575000</td>\n",
       "      <td>10.266667</td>\n",
       "    </tr>\n",
       "    <tr>\n",
       "      <th>50%</th>\n",
       "      <td>30217.000000</td>\n",
       "      <td>0.420000</td>\n",
       "      <td>0.890000</td>\n",
       "      <td>0.900000</td>\n",
       "      <td>8.960000</td>\n",
       "      <td>160.330000</td>\n",
       "      <td>2.375000</td>\n",
       "      <td>11.608333</td>\n",
       "    </tr>\n",
       "    <tr>\n",
       "      <th>75%</th>\n",
       "      <td>30400.000000</td>\n",
       "      <td>0.460000</td>\n",
       "      <td>1.070000</td>\n",
       "      <td>0.930000</td>\n",
       "      <td>14.450000</td>\n",
       "      <td>190.750000</td>\n",
       "      <td>3.525000</td>\n",
       "      <td>12.866667</td>\n",
       "    </tr>\n",
       "    <tr>\n",
       "      <th>max</th>\n",
       "      <td>30584.000000</td>\n",
       "      <td>0.580000</td>\n",
       "      <td>1.570000</td>\n",
       "      <td>1.000000</td>\n",
       "      <td>66.740000</td>\n",
       "      <td>260.140000</td>\n",
       "      <td>23.958333</td>\n",
       "      <td>15.191667</td>\n",
       "    </tr>\n",
       "  </tbody>\n",
       "</table>\n",
       "</div>"
      ],
      "text/plain": [
       "          record_id         IS         IV         RA         L5         M10  \\\n",
       "count     45.000000  45.000000  45.000000  45.000000  45.000000   45.000000   \n",
       "mean   30233.911111   0.398000   0.908667   0.853778  14.050444  167.451333   \n",
       "std      188.070686   0.103212   0.260267   0.116761  14.003068   41.924527   \n",
       "min    30008.000000   0.130000   0.390000   0.520000   0.000000   86.940000   \n",
       "25%    30074.000000   0.330000   0.740000   0.830000   5.900000  133.720000   \n",
       "50%    30217.000000   0.420000   0.890000   0.900000   8.960000  160.330000   \n",
       "75%    30400.000000   0.460000   1.070000   0.930000  14.450000  190.750000   \n",
       "max    30584.000000   0.580000   1.570000   1.000000  66.740000  260.140000   \n",
       "\n",
       "       L5_start_diff  M10_start_diff  \n",
       "count      45.000000       45.000000  \n",
       "mean        3.833333       11.363704  \n",
       "std         5.533851        2.062907  \n",
       "min         0.016667        5.875000  \n",
       "25%         1.575000       10.266667  \n",
       "50%         2.375000       11.608333  \n",
       "75%         3.525000       12.866667  \n",
       "max        23.958333       15.191667  "
      ]
     },
     "execution_count": 10,
     "metadata": {},
     "output_type": "execute_result"
    }
   ],
   "source": [
    "ya_df.describe()"
   ]
  },
  {
   "cell_type": "code",
   "execution_count": 11,
   "metadata": {},
   "outputs": [
    {
     "name": "stderr",
     "output_type": "stream",
     "text": [
      "/usr/local/lib/python3.7/site-packages/scipy/stats/stats.py:1713: FutureWarning: Using a non-tuple sequence for multidimensional indexing is deprecated; use `arr[tuple(seq)]` instead of `arr[seq]`. In the future this will be interpreted as an array index, `arr[np.array(seq)]`, which will result either in an error or a different result.\n",
      "  return np.add.reduce(sorted[indexer] * weights, axis=axis) / sumval\n"
     ]
    },
    {
     "data": {
      "text/plain": [
       "Text(0.5, 1.0, 'Interdailty Stability')"
      ]
     },
     "execution_count": 11,
     "metadata": {},
     "output_type": "execute_result"
    },
    {
     "data": {
      "image/png": "[encoded data removed]",
      "text/plain": [
       "<Figure size 432x288 with 1 Axes>"
      ]
     },
     "metadata": {
      "needs_background": "light"
     },
     "output_type": "display_data"
    }
   ],
   "source": [
    "cr['group'] = np.where(cr['record_id'] < 40000, 'Young Adults', 'Older Adults')\n",
    "\n",
    "current_palette = sns.set_palette(\"colorblind\")\n",
    "\n",
    "sns.violinplot(x = cr['group'], y = cr['IS'], hue = cr['group'])\n",
    "plt.title('Interdailty Stability')"
   ]
  },
  {
   "cell_type": "code",
   "execution_count": 12,
   "metadata": {},
   "outputs": [
    {
     "data": {
      "text/plain": [
       "Text(0.5, 1.0, 'Intradaily Variability')"
      ]
     },
     "execution_count": 12,
     "metadata": {},
     "output_type": "execute_result"
    },
    {
     "data": {
      "image/png": "[encoded data removed]",
      "text/plain": [
       "<Figure size 432x288 with 1 Axes>"
      ]
     },
     "metadata": {
      "needs_background": "light"
     },
     "output_type": "display_data"
    }
   ],
   "source": [
    "sns.violinplot(x = cr['group'], y = cr['IV'], hue = cr['group'])\n",
    "plt.title('Intradaily Variability')"
   ]
  },
  {
   "cell_type": "code",
   "execution_count": 13,
   "metadata": {},
   "outputs": [
    {
     "data": {
      "text/plain": [
       "Text(0.5, 1.0, 'Relative Amplitude')"
      ]
     },
     "execution_count": 13,
     "metadata": {},
     "output_type": "execute_result"
    },
    {
     "data": {
      "image/png": "[encoded data removed]",
      "text/plain": [
       "<Figure size 432x288 with 1 Axes>"
      ]
     },
     "metadata": {
      "needs_background": "light"
     },
     "output_type": "display_data"
    }
   ],
   "source": [
    "sns.violinplot(x = cr['group'], y = cr['RA'], hue = cr['group'])\n",
    "plt.title('Relative Amplitude')"
   ]
  },
  {
   "cell_type": "code",
   "execution_count": null,
   "metadata": {},
   "outputs": [],
   "source": []
  }
 ],
 "metadata": {
  "kernelspec": {
   "display_name": "Python 3",
   "language": "python",
   "name": "python3"
  },
  "language_info": {
   "codemirror_mode": {
    "name": "ipython",
    "version": 3
   },
   "file_extension": ".py",
   "mimetype": "text/x-python",
   "name": "python",
   "nbconvert_exporter": "python",
   "pygments_lexer": "ipython3",
   "version": "3.7.3"
  }
 },
 "nbformat": 4,
 "nbformat_minor": 2
}
