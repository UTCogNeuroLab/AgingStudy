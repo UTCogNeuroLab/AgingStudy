{
 "cells": [
  {
   "cell_type": "markdown",
   "metadata": {},
   "source": [
    "## Neuropsych Analysis\n",
    "\n",
    "**WAIS-IV Vocabulary** <br>\n",
    "**Trails Making Test A & B** <br>\n",
    "**WAIS-IV Digit Span** <br>\n",
    "**Stroop Task** - OA only <br>\n",
    "**California Verbal Learning Test (CVLT-II)** - OA only <br>\n",
    "**Controlled Oral Word Association Test (COWAT/FAS)** - OA only <br>\n",
    "**WMS-IV Logical Memory I & II** - OA only, if indicated <br>"
   ]
  },
  {
   "cell_type": "code",
   "execution_count": 1,
   "metadata": {},
   "outputs": [],
   "source": [
    "import os\n",
    "import pandas as pd\n",
    "import numpy as np\n",
    "import matplotlib.pyplot as plt\n",
    "%matplotlib inline\n",
    "import seaborn as sns"
   ]
  },
  {
   "cell_type": "code",
   "execution_count": 2,
   "metadata": {},
   "outputs": [],
   "source": [
    "from pathlib import Path\n",
    "home_dir = str(Path.home())\n",
    "work_dir = os.path.join(home_dir, 'Box/CogNeuroLab/Aging Decision Making R01')"
   ]
  },
  {
   "cell_type": "code",
   "execution_count": 2,
   "metadata": {},
   "outputs": [
    {
     "data": {
      "text/html": [
       "<div>\n",
       "<style scoped>\n",
       "    .dataframe tbody tr th:only-of-type {\n",
       "        vertical-align: middle;\n",
       "    }\n",
       "\n",
       "    .dataframe tbody tr th {\n",
       "        vertical-align: top;\n",
       "    }\n",
       "\n",
       "    .dataframe thead th {\n",
       "        text-align: right;\n",
       "    }\n",
       "</style>\n",
       "<table border=\"1\" class=\"dataframe\">\n",
       "  <thead>\n",
       "    <tr style=\"text-align: right;\">\n",
       "      <th></th>\n",
       "      <th>record_id</th>\n",
       "      <th>Executive function</th>\n",
       "      <th>Verbal *Don't assess</th>\n",
       "      <th>Memory</th>\n",
       "    </tr>\n",
       "  </thead>\n",
       "  <tbody>\n",
       "    <tr>\n",
       "      <th>0</th>\n",
       "      <td>40168</td>\n",
       "      <td>0.260940</td>\n",
       "      <td>2.00</td>\n",
       "      <td>0.0</td>\n",
       "    </tr>\n",
       "    <tr>\n",
       "      <th>1</th>\n",
       "      <td>40170</td>\n",
       "      <td>-0.355677</td>\n",
       "      <td>0.00</td>\n",
       "      <td>0.0</td>\n",
       "    </tr>\n",
       "    <tr>\n",
       "      <th>2</th>\n",
       "      <td>40160</td>\n",
       "      <td>0.396436</td>\n",
       "      <td>2.33</td>\n",
       "      <td>0.0</td>\n",
       "    </tr>\n",
       "    <tr>\n",
       "      <th>3</th>\n",
       "      <td>40351</td>\n",
       "      <td>0.136774</td>\n",
       "      <td>2.00</td>\n",
       "      <td>0.0</td>\n",
       "    </tr>\n",
       "    <tr>\n",
       "      <th>4</th>\n",
       "      <td>40500</td>\n",
       "      <td>-0.638460</td>\n",
       "      <td>0.00</td>\n",
       "      <td>0.0</td>\n",
       "    </tr>\n",
       "  </tbody>\n",
       "</table>\n",
       "</div>"
      ],
      "text/plain": [
       "  record_id  Executive function  Verbal *Don't assess  Memory\n",
       "0     40168            0.260940                  2.00     0.0\n",
       "1     40170           -0.355677                  0.00     0.0\n",
       "2     40160            0.396436                  2.33     0.0\n",
       "3     40351            0.136774                  2.00     0.0\n",
       "4     40500           -0.638460                  0.00     0.0"
      ]
     },
     "execution_count": 2,
     "metadata": {},
     "output_type": "execute_result"
    }
   ],
   "source": [
    "oa_neuro_z = pd.read_excel(os.path.join(work_dir, 'Data/Neuropsych/Neuropsych_Data_OA.xlsx'), sheet_name='TOTALS')\n",
    "oa_neuro_z[:5]"
   ]
  },
  {
   "cell_type": "code",
   "execution_count": 16,
   "metadata": {},
   "outputs": [
    {
     "data": {
      "text/plain": [
       "array([40160, 40170, 40288, 40351, 40496, 40512, 40515, 40519, 40520,\n",
       "       40522, 40524, 40547, 40550, 40564, 40615, 40619, 40623, 40624,\n",
       "       40629, 40638, 40649, 40650, 40655, 40656, 40664, 40668, 40672,\n",
       "       40685, 40694, 40720, 40728, 40738, 40743, 40750, 40758, 40767,\n",
       "       40768, 40769, 40773, 40777, 40778, 40782, 40796, 40803])"
      ]
     },
     "execution_count": 16,
     "metadata": {},
     "output_type": "execute_result"
    }
   ],
   "source": [
    "oa_rest_ids = np.load(os.path.join(work_dir, 'Analysis/REST/REST_oa_list.npy'))\n",
    "oa_rest_ids = oa_rest_ids.astype(np.int)\n",
    "oa_rest_ids"
   ]
  },
  {
   "cell_type": "code",
   "execution_count": 4,
   "metadata": {},
   "outputs": [
    {
     "data": {
      "text/html": [
       "<div>\n",
       "<style scoped>\n",
       "    .dataframe tbody tr th:only-of-type {\n",
       "        vertical-align: middle;\n",
       "    }\n",
       "\n",
       "    .dataframe tbody tr th {\n",
       "        vertical-align: top;\n",
       "    }\n",
       "\n",
       "    .dataframe thead th {\n",
       "        text-align: right;\n",
       "    }\n",
       "</style>\n",
       "<table border=\"1\" class=\"dataframe\">\n",
       "  <thead>\n",
       "    <tr style=\"text-align: right;\">\n",
       "      <th></th>\n",
       "      <th>record_id</th>\n",
       "      <th>Executive function</th>\n",
       "      <th>Verbal *Don't assess</th>\n",
       "      <th>Memory</th>\n",
       "    </tr>\n",
       "  </thead>\n",
       "  <tbody>\n",
       "    <tr>\n",
       "      <th>1</th>\n",
       "      <td>40170</td>\n",
       "      <td>-0.355677</td>\n",
       "      <td>0.00</td>\n",
       "      <td>0.0</td>\n",
       "    </tr>\n",
       "    <tr>\n",
       "      <th>2</th>\n",
       "      <td>40160</td>\n",
       "      <td>0.396436</td>\n",
       "      <td>2.33</td>\n",
       "      <td>0.0</td>\n",
       "    </tr>\n",
       "    <tr>\n",
       "      <th>3</th>\n",
       "      <td>40351</td>\n",
       "      <td>0.136774</td>\n",
       "      <td>2.00</td>\n",
       "      <td>0.0</td>\n",
       "    </tr>\n",
       "    <tr>\n",
       "      <th>4</th>\n",
       "      <td>40500</td>\n",
       "      <td>-0.638460</td>\n",
       "      <td>0.00</td>\n",
       "      <td>0.0</td>\n",
       "    </tr>\n",
       "    <tr>\n",
       "      <th>5</th>\n",
       "      <td>40490</td>\n",
       "      <td>1.161177</td>\n",
       "      <td>2.67</td>\n",
       "      <td>0.0</td>\n",
       "    </tr>\n",
       "  </tbody>\n",
       "</table>\n",
       "</div>"
      ],
      "text/plain": [
       "  record_id  Executive function  Verbal *Don't assess  Memory\n",
       "1     40170           -0.355677                  0.00     0.0\n",
       "2     40160            0.396436                  2.33     0.0\n",
       "3     40351            0.136774                  2.00     0.0\n",
       "4     40500           -0.638460                  0.00     0.0\n",
       "5     40490            1.161177                  2.67     0.0"
      ]
     },
     "execution_count": 4,
     "metadata": {},
     "output_type": "execute_result"
    }
   ],
   "source": [
    "oa_df = oa_neuro_z[oa_neuro_z['record_id'].isin(oa_rest_ids)]\n",
    "oa_df[:5]"
   ]
  },
  {
   "cell_type": "code",
   "execution_count": 5,
   "metadata": {},
   "outputs": [],
   "source": [
    "oa_df.to_csv(os.path.join(work_dir, 'Analysis/neuropsych/oa_neuropsych_zscores.csv'))"
   ]
  },
  {
   "cell_type": "code",
   "execution_count": 6,
   "metadata": {},
   "outputs": [
    {
     "data": {
      "text/html": [
       "<div>\n",
       "<style scoped>\n",
       "    .dataframe tbody tr th:only-of-type {\n",
       "        vertical-align: middle;\n",
       "    }\n",
       "\n",
       "    .dataframe tbody tr th {\n",
       "        vertical-align: top;\n",
       "    }\n",
       "\n",
       "    .dataframe thead th {\n",
       "        text-align: right;\n",
       "    }\n",
       "</style>\n",
       "<table border=\"1\" class=\"dataframe\">\n",
       "  <thead>\n",
       "    <tr style=\"text-align: right;\">\n",
       "      <th></th>\n",
       "      <th>Executive function</th>\n",
       "      <th>Verbal *Don't assess</th>\n",
       "      <th>Memory</th>\n",
       "    </tr>\n",
       "  </thead>\n",
       "  <tbody>\n",
       "    <tr>\n",
       "      <th>count</th>\n",
       "      <td>52.000000</td>\n",
       "      <td>52.000000</td>\n",
       "      <td>52.000000</td>\n",
       "    </tr>\n",
       "    <tr>\n",
       "      <th>mean</th>\n",
       "      <td>0.380905</td>\n",
       "      <td>1.321154</td>\n",
       "      <td>0.213462</td>\n",
       "    </tr>\n",
       "    <tr>\n",
       "      <th>std</th>\n",
       "      <td>0.617241</td>\n",
       "      <td>0.992273</td>\n",
       "      <td>0.720574</td>\n",
       "    </tr>\n",
       "    <tr>\n",
       "      <th>min</th>\n",
       "      <td>-1.135637</td>\n",
       "      <td>-1.670000</td>\n",
       "      <td>-1.300000</td>\n",
       "    </tr>\n",
       "    <tr>\n",
       "      <th>25%</th>\n",
       "      <td>0.057865</td>\n",
       "      <td>0.670000</td>\n",
       "      <td>-0.200000</td>\n",
       "    </tr>\n",
       "    <tr>\n",
       "      <th>50%</th>\n",
       "      <td>0.394599</td>\n",
       "      <td>1.500000</td>\n",
       "      <td>0.050000</td>\n",
       "    </tr>\n",
       "    <tr>\n",
       "      <th>75%</th>\n",
       "      <td>0.881292</td>\n",
       "      <td>2.000000</td>\n",
       "      <td>0.725000</td>\n",
       "    </tr>\n",
       "    <tr>\n",
       "      <th>max</th>\n",
       "      <td>1.839235</td>\n",
       "      <td>3.000000</td>\n",
       "      <td>1.900000</td>\n",
       "    </tr>\n",
       "  </tbody>\n",
       "</table>\n",
       "</div>"
      ],
      "text/plain": [
       "       Executive function  Verbal *Don't assess     Memory\n",
       "count           52.000000             52.000000  52.000000\n",
       "mean             0.380905              1.321154   0.213462\n",
       "std              0.617241              0.992273   0.720574\n",
       "min             -1.135637             -1.670000  -1.300000\n",
       "25%              0.057865              0.670000  -0.200000\n",
       "50%              0.394599              1.500000   0.050000\n",
       "75%              0.881292              2.000000   0.725000\n",
       "max              1.839235              3.000000   1.900000"
      ]
     },
     "execution_count": 6,
     "metadata": {},
     "output_type": "execute_result"
    }
   ],
   "source": [
    "oa_df.describe()"
   ]
  },
  {
   "cell_type": "code",
   "execution_count": 7,
   "metadata": {},
   "outputs": [
    {
     "name": "stderr",
     "output_type": "stream",
     "text": [
      "/usr/local/lib/python3.7/site-packages/scipy/stats/stats.py:1713: FutureWarning: Using a non-tuple sequence for multidimensional indexing is deprecated; use `arr[tuple(seq)]` instead of `arr[seq]`. In the future this will be interpreted as an array index, `arr[np.array(seq)]`, which will result either in an error or a different result.\n",
      "  return np.add.reduce(sorted[indexer] * weights, axis=axis) / sumval\n"
     ]
    },
    {
     "data": {
      "text/plain": [
       "Text(0.5, 1.0, 'Older Adult Executive Function Z-scores')"
      ]
     },
     "execution_count": 7,
     "metadata": {},
     "output_type": "execute_result"
    },
    {
     "data": {
      "image/png": "[encoded data removed]",
      "text/plain": [
       "<Figure size 432x288 with 1 Axes>"
      ]
     },
     "metadata": {
      "needs_background": "light"
     },
     "output_type": "display_data"
    }
   ],
   "source": [
    "sns.violinplot(oa_df['Executive function'])\n",
    "plt.title('Older Adult Executive Function Z-scores')"
   ]
  },
  {
   "cell_type": "code",
   "execution_count": 8,
   "metadata": {},
   "outputs": [
    {
     "data": {
      "text/plain": [
       "Text(0.5, 1.0, 'Older Adult Memory Z-scores')"
      ]
     },
     "execution_count": 8,
     "metadata": {},
     "output_type": "execute_result"
    },
    {
     "data": {
      "image/png": "[encoded data removed]",
      "text/plain": [
       "<Figure size 432x288 with 1 Axes>"
      ]
     },
     "metadata": {
      "needs_background": "light"
     },
     "output_type": "display_data"
    }
   ],
   "source": [
    "sns.violinplot(oa_df['Memory'])\n",
    "plt.title('Older Adult Memory Z-scores')"
   ]
  },
  {
   "cell_type": "code",
   "execution_count": 9,
   "metadata": {},
   "outputs": [
    {
     "data": {
      "text/html": [
       "<div>\n",
       "<style scoped>\n",
       "    .dataframe tbody tr th:only-of-type {\n",
       "        vertical-align: middle;\n",
       "    }\n",
       "\n",
       "    .dataframe tbody tr th {\n",
       "        vertical-align: top;\n",
       "    }\n",
       "\n",
       "    .dataframe thead th {\n",
       "        text-align: right;\n",
       "    }\n",
       "</style>\n",
       "<table border=\"1\" class=\"dataframe\">\n",
       "  <thead>\n",
       "    <tr style=\"text-align: right;\">\n",
       "      <th></th>\n",
       "      <th>record_id</th>\n",
       "      <th>Z-score average</th>\n",
       "    </tr>\n",
       "  </thead>\n",
       "  <tbody>\n",
       "    <tr>\n",
       "      <th>0</th>\n",
       "      <td>30004</td>\n",
       "      <td>0.286324</td>\n",
       "    </tr>\n",
       "    <tr>\n",
       "      <th>1</th>\n",
       "      <td>30003</td>\n",
       "      <td>0.035266</td>\n",
       "    </tr>\n",
       "    <tr>\n",
       "      <th>2</th>\n",
       "      <td>30009</td>\n",
       "      <td>0.781530</td>\n",
       "    </tr>\n",
       "    <tr>\n",
       "      <th>3</th>\n",
       "      <td>30012</td>\n",
       "      <td>1.243673</td>\n",
       "    </tr>\n",
       "    <tr>\n",
       "      <th>4</th>\n",
       "      <td>30064</td>\n",
       "      <td>1.107756</td>\n",
       "    </tr>\n",
       "  </tbody>\n",
       "</table>\n",
       "</div>"
      ],
      "text/plain": [
       "  record_id  Z-score average\n",
       "0     30004         0.286324\n",
       "1     30003         0.035266\n",
       "2     30009         0.781530\n",
       "3     30012         1.243673\n",
       "4     30064         1.107756"
      ]
     },
     "execution_count": 9,
     "metadata": {},
     "output_type": "execute_result"
    }
   ],
   "source": [
    "ya_neuro_z = pd.read_excel(os.path.join(work_dir, 'Data/Neuropsych/Neuropsych_Data_YA.xlsx'), sheet_name='TOTALS')\n",
    "ya_neuro_z[:5]"
   ]
  },
  {
   "cell_type": "code",
   "execution_count": 15,
   "metadata": {},
   "outputs": [
    {
     "data": {
      "text/plain": [
       "array([30004, 30008, 30009, 30012, 30015, 30019, 30020, 30023, 30057,\n",
       "       30064, 30066, 30069, 30074, 30085, 30088, 30090, 30091, 30095,\n",
       "       30096, 30105, 30116, 30118, 30119, 30128, 30217, 30227, 30236,\n",
       "       30242, 30255, 30283, 30295, 30330, 30346, 30376, 30395, 30400,\n",
       "       30412, 30426, 30432, 30466, 30469, 30476, 30478, 30568, 30570,\n",
       "       30581, 30584, 30588])"
      ]
     },
     "execution_count": 15,
     "metadata": {},
     "output_type": "execute_result"
    }
   ],
   "source": [
    "ya_rest_ids = np.load(os.path.join(work_dir, 'Analysis/REST/REST_ya_list.npy'))\n",
    "ya_rest_ids = ya_rest_ids.astype(np.int)\n",
    "ya_rest_ids"
   ]
  },
  {
   "cell_type": "code",
   "execution_count": 11,
   "metadata": {},
   "outputs": [
    {
     "data": {
      "text/html": [
       "<div>\n",
       "<style scoped>\n",
       "    .dataframe tbody tr th:only-of-type {\n",
       "        vertical-align: middle;\n",
       "    }\n",
       "\n",
       "    .dataframe tbody tr th {\n",
       "        vertical-align: top;\n",
       "    }\n",
       "\n",
       "    .dataframe thead th {\n",
       "        text-align: right;\n",
       "    }\n",
       "</style>\n",
       "<table border=\"1\" class=\"dataframe\">\n",
       "  <thead>\n",
       "    <tr style=\"text-align: right;\">\n",
       "      <th></th>\n",
       "      <th>record_id</th>\n",
       "      <th>Z-score average</th>\n",
       "    </tr>\n",
       "  </thead>\n",
       "  <tbody>\n",
       "    <tr>\n",
       "      <th>0</th>\n",
       "      <td>30004</td>\n",
       "      <td>0.286324</td>\n",
       "    </tr>\n",
       "    <tr>\n",
       "      <th>2</th>\n",
       "      <td>30009</td>\n",
       "      <td>0.781530</td>\n",
       "    </tr>\n",
       "    <tr>\n",
       "      <th>3</th>\n",
       "      <td>30012</td>\n",
       "      <td>1.243673</td>\n",
       "    </tr>\n",
       "    <tr>\n",
       "      <th>4</th>\n",
       "      <td>30064</td>\n",
       "      <td>1.107756</td>\n",
       "    </tr>\n",
       "    <tr>\n",
       "      <th>5</th>\n",
       "      <td>30020</td>\n",
       "      <td>1.123931</td>\n",
       "    </tr>\n",
       "  </tbody>\n",
       "</table>\n",
       "</div>"
      ],
      "text/plain": [
       "  record_id  Z-score average\n",
       "0     30004         0.286324\n",
       "2     30009         0.781530\n",
       "3     30012         1.243673\n",
       "4     30064         1.107756\n",
       "5     30020         1.123931"
      ]
     },
     "execution_count": 11,
     "metadata": {},
     "output_type": "execute_result"
    }
   ],
   "source": [
    "ya_df = ya_neuro_z[ya_neuro_z['record_id'].isin(ya_rest_ids)]\n",
    "ya_df[:5]"
   ]
  },
  {
   "cell_type": "code",
   "execution_count": 12,
   "metadata": {},
   "outputs": [],
   "source": [
    "ya_df.to_csv(os.path.join(work_dir, 'Analysis/neuropsych/ya_neuropsych_zscores.csv'))"
   ]
  },
  {
   "cell_type": "code",
   "execution_count": 13,
   "metadata": {},
   "outputs": [
    {
     "data": {
      "text/html": [
       "<div>\n",
       "<style scoped>\n",
       "    .dataframe tbody tr th:only-of-type {\n",
       "        vertical-align: middle;\n",
       "    }\n",
       "\n",
       "    .dataframe tbody tr th {\n",
       "        vertical-align: top;\n",
       "    }\n",
       "\n",
       "    .dataframe thead th {\n",
       "        text-align: right;\n",
       "    }\n",
       "</style>\n",
       "<table border=\"1\" class=\"dataframe\">\n",
       "  <thead>\n",
       "    <tr style=\"text-align: right;\">\n",
       "      <th></th>\n",
       "      <th>Z-score average</th>\n",
       "    </tr>\n",
       "  </thead>\n",
       "  <tbody>\n",
       "    <tr>\n",
       "      <th>count</th>\n",
       "      <td>51.000000</td>\n",
       "    </tr>\n",
       "    <tr>\n",
       "      <th>mean</th>\n",
       "      <td>0.630550</td>\n",
       "    </tr>\n",
       "    <tr>\n",
       "      <th>std</th>\n",
       "      <td>0.665494</td>\n",
       "    </tr>\n",
       "    <tr>\n",
       "      <th>min</th>\n",
       "      <td>-0.871532</td>\n",
       "    </tr>\n",
       "    <tr>\n",
       "      <th>25%</th>\n",
       "      <td>0.326105</td>\n",
       "    </tr>\n",
       "    <tr>\n",
       "      <th>50%</th>\n",
       "      <td>0.736327</td>\n",
       "    </tr>\n",
       "    <tr>\n",
       "      <th>75%</th>\n",
       "      <td>1.097454</td>\n",
       "    </tr>\n",
       "    <tr>\n",
       "      <th>max</th>\n",
       "      <td>1.697893</td>\n",
       "    </tr>\n",
       "  </tbody>\n",
       "</table>\n",
       "</div>"
      ],
      "text/plain": [
       "       Z-score average\n",
       "count        51.000000\n",
       "mean          0.630550\n",
       "std           0.665494\n",
       "min          -0.871532\n",
       "25%           0.326105\n",
       "50%           0.736327\n",
       "75%           1.097454\n",
       "max           1.697893"
      ]
     },
     "execution_count": 13,
     "metadata": {},
     "output_type": "execute_result"
    }
   ],
   "source": [
    "ya_df.describe()"
   ]
  },
  {
   "cell_type": "code",
   "execution_count": 15,
   "metadata": {},
   "outputs": [
    {
     "data": {
      "text/plain": [
       "Text(0.5, 1.0, 'Young Adult Mean Z-scores')"
      ]
     },
     "execution_count": 15,
     "metadata": {},
     "output_type": "execute_result"
    },
    {
     "data": {
      "image/png": "[encoded data removed]",
      "text/plain": [
       "<Figure size 432x288 with 1 Axes>"
      ]
     },
     "metadata": {
      "needs_background": "light"
     },
     "output_type": "display_data"
    }
   ],
   "source": [
    "sns.violinplot(ya_df['Z-score average'])\n",
    "plt.title('Young Adult Mean Z-scores')"
   ]
  },
  {
   "cell_type": "code",
   "execution_count": 81,
   "metadata": {},
   "outputs": [
    {
     "data": {
      "text/html": [
       "<div>\n",
       "<style scoped>\n",
       "    .dataframe tbody tr th:only-of-type {\n",
       "        vertical-align: middle;\n",
       "    }\n",
       "\n",
       "    .dataframe tbody tr th {\n",
       "        vertical-align: top;\n",
       "    }\n",
       "\n",
       "    .dataframe thead th {\n",
       "        text-align: right;\n",
       "    }\n",
       "</style>\n",
       "<table border=\"1\" class=\"dataframe\">\n",
       "  <thead>\n",
       "    <tr style=\"text-align: right;\">\n",
       "      <th></th>\n",
       "      <th>record_id</th>\n",
       "      <th>trails_b_z_score</th>\n",
       "    </tr>\n",
       "  </thead>\n",
       "  <tbody>\n",
       "    <tr>\n",
       "      <th>1</th>\n",
       "      <td>30004</td>\n",
       "      <td>-0.673139</td>\n",
       "    </tr>\n",
       "    <tr>\n",
       "      <th>2</th>\n",
       "      <td>30008</td>\n",
       "      <td>-0.869188</td>\n",
       "    </tr>\n",
       "    <tr>\n",
       "      <th>3</th>\n",
       "      <td>30009</td>\n",
       "      <td>-0.834951</td>\n",
       "    </tr>\n",
       "    <tr>\n",
       "      <th>4</th>\n",
       "      <td>30012</td>\n",
       "      <td>-0.268608</td>\n",
       "    </tr>\n",
       "    <tr>\n",
       "      <th>5</th>\n",
       "      <td>30015</td>\n",
       "      <td>-1.563107</td>\n",
       "    </tr>\n",
       "  </tbody>\n",
       "</table>\n",
       "</div>"
      ],
      "text/plain": [
       "   record_id  trails_b_z_score\n",
       "1      30004         -0.673139\n",
       "2      30008         -0.869188\n",
       "3      30009         -0.834951\n",
       "4      30012         -0.268608\n",
       "5      30015         -1.563107"
      ]
     },
     "execution_count": 81,
     "metadata": {},
     "output_type": "execute_result"
    }
   ],
   "source": [
    "trails = pd.read_csv(os.path.join(work_dir, 'Data/Neuropsych/AgingDecMemNeuropsyc_DATA_2019-06-12_0708.csv'), usecols=['record_id', 'trails_b_z_score'])\n",
    "trails = trails[trails['record_id'].isin(rest_ids)]\n",
    "trails[:5]"
   ]
  },
  {
   "cell_type": "code",
   "execution_count": 20,
   "metadata": {},
   "outputs": [
    {
     "data": {
      "text/plain": [
       "array([30004, 30008, 30009, 30012, 30015, 30019, 30020, 30023, 30057,\n",
       "       30064, 30066, 30069, 30074, 30085, 30088, 30090, 30091, 30095,\n",
       "       30096, 30105, 30116, 30118, 30119, 30128, 30217, 30227, 30236,\n",
       "       30242, 30255, 30283, 30295, 30330, 30346, 30376, 30395, 30400,\n",
       "       30412, 30426, 30432, 30466, 30469, 30476, 30478, 30568, 30570,\n",
       "       30581, 30584, 30588, 40160, 40170, 40288, 40351, 40496, 40512,\n",
       "       40515, 40519, 40520, 40522, 40524, 40547, 40550, 40564, 40615,\n",
       "       40619, 40623, 40624, 40629, 40638, 40649, 40650, 40655, 40656,\n",
       "       40664, 40668, 40672, 40685, 40694, 40720, 40728, 40738, 40743,\n",
       "       40750, 40758, 40767, 40768, 40769, 40773, 40777, 40778, 40782,\n",
       "       40796, 40803])"
      ]
     },
     "execution_count": 20,
     "metadata": {},
     "output_type": "execute_result"
    }
   ],
   "source": [
    "rest_ids = np.concatenate((ya_rest_ids, oa_rest_ids))\n",
    "rest_ids"
   ]
  },
  {
   "cell_type": "code",
   "execution_count": 56,
   "metadata": {},
   "outputs": [
    {
     "data": {
      "text/plain": [
       "92"
      ]
     },
     "execution_count": 56,
     "metadata": {},
     "output_type": "execute_result"
    }
   ],
   "source": [
    "oa_ds = pd.read_excel(os.path.join(work_dir, 'Data/Neuropsych/Neuropsych_Data_OA.xlsx'), sheet_name='Digit Span')\n",
    "ya_ds = pd.read_excel(os.path.join(work_dir, 'Data/Neuropsych/Neuropsych_Data_YA.xlsx'), sheet_name='Digit Span')\n",
    "ds = pd.concat((ya_ds, oa_ds))\n",
    "ds = ds[ds['record_id'].isin(rest_ids)]\n",
    "len(ds)"
   ]
  },
  {
   "cell_type": "code",
   "execution_count": 87,
   "metadata": {},
   "outputs": [
    {
     "data": {
      "text/plain": [
       "record_id          int64\n",
       "dsf_span         float64\n",
       "dsf_raw          float64\n",
       "dsb_span         float64\n",
       "dsb_raw          float64\n",
       "dss_span         float64\n",
       "dss_raw          float64\n",
       "total_raw        float64\n",
       "ds_scaled        float64\n",
       "ds_zscore        float64\n",
       "ds_percentile    float64\n",
       "dsb_scaled       float64\n",
       "dsb_zscore       float64\n",
       "dtype: object"
      ]
     },
     "execution_count": 87,
     "metadata": {},
     "output_type": "execute_result"
    }
   ],
   "source": [
    "ds.dtypes"
   ]
  },
  {
   "cell_type": "code",
   "execution_count": 92,
   "metadata": {},
   "outputs": [
    {
     "data": {
      "text/html": [
       "<div>\n",
       "<style scoped>\n",
       "    .dataframe tbody tr th:only-of-type {\n",
       "        vertical-align: middle;\n",
       "    }\n",
       "\n",
       "    .dataframe tbody tr th {\n",
       "        vertical-align: top;\n",
       "    }\n",
       "\n",
       "    .dataframe thead th {\n",
       "        text-align: right;\n",
       "    }\n",
       "</style>\n",
       "<table border=\"1\" class=\"dataframe\">\n",
       "  <thead>\n",
       "    <tr style=\"text-align: right;\">\n",
       "      <th></th>\n",
       "      <th>record_id</th>\n",
       "      <th>dsb_zscore</th>\n",
       "      <th>trails_b_z_score</th>\n",
       "      <th>ef_zscore</th>\n",
       "    </tr>\n",
       "  </thead>\n",
       "  <tbody>\n",
       "    <tr>\n",
       "      <th>0</th>\n",
       "      <td>30004</td>\n",
       "      <td>-1.00</td>\n",
       "      <td>-0.673139</td>\n",
       "      <td>-0.836570</td>\n",
       "    </tr>\n",
       "    <tr>\n",
       "      <th>1</th>\n",
       "      <td>30009</td>\n",
       "      <td>1.67</td>\n",
       "      <td>-0.834951</td>\n",
       "      <td>0.417524</td>\n",
       "    </tr>\n",
       "    <tr>\n",
       "      <th>2</th>\n",
       "      <td>30012</td>\n",
       "      <td>2.67</td>\n",
       "      <td>-0.268608</td>\n",
       "      <td>1.200696</td>\n",
       "    </tr>\n",
       "    <tr>\n",
       "      <th>3</th>\n",
       "      <td>30064</td>\n",
       "      <td>1.67</td>\n",
       "      <td>0.076438</td>\n",
       "      <td>0.873219</td>\n",
       "    </tr>\n",
       "    <tr>\n",
       "      <th>4</th>\n",
       "      <td>30020</td>\n",
       "      <td>0.00</td>\n",
       "      <td>0.391647</td>\n",
       "      <td>0.195823</td>\n",
       "    </tr>\n",
       "  </tbody>\n",
       "</table>\n",
       "</div>"
      ],
      "text/plain": [
       "   record_id  dsb_zscore  trails_b_z_score  ef_zscore\n",
       "0      30004       -1.00         -0.673139  -0.836570\n",
       "1      30009        1.67         -0.834951   0.417524\n",
       "2      30012        2.67         -0.268608   1.200696\n",
       "3      30064        1.67          0.076438   0.873219\n",
       "4      30020        0.00          0.391647   0.195823"
      ]
     },
     "execution_count": 92,
     "metadata": {},
     "output_type": "execute_result"
    }
   ],
   "source": [
    "ef_z = pd.merge(ds[['record_id', 'dsb_zscore']], trails)\n",
    "ef_z['ef_zscore'] = (ef_z['dsb_zscore'] + ef_z['trails_b_z_score'])/2\n",
    "ef_z[:5]"
   ]
  },
  {
   "cell_type": "code",
   "execution_count": 93,
   "metadata": {},
   "outputs": [
    {
     "data": {
      "text/plain": [
       "92"
      ]
     },
     "execution_count": 93,
     "metadata": {},
     "output_type": "execute_result"
    }
   ],
   "source": [
    "len(ef_z)"
   ]
  },
  {
   "cell_type": "code",
   "execution_count": 94,
   "metadata": {},
   "outputs": [],
   "source": [
    "ef_z.to_csv(os.path.join(work_dir, 'Analysis/neuropsych/ef_zscores.csv'))"
   ]
  },
  {
   "cell_type": "code",
   "execution_count": 102,
   "metadata": {},
   "outputs": [
    {
     "data": {
      "text/plain": [
       "Text(0.5, 1.0, 'Young Adult Mean Z-scores')"
      ]
     },
     "execution_count": 102,
     "metadata": {},
     "output_type": "execute_result"
    },
    {
     "data": {
      "image/png": "[encoded data removed]",
      "text/plain": [
       "<Figure size 432x288 with 1 Axes>"
      ]
     },
     "metadata": {
      "needs_background": "light"
     },
     "output_type": "display_data"
    }
   ],
   "source": [
    "sns.violinplot(ef_z['ef_zscore'].where(ef_z['record_id'] < 40000))\n",
    "plt.title('Young Adult Mean Z-scores')"
   ]
  },
  {
   "cell_type": "code",
   "execution_count": 103,
   "metadata": {},
   "outputs": [
    {
     "data": {
      "text/plain": [
       "Text(0.5, 1.0, 'Older Adult Mean Z-scores')"
      ]
     },
     "execution_count": 103,
     "metadata": {},
     "output_type": "execute_result"
    },
    {
     "data": {
      "image/png": "[encoded data removed]",
      "text/plain": [
       "<Figure size 432x288 with 1 Axes>"
      ]
     },
     "metadata": {
      "needs_background": "light"
     },
     "output_type": "display_data"
    }
   ],
   "source": [
    "sns.violinplot(ef_z['ef_zscore'].where(ef_z['record_id'] > 40000))\n",
    "plt.title('Older Adult Mean Z-scores')"
   ]
  },
  {
   "cell_type": "code",
   "execution_count": null,
   "metadata": {},
   "outputs": [],
   "source": []
  }
 ],
 "metadata": {
  "kernelspec": {
   "display_name": "Python 3",
   "language": "python",
   "name": "python3"
  },
  "language_info": {
   "codemirror_mode": {
    "name": "ipython",
    "version": 3
   },
   "file_extension": ".py",
   "mimetype": "text/x-python",
   "name": "python",
   "nbconvert_exporter": "python",
   "pygments_lexer": "ipython3",
   "version": "3.7.3"
  }
 },
 "nbformat": 4,
 "nbformat_minor": 2
}
