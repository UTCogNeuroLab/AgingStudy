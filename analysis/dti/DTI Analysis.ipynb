{
 "cells": [
  {
   "cell_type": "markdown",
   "metadata": {},
   "source": [
    "## DTI Analysis"
   ]
  },
  {
   "cell_type": "code",
   "execution_count": 1,
   "metadata": {},
   "outputs": [],
   "source": [
    "import numpy as np\n",
    "import pandas as pd\n",
    "import matplotlib.pyplot as plt\n",
    "import os\n",
    "import sys\n",
    "\n",
    "home_dir = '/Volumes/schnyer/Aging_DecMem/Scan_Data/BIDS/derivatives'"
   ]
  },
  {
   "cell_type": "markdown",
   "metadata": {},
   "source": [
    "### Older Adults"
   ]
  },
  {
   "cell_type": "code",
   "execution_count": 2,
   "metadata": {},
   "outputs": [
    {
     "data": {
      "text/html": [
       "<div>\n",
       "<style scoped>\n",
       "    .dataframe tbody tr th:only-of-type {\n",
       "        vertical-align: middle;\n",
       "    }\n",
       "\n",
       "    .dataframe tbody tr th {\n",
       "        vertical-align: top;\n",
       "    }\n",
       "\n",
       "    .dataframe thead th {\n",
       "        text-align: right;\n",
       "    }\n",
       "</style>\n",
       "<table border=\"1\" class=\"dataframe\">\n",
       "  <thead>\n",
       "    <tr style=\"text-align: right;\">\n",
       "      <th></th>\n",
       "      <th>files</th>\n",
       "      <th>CC_FA</th>\n",
       "    </tr>\n",
       "  </thead>\n",
       "  <tbody>\n",
       "    <tr>\n",
       "      <th>0</th>\n",
       "      <td>sub-40550_dti_FA.nii.gz</td>\n",
       "      <td>0.597132</td>\n",
       "    </tr>\n",
       "    <tr>\n",
       "      <th>1</th>\n",
       "      <td>sub-40668_dti_FA.nii.gz</td>\n",
       "      <td>0.531781</td>\n",
       "    </tr>\n",
       "    <tr>\n",
       "      <th>2</th>\n",
       "      <td>sub-40629_dti_FA.nii.gz</td>\n",
       "      <td>0.574883</td>\n",
       "    </tr>\n",
       "    <tr>\n",
       "      <th>3</th>\n",
       "      <td>sub-40685_dti_FA.nii.gz</td>\n",
       "      <td>0.580386</td>\n",
       "    </tr>\n",
       "    <tr>\n",
       "      <th>4</th>\n",
       "      <td>sub-40522_dti_FA.nii.gz</td>\n",
       "      <td>0.594497</td>\n",
       "    </tr>\n",
       "  </tbody>\n",
       "</table>\n",
       "</div>"
      ],
      "text/plain": [
       "                     files     CC_FA\n",
       "0  sub-40550_dti_FA.nii.gz  0.597132\n",
       "1  sub-40668_dti_FA.nii.gz  0.531781\n",
       "2  sub-40629_dti_FA.nii.gz  0.574883\n",
       "3  sub-40685_dti_FA.nii.gz  0.580386\n",
       "4  sub-40522_dti_FA.nii.gz  0.594497"
      ]
     },
     "execution_count": 2,
     "metadata": {},
     "output_type": "execute_result"
    }
   ],
   "source": [
    "oa_files = pd.DataFrame(os.listdir(home_dir + '/tbss_old_1/origdata'), columns = ['files'])\n",
    "oa_cc = pd.read_csv(home_dir + '/tbss_old_1/stats/meants_cc.txt', names = ['CC_FA'])\n",
    "oa_df1 = pd.concat([oa_files, oa_cc], axis = 1)\n",
    "oa_df1[0:5]"
   ]
  },
  {
   "cell_type": "code",
   "execution_count": 3,
   "metadata": {},
   "outputs": [
    {
     "data": {
      "text/html": [
       "<div>\n",
       "<style scoped>\n",
       "    .dataframe tbody tr th:only-of-type {\n",
       "        vertical-align: middle;\n",
       "    }\n",
       "\n",
       "    .dataframe tbody tr th {\n",
       "        vertical-align: top;\n",
       "    }\n",
       "\n",
       "    .dataframe thead th {\n",
       "        text-align: right;\n",
       "    }\n",
       "</style>\n",
       "<table border=\"1\" class=\"dataframe\">\n",
       "  <thead>\n",
       "    <tr style=\"text-align: right;\">\n",
       "      <th></th>\n",
       "      <th>record_id</th>\n",
       "      <th>files</th>\n",
       "      <th>age</th>\n",
       "      <th>trails_b_z_score</th>\n",
       "      <th>IS</th>\n",
       "      <th>IV</th>\n",
       "      <th>RA</th>\n",
       "      <th>actamp</th>\n",
       "      <th>actbeta</th>\n",
       "      <th>actphi</th>\n",
       "      <th>actmin</th>\n",
       "      <th>actmesor</th>\n",
       "      <th>actupmesor</th>\n",
       "      <th>actdownmesor</th>\n",
       "      <th>actalph</th>\n",
       "      <th>actwidthratio</th>\n",
       "      <th>rsqact</th>\n",
       "      <th>fact</th>\n",
       "      <th>Executive function</th>\n",
       "    </tr>\n",
       "  </thead>\n",
       "  <tbody>\n",
       "    <tr>\n",
       "      <th>0</th>\n",
       "      <td>40160</td>\n",
       "      <td>sub-40160_dti_FA.nii.gz</td>\n",
       "      <td>60</td>\n",
       "      <td>0.407746</td>\n",
       "      <td>NaN</td>\n",
       "      <td>NaN</td>\n",
       "      <td>NaN</td>\n",
       "      <td>NaN</td>\n",
       "      <td>NaN</td>\n",
       "      <td>NaN</td>\n",
       "      <td>NaN</td>\n",
       "      <td>NaN</td>\n",
       "      <td>NaN</td>\n",
       "      <td>NaN</td>\n",
       "      <td>NaN</td>\n",
       "      <td>NaN</td>\n",
       "      <td>NaN</td>\n",
       "      <td>NaN</td>\n",
       "      <td>0.396436</td>\n",
       "    </tr>\n",
       "    <tr>\n",
       "      <th>1</th>\n",
       "      <td>40170</td>\n",
       "      <td>sub-40170_dti_FA.nii.gz</td>\n",
       "      <td>66</td>\n",
       "      <td>-1.276047</td>\n",
       "      <td>0.25</td>\n",
       "      <td>0.38</td>\n",
       "      <td>0.96</td>\n",
       "      <td>1.050749</td>\n",
       "      <td>18.886255</td>\n",
       "      <td>14.646174</td>\n",
       "      <td>0.099017</td>\n",
       "      <td>0.624391</td>\n",
       "      <td>6.515432</td>\n",
       "      <td>22.776916</td>\n",
       "      <td>-0.529342</td>\n",
       "      <td>0.677562</td>\n",
       "      <td>0.223617</td>\n",
       "      <td>2125.327066</td>\n",
       "      <td>-0.355677</td>\n",
       "    </tr>\n",
       "    <tr>\n",
       "      <th>2</th>\n",
       "      <td>40288</td>\n",
       "      <td>sub-40288_dti_FA.nii.gz</td>\n",
       "      <td>63</td>\n",
       "      <td>-0.345347</td>\n",
       "      <td>0.69</td>\n",
       "      <td>0.86</td>\n",
       "      <td>0.97</td>\n",
       "      <td>1.750647</td>\n",
       "      <td>8.119992</td>\n",
       "      <td>14.401060</td>\n",
       "      <td>0.061726</td>\n",
       "      <td>0.937050</td>\n",
       "      <td>6.809107</td>\n",
       "      <td>21.993013</td>\n",
       "      <td>-0.404810</td>\n",
       "      <td>0.632663</td>\n",
       "      <td>0.505675</td>\n",
       "      <td>7517.722585</td>\n",
       "      <td>0.297207</td>\n",
       "    </tr>\n",
       "    <tr>\n",
       "      <th>3</th>\n",
       "      <td>40351</td>\n",
       "      <td>sub-40351_dti_FA.nii.gz</td>\n",
       "      <td>62</td>\n",
       "      <td>-0.130178</td>\n",
       "      <td>0.38</td>\n",
       "      <td>0.62</td>\n",
       "      <td>0.94</td>\n",
       "      <td>1.938121</td>\n",
       "      <td>2.984397</td>\n",
       "      <td>15.523059</td>\n",
       "      <td>0.000000</td>\n",
       "      <td>0.969061</td>\n",
       "      <td>8.417909</td>\n",
       "      <td>22.628208</td>\n",
       "      <td>-0.285306</td>\n",
       "      <td>0.592096</td>\n",
       "      <td>0.393215</td>\n",
       "      <td>4593.561541</td>\n",
       "      <td>0.136774</td>\n",
       "    </tr>\n",
       "    <tr>\n",
       "      <th>4</th>\n",
       "      <td>40490</td>\n",
       "      <td>sub-40490_dti_FA.nii.gz</td>\n",
       "      <td>71</td>\n",
       "      <td>1.299128</td>\n",
       "      <td>0.28</td>\n",
       "      <td>0.67</td>\n",
       "      <td>0.82</td>\n",
       "      <td>1.462142</td>\n",
       "      <td>6.235459</td>\n",
       "      <td>16.570842</td>\n",
       "      <td>0.162575</td>\n",
       "      <td>0.893646</td>\n",
       "      <td>8.083211</td>\n",
       "      <td>25.058474</td>\n",
       "      <td>-0.606188</td>\n",
       "      <td>0.707303</td>\n",
       "      <td>0.267033</td>\n",
       "      <td>2688.302676</td>\n",
       "      <td>1.161177</td>\n",
       "    </tr>\n",
       "  </tbody>\n",
       "</table>\n",
       "</div>"
      ],
      "text/plain": [
       "   record_id                    files  age  trails_b_z_score    IS    IV  \\\n",
       "0      40160  sub-40160_dti_FA.nii.gz   60          0.407746   NaN   NaN   \n",
       "1      40170  sub-40170_dti_FA.nii.gz   66         -1.276047  0.25  0.38   \n",
       "2      40288  sub-40288_dti_FA.nii.gz   63         -0.345347  0.69  0.86   \n",
       "3      40351  sub-40351_dti_FA.nii.gz   62         -0.130178  0.38  0.62   \n",
       "4      40490  sub-40490_dti_FA.nii.gz   71          1.299128  0.28  0.67   \n",
       "\n",
       "     RA    actamp    actbeta     actphi    actmin  actmesor  actupmesor  \\\n",
       "0   NaN       NaN        NaN        NaN       NaN       NaN         NaN   \n",
       "1  0.96  1.050749  18.886255  14.646174  0.099017  0.624391    6.515432   \n",
       "2  0.97  1.750647   8.119992  14.401060  0.061726  0.937050    6.809107   \n",
       "3  0.94  1.938121   2.984397  15.523059  0.000000  0.969061    8.417909   \n",
       "4  0.82  1.462142   6.235459  16.570842  0.162575  0.893646    8.083211   \n",
       "\n",
       "   actdownmesor   actalph  actwidthratio    rsqact         fact  \\\n",
       "0           NaN       NaN            NaN       NaN          NaN   \n",
       "1     22.776916 -0.529342       0.677562  0.223617  2125.327066   \n",
       "2     21.993013 -0.404810       0.632663  0.505675  7517.722585   \n",
       "3     22.628208 -0.285306       0.592096  0.393215  4593.561541   \n",
       "4     25.058474 -0.606188       0.707303  0.267033  2688.302676   \n",
       "\n",
       "   Executive function  \n",
       "0            0.396436  \n",
       "1           -0.355677  \n",
       "2            0.297207  \n",
       "3            0.136774  \n",
       "4            1.161177  "
      ]
     },
     "execution_count": 3,
     "metadata": {},
     "output_type": "execute_result"
    }
   ],
   "source": [
    "oa_df2 = pd.read_excel(home_dir + '/tbss/dsnmat_data_oa.xlsx')\n",
    "oa_df2[0:5]"
   ]
  },
  {
   "cell_type": "code",
   "execution_count": 4,
   "metadata": {},
   "outputs": [
    {
     "data": {
      "text/html": [
       "<div>\n",
       "<style scoped>\n",
       "    .dataframe tbody tr th:only-of-type {\n",
       "        vertical-align: middle;\n",
       "    }\n",
       "\n",
       "    .dataframe tbody tr th {\n",
       "        vertical-align: top;\n",
       "    }\n",
       "\n",
       "    .dataframe thead th {\n",
       "        text-align: right;\n",
       "    }\n",
       "</style>\n",
       "<table border=\"1\" class=\"dataframe\">\n",
       "  <thead>\n",
       "    <tr style=\"text-align: right;\">\n",
       "      <th></th>\n",
       "      <th>files</th>\n",
       "      <th>CC_FA</th>\n",
       "      <th>record_id</th>\n",
       "      <th>age</th>\n",
       "      <th>trails_b_z_score</th>\n",
       "      <th>IS</th>\n",
       "      <th>IV</th>\n",
       "      <th>RA</th>\n",
       "      <th>actamp</th>\n",
       "      <th>actbeta</th>\n",
       "      <th>actphi</th>\n",
       "      <th>actmin</th>\n",
       "      <th>actmesor</th>\n",
       "      <th>actupmesor</th>\n",
       "      <th>actdownmesor</th>\n",
       "      <th>actalph</th>\n",
       "      <th>actwidthratio</th>\n",
       "      <th>rsqact</th>\n",
       "      <th>fact</th>\n",
       "      <th>Executive function</th>\n",
       "    </tr>\n",
       "  </thead>\n",
       "  <tbody>\n",
       "    <tr>\n",
       "      <th>0</th>\n",
       "      <td>sub-40550_dti_FA.nii.gz</td>\n",
       "      <td>0.597132</td>\n",
       "      <td>40550</td>\n",
       "      <td>81</td>\n",
       "      <td>0.120140</td>\n",
       "      <td>0.68</td>\n",
       "      <td>0.90</td>\n",
       "      <td>0.80</td>\n",
       "      <td>1.560948</td>\n",
       "      <td>42.978815</td>\n",
       "      <td>15.614234</td>\n",
       "      <td>0.355805</td>\n",
       "      <td>1.136279</td>\n",
       "      <td>7.606621</td>\n",
       "      <td>23.621848</td>\n",
       "      <td>-0.501724</td>\n",
       "      <td>0.667301</td>\n",
       "      <td>0.437917</td>\n",
       "      <td>5725.592090</td>\n",
       "      <td>-0.361016</td>\n",
       "    </tr>\n",
       "    <tr>\n",
       "      <th>1</th>\n",
       "      <td>sub-40668_dti_FA.nii.gz</td>\n",
       "      <td>0.531781</td>\n",
       "      <td>40668</td>\n",
       "      <td>61</td>\n",
       "      <td>0.300161</td>\n",
       "      <td>0.51</td>\n",
       "      <td>0.83</td>\n",
       "      <td>0.97</td>\n",
       "      <td>1.549876</td>\n",
       "      <td>28.126051</td>\n",
       "      <td>15.692049</td>\n",
       "      <td>0.171066</td>\n",
       "      <td>0.946004</td>\n",
       "      <td>7.684443</td>\n",
       "      <td>23.699656</td>\n",
       "      <td>-0.501722</td>\n",
       "      <td>0.667301</td>\n",
       "      <td>0.422059</td>\n",
       "      <td>5366.838937</td>\n",
       "      <td>0.311670</td>\n",
       "    </tr>\n",
       "    <tr>\n",
       "      <th>2</th>\n",
       "      <td>sub-40629_dti_FA.nii.gz</td>\n",
       "      <td>0.574883</td>\n",
       "      <td>40629</td>\n",
       "      <td>67</td>\n",
       "      <td>-2.994629</td>\n",
       "      <td>0.26</td>\n",
       "      <td>1.29</td>\n",
       "      <td>0.43</td>\n",
       "      <td>1.000000</td>\n",
       "      <td>3.922649</td>\n",
       "      <td>14.078526</td>\n",
       "      <td>0.784623</td>\n",
       "      <td>1.284623</td>\n",
       "      <td>7.485099</td>\n",
       "      <td>20.671953</td>\n",
       "      <td>-0.154733</td>\n",
       "      <td>0.549452</td>\n",
       "      <td>0.123327</td>\n",
       "      <td>1033.832333</td>\n",
       "      <td>0.372696</td>\n",
       "    </tr>\n",
       "    <tr>\n",
       "      <th>3</th>\n",
       "      <td>sub-40685_dti_FA.nii.gz</td>\n",
       "      <td>0.580386</td>\n",
       "      <td>40685</td>\n",
       "      <td>66</td>\n",
       "      <td>0.227712</td>\n",
       "      <td>NaN</td>\n",
       "      <td>NaN</td>\n",
       "      <td>NaN</td>\n",
       "      <td>NaN</td>\n",
       "      <td>NaN</td>\n",
       "      <td>NaN</td>\n",
       "      <td>NaN</td>\n",
       "      <td>NaN</td>\n",
       "      <td>NaN</td>\n",
       "      <td>NaN</td>\n",
       "      <td>NaN</td>\n",
       "      <td>NaN</td>\n",
       "      <td>NaN</td>\n",
       "      <td>NaN</td>\n",
       "      <td>0.073126</td>\n",
       "    </tr>\n",
       "    <tr>\n",
       "      <th>4</th>\n",
       "      <td>sub-40522_dti_FA.nii.gz</td>\n",
       "      <td>0.594497</td>\n",
       "      <td>40522</td>\n",
       "      <td>62</td>\n",
       "      <td>0.838085</td>\n",
       "      <td>0.54</td>\n",
       "      <td>0.38</td>\n",
       "      <td>0.96</td>\n",
       "      <td>2.006163</td>\n",
       "      <td>3.059836</td>\n",
       "      <td>13.850607</td>\n",
       "      <td>0.000000</td>\n",
       "      <td>1.003081</td>\n",
       "      <td>7.254294</td>\n",
       "      <td>20.446920</td>\n",
       "      <td>-0.155480</td>\n",
       "      <td>0.549693</td>\n",
       "      <td>0.434648</td>\n",
       "      <td>5649.978476</td>\n",
       "      <td>0.975023</td>\n",
       "    </tr>\n",
       "  </tbody>\n",
       "</table>\n",
       "</div>"
      ],
      "text/plain": [
       "                     files     CC_FA  record_id  age  trails_b_z_score    IS  \\\n",
       "0  sub-40550_dti_FA.nii.gz  0.597132      40550   81          0.120140  0.68   \n",
       "1  sub-40668_dti_FA.nii.gz  0.531781      40668   61          0.300161  0.51   \n",
       "2  sub-40629_dti_FA.nii.gz  0.574883      40629   67         -2.994629  0.26   \n",
       "3  sub-40685_dti_FA.nii.gz  0.580386      40685   66          0.227712   NaN   \n",
       "4  sub-40522_dti_FA.nii.gz  0.594497      40522   62          0.838085  0.54   \n",
       "\n",
       "     IV    RA    actamp    actbeta     actphi    actmin  actmesor  actupmesor  \\\n",
       "0  0.90  0.80  1.560948  42.978815  15.614234  0.355805  1.136279    7.606621   \n",
       "1  0.83  0.97  1.549876  28.126051  15.692049  0.171066  0.946004    7.684443   \n",
       "2  1.29  0.43  1.000000   3.922649  14.078526  0.784623  1.284623    7.485099   \n",
       "3   NaN   NaN       NaN        NaN        NaN       NaN       NaN         NaN   \n",
       "4  0.38  0.96  2.006163   3.059836  13.850607  0.000000  1.003081    7.254294   \n",
       "\n",
       "   actdownmesor   actalph  actwidthratio    rsqact         fact  \\\n",
       "0     23.621848 -0.501724       0.667301  0.437917  5725.592090   \n",
       "1     23.699656 -0.501722       0.667301  0.422059  5366.838937   \n",
       "2     20.671953 -0.154733       0.549452  0.123327  1033.832333   \n",
       "3           NaN       NaN            NaN       NaN          NaN   \n",
       "4     20.446920 -0.155480       0.549693  0.434648  5649.978476   \n",
       "\n",
       "   Executive function  \n",
       "0           -0.361016  \n",
       "1            0.311670  \n",
       "2            0.372696  \n",
       "3            0.073126  \n",
       "4            0.975023  "
      ]
     },
     "execution_count": 4,
     "metadata": {},
     "output_type": "execute_result"
    }
   ],
   "source": [
    "oa_df = pd.merge(oa_df1, oa_df2, on = 'files', how = 'right')\n",
    "oa_df[0:5]"
   ]
  },
  {
   "cell_type": "code",
   "execution_count": 5,
   "metadata": {},
   "outputs": [
    {
     "data": {
      "text/plain": [
       "Text(0.5, 1.0, 'Age')"
      ]
     },
     "execution_count": 5,
     "metadata": {},
     "output_type": "execute_result"
    },
    {
     "data": {
      "image/png": "[encoded data removed]",
      "text/plain": [
       "<Figure size 432x288 with 1 Axes>"
      ]
     },
     "metadata": {
      "needs_background": "light"
     },
     "output_type": "display_data"
    }
   ],
   "source": [
    "plt.scatter(oa_df['age'], oa_df['CC_FA'], color = 'red')\n",
    "plt.xlabel(\"Age\")\n",
    "plt.ylabel(\"CC FA\")\n",
    "plt.title(\"Age\")"
   ]
  },
  {
   "cell_type": "markdown",
   "metadata": {},
   "source": [
    "### Young Adults"
   ]
  },
  {
   "cell_type": "code",
   "execution_count": 6,
   "metadata": {},
   "outputs": [
    {
     "data": {
      "text/html": [
       "<div>\n",
       "<style scoped>\n",
       "    .dataframe tbody tr th:only-of-type {\n",
       "        vertical-align: middle;\n",
       "    }\n",
       "\n",
       "    .dataframe tbody tr th {\n",
       "        vertical-align: top;\n",
       "    }\n",
       "\n",
       "    .dataframe thead th {\n",
       "        text-align: right;\n",
       "    }\n",
       "</style>\n",
       "<table border=\"1\" class=\"dataframe\">\n",
       "  <thead>\n",
       "    <tr style=\"text-align: right;\">\n",
       "      <th></th>\n",
       "      <th>files</th>\n",
       "      <th>CC_FA</th>\n",
       "    </tr>\n",
       "  </thead>\n",
       "  <tbody>\n",
       "    <tr>\n",
       "      <th>0</th>\n",
       "      <td>sub-30085_dti_FA.nii.gz</td>\n",
       "      <td>0.610031</td>\n",
       "    </tr>\n",
       "    <tr>\n",
       "      <th>1</th>\n",
       "      <td>sub-30012_dti_FA.nii.gz</td>\n",
       "      <td>0.590609</td>\n",
       "    </tr>\n",
       "    <tr>\n",
       "      <th>2</th>\n",
       "      <td>sub-30236_dti_FA.nii.gz</td>\n",
       "      <td>0.633003</td>\n",
       "    </tr>\n",
       "    <tr>\n",
       "      <th>3</th>\n",
       "      <td>sub-30403_dti_FA.nii.gz</td>\n",
       "      <td>0.617689</td>\n",
       "    </tr>\n",
       "    <tr>\n",
       "      <th>4</th>\n",
       "      <td>sub-30096_dti_FA.nii.gz</td>\n",
       "      <td>0.614667</td>\n",
       "    </tr>\n",
       "  </tbody>\n",
       "</table>\n",
       "</div>"
      ],
      "text/plain": [
       "                     files     CC_FA\n",
       "0  sub-30085_dti_FA.nii.gz  0.610031\n",
       "1  sub-30012_dti_FA.nii.gz  0.590609\n",
       "2  sub-30236_dti_FA.nii.gz  0.633003\n",
       "3  sub-30403_dti_FA.nii.gz  0.617689\n",
       "4  sub-30096_dti_FA.nii.gz  0.614667"
      ]
     },
     "execution_count": 6,
     "metadata": {},
     "output_type": "execute_result"
    }
   ],
   "source": [
    "ya_files = pd.DataFrame(os.listdir(home_dir + '/tbss_young_1/origdata'), columns = ['files'])\n",
    "ya_cc = pd.read_csv(home_dir + '/tbss_young_1/stats/meants_cc.txt', names = ['CC_FA'])\n",
    "ya_df1 = pd.concat([ya_files, ya_cc], axis = 1)\n",
    "ya_df1[0:5]"
   ]
  },
  {
   "cell_type": "code",
   "execution_count": 7,
   "metadata": {},
   "outputs": [
    {
     "data": {
      "text/html": [
       "<div>\n",
       "<style scoped>\n",
       "    .dataframe tbody tr th:only-of-type {\n",
       "        vertical-align: middle;\n",
       "    }\n",
       "\n",
       "    .dataframe tbody tr th {\n",
       "        vertical-align: top;\n",
       "    }\n",
       "\n",
       "    .dataframe thead th {\n",
       "        text-align: right;\n",
       "    }\n",
       "</style>\n",
       "<table border=\"1\" class=\"dataframe\">\n",
       "  <thead>\n",
       "    <tr style=\"text-align: right;\">\n",
       "      <th></th>\n",
       "      <th>record_id</th>\n",
       "      <th>files</th>\n",
       "      <th>age</th>\n",
       "      <th>trails_b_z_score</th>\n",
       "      <th>IS</th>\n",
       "      <th>IV</th>\n",
       "      <th>RA</th>\n",
       "      <th>actamp</th>\n",
       "      <th>actbeta</th>\n",
       "      <th>actphi</th>\n",
       "      <th>actmin</th>\n",
       "      <th>actmesor</th>\n",
       "      <th>actupmesor</th>\n",
       "      <th>actdownmesor</th>\n",
       "      <th>actalph</th>\n",
       "      <th>actwidthratio</th>\n",
       "      <th>rsqact</th>\n",
       "      <th>fact</th>\n",
       "      <th>Executive function</th>\n",
       "    </tr>\n",
       "  </thead>\n",
       "  <tbody>\n",
       "    <tr>\n",
       "      <th>0</th>\n",
       "      <td>30004</td>\n",
       "      <td>sub-30004_dti_FA.nii.gz</td>\n",
       "      <td>27</td>\n",
       "      <td>-0.673139</td>\n",
       "      <td>0.42</td>\n",
       "      <td>0.71</td>\n",
       "      <td>0.89</td>\n",
       "      <td>1.602708</td>\n",
       "      <td>6.198216</td>\n",
       "      <td>14.760576</td>\n",
       "      <td>0.079712</td>\n",
       "      <td>0.881065</td>\n",
       "      <td>6.719827</td>\n",
       "      <td>22.801326</td>\n",
       "      <td>-0.509209</td>\n",
       "      <td>0.670062</td>\n",
       "      <td>0.339924</td>\n",
       "      <td>3667.925452</td>\n",
       "      <td>0.286324</td>\n",
       "    </tr>\n",
       "    <tr>\n",
       "      <th>1</th>\n",
       "      <td>30008</td>\n",
       "      <td>sub-30008_dti_FA.nii.gz</td>\n",
       "      <td>18</td>\n",
       "      <td>-0.869188</td>\n",
       "      <td>0.45</td>\n",
       "      <td>0.63</td>\n",
       "      <td>0.90</td>\n",
       "      <td>1.580870</td>\n",
       "      <td>9.339733</td>\n",
       "      <td>15.486183</td>\n",
       "      <td>0.158922</td>\n",
       "      <td>0.949357</td>\n",
       "      <td>7.687964</td>\n",
       "      <td>23.284402</td>\n",
       "      <td>-0.453573</td>\n",
       "      <td>0.649852</td>\n",
       "      <td>0.432179</td>\n",
       "      <td>5616.288182</td>\n",
       "      <td>0.942705</td>\n",
       "    </tr>\n",
       "    <tr>\n",
       "      <th>2</th>\n",
       "      <td>30009</td>\n",
       "      <td>sub-30009_dti_FA.nii.gz</td>\n",
       "      <td>25</td>\n",
       "      <td>-0.834951</td>\n",
       "      <td>0.30</td>\n",
       "      <td>1.26</td>\n",
       "      <td>0.90</td>\n",
       "      <td>1.914975</td>\n",
       "      <td>5.084081</td>\n",
       "      <td>14.649047</td>\n",
       "      <td>0.000000</td>\n",
       "      <td>0.957487</td>\n",
       "      <td>6.561473</td>\n",
       "      <td>22.736620</td>\n",
       "      <td>-0.519720</td>\n",
       "      <td>0.673964</td>\n",
       "      <td>0.394058</td>\n",
       "      <td>4551.943773</td>\n",
       "      <td>0.781530</td>\n",
       "    </tr>\n",
       "    <tr>\n",
       "      <th>3</th>\n",
       "      <td>30012</td>\n",
       "      <td>sub-30012_dti_FA.nii.gz</td>\n",
       "      <td>30</td>\n",
       "      <td>-0.268608</td>\n",
       "      <td>NaN</td>\n",
       "      <td>NaN</td>\n",
       "      <td>NaN</td>\n",
       "      <td>NaN</td>\n",
       "      <td>NaN</td>\n",
       "      <td>NaN</td>\n",
       "      <td>NaN</td>\n",
       "      <td>NaN</td>\n",
       "      <td>NaN</td>\n",
       "      <td>NaN</td>\n",
       "      <td>NaN</td>\n",
       "      <td>NaN</td>\n",
       "      <td>NaN</td>\n",
       "      <td>NaN</td>\n",
       "      <td>1.243673</td>\n",
       "    </tr>\n",
       "    <tr>\n",
       "      <th>4</th>\n",
       "      <td>30015</td>\n",
       "      <td>sub-30015_dti_FA.nii.gz</td>\n",
       "      <td>26</td>\n",
       "      <td>-1.563107</td>\n",
       "      <td>NaN</td>\n",
       "      <td>NaN</td>\n",
       "      <td>NaN</td>\n",
       "      <td>NaN</td>\n",
       "      <td>NaN</td>\n",
       "      <td>NaN</td>\n",
       "      <td>NaN</td>\n",
       "      <td>NaN</td>\n",
       "      <td>NaN</td>\n",
       "      <td>NaN</td>\n",
       "      <td>NaN</td>\n",
       "      <td>NaN</td>\n",
       "      <td>NaN</td>\n",
       "      <td>NaN</td>\n",
       "      <td>0.064818</td>\n",
       "    </tr>\n",
       "  </tbody>\n",
       "</table>\n",
       "</div>"
      ],
      "text/plain": [
       "   record_id                    files  age  trails_b_z_score    IS    IV  \\\n",
       "0      30004  sub-30004_dti_FA.nii.gz   27         -0.673139  0.42  0.71   \n",
       "1      30008  sub-30008_dti_FA.nii.gz   18         -0.869188  0.45  0.63   \n",
       "2      30009  sub-30009_dti_FA.nii.gz   25         -0.834951  0.30  1.26   \n",
       "3      30012  sub-30012_dti_FA.nii.gz   30         -0.268608   NaN   NaN   \n",
       "4      30015  sub-30015_dti_FA.nii.gz   26         -1.563107   NaN   NaN   \n",
       "\n",
       "     RA    actamp   actbeta     actphi    actmin  actmesor  actupmesor  \\\n",
       "0  0.89  1.602708  6.198216  14.760576  0.079712  0.881065    6.719827   \n",
       "1  0.90  1.580870  9.339733  15.486183  0.158922  0.949357    7.687964   \n",
       "2  0.90  1.914975  5.084081  14.649047  0.000000  0.957487    6.561473   \n",
       "3   NaN       NaN       NaN        NaN       NaN       NaN         NaN   \n",
       "4   NaN       NaN       NaN        NaN       NaN       NaN         NaN   \n",
       "\n",
       "   actdownmesor   actalph  actwidthratio    rsqact         fact  \\\n",
       "0     22.801326 -0.509209       0.670062  0.339924  3667.925452   \n",
       "1     23.284402 -0.453573       0.649852  0.432179  5616.288182   \n",
       "2     22.736620 -0.519720       0.673964  0.394058  4551.943773   \n",
       "3           NaN       NaN            NaN       NaN          NaN   \n",
       "4           NaN       NaN            NaN       NaN          NaN   \n",
       "\n",
       "   Executive function  \n",
       "0            0.286324  \n",
       "1            0.942705  \n",
       "2            0.781530  \n",
       "3            1.243673  \n",
       "4            0.064818  "
      ]
     },
     "execution_count": 7,
     "metadata": {},
     "output_type": "execute_result"
    }
   ],
   "source": [
    "ya_df2 = pd.read_excel(home_dir + '/tbss/dsnmat_data_ya.xlsx')\n",
    "ya_df2[0:5]"
   ]
  },
  {
   "cell_type": "code",
   "execution_count": 8,
   "metadata": {},
   "outputs": [
    {
     "data": {
      "text/html": [
       "<div>\n",
       "<style scoped>\n",
       "    .dataframe tbody tr th:only-of-type {\n",
       "        vertical-align: middle;\n",
       "    }\n",
       "\n",
       "    .dataframe tbody tr th {\n",
       "        vertical-align: top;\n",
       "    }\n",
       "\n",
       "    .dataframe thead th {\n",
       "        text-align: right;\n",
       "    }\n",
       "</style>\n",
       "<table border=\"1\" class=\"dataframe\">\n",
       "  <thead>\n",
       "    <tr style=\"text-align: right;\">\n",
       "      <th></th>\n",
       "      <th>files</th>\n",
       "      <th>CC_FA</th>\n",
       "      <th>record_id</th>\n",
       "      <th>age</th>\n",
       "      <th>trails_b_z_score</th>\n",
       "      <th>IS</th>\n",
       "      <th>IV</th>\n",
       "      <th>RA</th>\n",
       "      <th>actamp</th>\n",
       "      <th>actbeta</th>\n",
       "      <th>actphi</th>\n",
       "      <th>actmin</th>\n",
       "      <th>actmesor</th>\n",
       "      <th>actupmesor</th>\n",
       "      <th>actdownmesor</th>\n",
       "      <th>actalph</th>\n",
       "      <th>actwidthratio</th>\n",
       "      <th>rsqact</th>\n",
       "      <th>fact</th>\n",
       "      <th>Executive function</th>\n",
       "    </tr>\n",
       "  </thead>\n",
       "  <tbody>\n",
       "    <tr>\n",
       "      <th>0</th>\n",
       "      <td>sub-30085_dti_FA.nii.gz</td>\n",
       "      <td>0.610031</td>\n",
       "      <td>30085</td>\n",
       "      <td>19</td>\n",
       "      <td>1.494878</td>\n",
       "      <td>NaN</td>\n",
       "      <td>NaN</td>\n",
       "      <td>NaN</td>\n",
       "      <td>NaN</td>\n",
       "      <td>NaN</td>\n",
       "      <td>NaN</td>\n",
       "      <td>NaN</td>\n",
       "      <td>NaN</td>\n",
       "      <td>NaN</td>\n",
       "      <td>NaN</td>\n",
       "      <td>NaN</td>\n",
       "      <td>NaN</td>\n",
       "      <td>NaN</td>\n",
       "      <td>NaN</td>\n",
       "      <td>0.964148</td>\n",
       "    </tr>\n",
       "    <tr>\n",
       "      <th>1</th>\n",
       "      <td>sub-30012_dti_FA.nii.gz</td>\n",
       "      <td>0.590609</td>\n",
       "      <td>30012</td>\n",
       "      <td>30</td>\n",
       "      <td>-0.268608</td>\n",
       "      <td>NaN</td>\n",
       "      <td>NaN</td>\n",
       "      <td>NaN</td>\n",
       "      <td>NaN</td>\n",
       "      <td>NaN</td>\n",
       "      <td>NaN</td>\n",
       "      <td>NaN</td>\n",
       "      <td>NaN</td>\n",
       "      <td>NaN</td>\n",
       "      <td>NaN</td>\n",
       "      <td>NaN</td>\n",
       "      <td>NaN</td>\n",
       "      <td>NaN</td>\n",
       "      <td>NaN</td>\n",
       "      <td>1.243673</td>\n",
       "    </tr>\n",
       "    <tr>\n",
       "      <th>2</th>\n",
       "      <td>sub-30236_dti_FA.nii.gz</td>\n",
       "      <td>0.633003</td>\n",
       "      <td>30236</td>\n",
       "      <td>24</td>\n",
       "      <td>-0.396375</td>\n",
       "      <td>0.31</td>\n",
       "      <td>1.32</td>\n",
       "      <td>0.95</td>\n",
       "      <td>1.290284</td>\n",
       "      <td>11.396238</td>\n",
       "      <td>13.837110</td>\n",
       "      <td>0.139088</td>\n",
       "      <td>0.784230</td>\n",
       "      <td>5.939843</td>\n",
       "      <td>21.734376</td>\n",
       "      <td>-0.476528</td>\n",
       "      <td>0.658106</td>\n",
       "      <td>0.278282</td>\n",
       "      <td>2845.218426</td>\n",
       "      <td>0.587606</td>\n",
       "    </tr>\n",
       "    <tr>\n",
       "      <th>3</th>\n",
       "      <td>sub-30403_dti_FA.nii.gz</td>\n",
       "      <td>0.617689</td>\n",
       "      <td>30403</td>\n",
       "      <td>18</td>\n",
       "      <td>0.943262</td>\n",
       "      <td>0.40</td>\n",
       "      <td>0.74</td>\n",
       "      <td>0.83</td>\n",
       "      <td>1.725806</td>\n",
       "      <td>12.659668</td>\n",
       "      <td>14.055296</td>\n",
       "      <td>0.082747</td>\n",
       "      <td>0.945650</td>\n",
       "      <td>4.661465</td>\n",
       "      <td>23.449126</td>\n",
       "      <td>-0.776127</td>\n",
       "      <td>0.782819</td>\n",
       "      <td>0.325135</td>\n",
       "      <td>3555.035857</td>\n",
       "      <td>0.365886</td>\n",
       "    </tr>\n",
       "    <tr>\n",
       "      <th>4</th>\n",
       "      <td>sub-30096_dti_FA.nii.gz</td>\n",
       "      <td>0.614667</td>\n",
       "      <td>30096</td>\n",
       "      <td>19</td>\n",
       "      <td>1.337273</td>\n",
       "      <td>0.35</td>\n",
       "      <td>0.93</td>\n",
       "      <td>0.68</td>\n",
       "      <td>1.900075</td>\n",
       "      <td>4.337857</td>\n",
       "      <td>17.912224</td>\n",
       "      <td>0.000000</td>\n",
       "      <td>0.950037</td>\n",
       "      <td>9.451706</td>\n",
       "      <td>26.372743</td>\n",
       "      <td>-0.600527</td>\n",
       "      <td>0.705043</td>\n",
       "      <td>0.328277</td>\n",
       "      <td>3606.189170</td>\n",
       "      <td>1.264540</td>\n",
       "    </tr>\n",
       "  </tbody>\n",
       "</table>\n",
       "</div>"
      ],
      "text/plain": [
       "                     files     CC_FA  record_id  age  trails_b_z_score    IS  \\\n",
       "0  sub-30085_dti_FA.nii.gz  0.610031      30085   19          1.494878   NaN   \n",
       "1  sub-30012_dti_FA.nii.gz  0.590609      30012   30         -0.268608   NaN   \n",
       "2  sub-30236_dti_FA.nii.gz  0.633003      30236   24         -0.396375  0.31   \n",
       "3  sub-30403_dti_FA.nii.gz  0.617689      30403   18          0.943262  0.40   \n",
       "4  sub-30096_dti_FA.nii.gz  0.614667      30096   19          1.337273  0.35   \n",
       "\n",
       "     IV    RA    actamp    actbeta     actphi    actmin  actmesor  actupmesor  \\\n",
       "0   NaN   NaN       NaN        NaN        NaN       NaN       NaN         NaN   \n",
       "1   NaN   NaN       NaN        NaN        NaN       NaN       NaN         NaN   \n",
       "2  1.32  0.95  1.290284  11.396238  13.837110  0.139088  0.784230    5.939843   \n",
       "3  0.74  0.83  1.725806  12.659668  14.055296  0.082747  0.945650    4.661465   \n",
       "4  0.93  0.68  1.900075   4.337857  17.912224  0.000000  0.950037    9.451706   \n",
       "\n",
       "   actdownmesor   actalph  actwidthratio    rsqact         fact  \\\n",
       "0           NaN       NaN            NaN       NaN          NaN   \n",
       "1           NaN       NaN            NaN       NaN          NaN   \n",
       "2     21.734376 -0.476528       0.658106  0.278282  2845.218426   \n",
       "3     23.449126 -0.776127       0.782819  0.325135  3555.035857   \n",
       "4     26.372743 -0.600527       0.705043  0.328277  3606.189170   \n",
       "\n",
       "   Executive function  \n",
       "0            0.964148  \n",
       "1            1.243673  \n",
       "2            0.587606  \n",
       "3            0.365886  \n",
       "4            1.264540  "
      ]
     },
     "execution_count": 8,
     "metadata": {},
     "output_type": "execute_result"
    }
   ],
   "source": [
    "ya_df = pd.merge(ya_df1, ya_df2, on = 'files', how = 'right')\n",
    "ya_df[0:5]"
   ]
  },
  {
   "cell_type": "code",
   "execution_count": 9,
   "metadata": {},
   "outputs": [
    {
     "data": {
      "text/plain": [
       "Text(0.5, 1.0, 'Age')"
      ]
     },
     "execution_count": 9,
     "metadata": {},
     "output_type": "execute_result"
    },
    {
     "data": {
      "image/png": "[encoded data removed]",
      "text/plain": [
       "<Figure size 432x288 with 1 Axes>"
      ]
     },
     "metadata": {
      "needs_background": "light"
     },
     "output_type": "display_data"
    }
   ],
   "source": [
    "plt.scatter(ya_df['age'], ya_df['CC_FA'], color = 'blue')\n",
    "plt.xlabel(\"Age\")\n",
    "plt.ylabel(\"CC FA\")\n",
    "plt.title(\"Age\")"
   ]
  },
  {
   "cell_type": "markdown",
   "metadata": {},
   "source": [
    "## Plots"
   ]
  },
  {
   "cell_type": "code",
   "execution_count": 10,
   "metadata": {},
   "outputs": [
    {
     "data": {
      "text/plain": [
       "Text(0.5, 1.0, 'Interdaily Stability')"
      ]
     },
     "execution_count": 10,
     "metadata": {},
     "output_type": "execute_result"
    },
    {
     "data": {
      "image/png": "[encoded data removed]",
      "text/plain": [
       "<Figure size 432x288 with 1 Axes>"
      ]
     },
     "metadata": {
      "needs_background": "light"
     },
     "output_type": "display_data"
    }
   ],
   "source": [
    "plt.scatter(ya_df['IS'], ya_df['CC_FA'], color = 'blue', label = 'Young Adults')\n",
    "plt.scatter(oa_df['IS'], oa_df['CC_FA'], color = 'red', label = 'Older Adults')\n",
    "plt.xlabel(\"IS\")\n",
    "plt.ylabel(\"CC FA\")\n",
    "plt.title(\"Interdaily Stability\")"
   ]
  },
  {
   "cell_type": "code",
   "execution_count": 11,
   "metadata": {},
   "outputs": [
    {
     "data": {
      "text/plain": [
       "Text(0.5, 1.0, 'Intradaily Variability')"
      ]
     },
     "execution_count": 11,
     "metadata": {},
     "output_type": "execute_result"
    },
    {
     "data": {
      "image/png": "[encoded data removed]",
      "text/plain": [
       "<Figure size 432x288 with 1 Axes>"
      ]
     },
     "metadata": {
      "needs_background": "light"
     },
     "output_type": "display_data"
    }
   ],
   "source": [
    "plt.scatter(ya_df['IV'], ya_df['CC_FA'], color = 'blue', label = 'Young Adults')\n",
    "plt.scatter(oa_df['IV'], oa_df['CC_FA'], color = 'red', label = 'Older Adults')\n",
    "plt.xlabel(\"IV\")\n",
    "plt.ylabel(\"CC FA\")\n",
    "plt.legend()\n",
    "plt.title(\"Intradaily Variability\")"
   ]
  },
  {
   "cell_type": "code",
   "execution_count": 12,
   "metadata": {},
   "outputs": [
    {
     "data": {
      "text/plain": [
       "Text(0.5, 1.0, 'Relative Amplitude')"
      ]
     },
     "execution_count": 12,
     "metadata": {},
     "output_type": "execute_result"
    },
    {
     "data": {
      "image/png": "[encoded data removed]",
      "text/plain": [
       "<Figure size 432x288 with 1 Axes>"
      ]
     },
     "metadata": {
      "needs_background": "light"
     },
     "output_type": "display_data"
    }
   ],
   "source": [
    "plt.scatter(ya_df['RA'], ya_df['CC_FA'], color = 'blue', label = 'Young Adults')\n",
    "plt.scatter(oa_df['RA'], oa_df['CC_FA'], color = 'red', label = 'Older Adults')\n",
    "plt.xlabel(\"RA\")\n",
    "plt.ylabel(\"CC FA\")\n",
    "plt.legend()\n",
    "plt.title(\"Relative Amplitude\")"
   ]
  },
  {
   "cell_type": "code",
   "execution_count": 13,
   "metadata": {},
   "outputs": [
    {
     "data": {
      "text/plain": [
       "Text(0.5, 1.0, 'Duration of Peak Activity')"
      ]
     },
     "execution_count": 13,
     "metadata": {},
     "output_type": "execute_result"
    },
    {
     "data": {
      "image/png": "[encoded data removed]",
      "text/plain": [
       "<Figure size 432x288 with 1 Axes>"
      ]
     },
     "metadata": {
      "needs_background": "light"
     },
     "output_type": "display_data"
    }
   ],
   "source": [
    "plt.scatter(ya_df['actalph'], ya_df['CC_FA'], color = 'blue', label = 'Young Adults')\n",
    "plt.scatter(oa_df['actalph'], oa_df['CC_FA'], color = 'red', label = 'Older Adults')\n",
    "plt.xlabel(\"Width (alpha)\")\n",
    "plt.ylabel(\"CC FA\")\n",
    "plt.legend()\n",
    "plt.title(\"Duration of Peak Activity\")"
   ]
  },
  {
   "cell_type": "code",
   "execution_count": 14,
   "metadata": {},
   "outputs": [
    {
     "data": {
      "text/plain": [
       "Text(0.5, 1.0, 'Robustness')"
      ]
     },
     "execution_count": 14,
     "metadata": {},
     "output_type": "execute_result"
    },
    {
     "data": {
      "image/png": "[encoded data removed]",
      "text/plain": [
       "<Figure size 432x288 with 1 Axes>"
      ]
     },
     "metadata": {
      "needs_background": "light"
     },
     "output_type": "display_data"
    }
   ],
   "source": [
    "plt.scatter(ya_df['fact'], ya_df['CC_FA'], color = 'blue', label = 'Young Adults')\n",
    "plt.scatter(oa_df['fact'], oa_df['CC_FA'], color = 'red', label = 'Older Adults')\n",
    "plt.xlabel(\"F-statistic\")\n",
    "plt.ylabel(\"CC FA\")\n",
    "plt.legend()\n",
    "plt.title(\"Robustness\")"
   ]
  },
  {
   "cell_type": "code",
   "execution_count": 15,
   "metadata": {},
   "outputs": [
    {
     "data": {
      "text/html": [
       "<div>\n",
       "<style scoped>\n",
       "    .dataframe tbody tr th:only-of-type {\n",
       "        vertical-align: middle;\n",
       "    }\n",
       "\n",
       "    .dataframe tbody tr th {\n",
       "        vertical-align: top;\n",
       "    }\n",
       "\n",
       "    .dataframe thead th {\n",
       "        text-align: right;\n",
       "    }\n",
       "</style>\n",
       "<table border=\"1\" class=\"dataframe\">\n",
       "  <thead>\n",
       "    <tr style=\"text-align: right;\">\n",
       "      <th></th>\n",
       "      <th>index</th>\n",
       "      <th>sub_id</th>\n",
       "      <th>height_mri</th>\n",
       "      <th>weight_mri</th>\n",
       "    </tr>\n",
       "  </thead>\n",
       "  <tbody>\n",
       "    <tr>\n",
       "      <th>0</th>\n",
       "      <td>3</td>\n",
       "      <td>30012.0</td>\n",
       "      <td>5'3\"</td>\n",
       "      <td>100.0</td>\n",
       "    </tr>\n",
       "    <tr>\n",
       "      <th>1</th>\n",
       "      <td>8</td>\n",
       "      <td>30015.0</td>\n",
       "      <td>5'7\"</td>\n",
       "      <td>100.0</td>\n",
       "    </tr>\n",
       "    <tr>\n",
       "      <th>2</th>\n",
       "      <td>9</td>\n",
       "      <td>30019.0</td>\n",
       "      <td>5'3\"</td>\n",
       "      <td>130.0</td>\n",
       "    </tr>\n",
       "    <tr>\n",
       "      <th>3</th>\n",
       "      <td>10</td>\n",
       "      <td>30020.0</td>\n",
       "      <td>5'1\"</td>\n",
       "      <td>132.0</td>\n",
       "    </tr>\n",
       "    <tr>\n",
       "      <th>4</th>\n",
       "      <td>11</td>\n",
       "      <td>30023.0</td>\n",
       "      <td>5'11\"</td>\n",
       "      <td>150.0</td>\n",
       "    </tr>\n",
       "  </tbody>\n",
       "</table>\n",
       "</div>"
      ],
      "text/plain": [
       "   index   sub_id height_mri  weight_mri\n",
       "0      3  30012.0       5'3\"       100.0\n",
       "1      8  30015.0       5'7\"       100.0\n",
       "2      9  30019.0       5'3\"       130.0\n",
       "3     10  30020.0       5'1\"       132.0\n",
       "4     11  30023.0      5'11\"       150.0"
      ]
     },
     "execution_count": 15,
     "metadata": {},
     "output_type": "execute_result"
    }
   ],
   "source": [
    "bmi = pd.read_csv('/Users/PSYC-mcm5324/Box/CogNeuroLab/Aging Decision Making R01/data/Redcap/bmi.csv').dropna().reset_index()\n",
    "bmi[0:5]"
   ]
  },
  {
   "cell_type": "code",
   "execution_count": 16,
   "metadata": {},
   "outputs": [],
   "source": [
    "def calculate_bmi(data, i):\n",
    "    #print(bmi['sub_id'].iloc[i])\n",
    "    \n",
    "    feet = float(bmi['height_mri'].iloc[i].split(\"\\'\")[0])*12\n",
    "    inches = float(bmi['height_mri'].iloc[i].split(\"\\'\")[1].split('\"')[0])\n",
    "    height = feet + inches\n",
    "    weight = float(bmi['weight_mri'].iloc[i])\n",
    "    \n",
    "    body_mass_index = round( (weight * 703) / (height ** 2) , 2)\n",
    "    \n",
    "    return body_mass_index"
   ]
  },
  {
   "cell_type": "code",
   "execution_count": 17,
   "metadata": {},
   "outputs": [
    {
     "data": {
      "text/html": [
       "<div>\n",
       "<style scoped>\n",
       "    .dataframe tbody tr th:only-of-type {\n",
       "        vertical-align: middle;\n",
       "    }\n",
       "\n",
       "    .dataframe tbody tr th {\n",
       "        vertical-align: top;\n",
       "    }\n",
       "\n",
       "    .dataframe thead th {\n",
       "        text-align: right;\n",
       "    }\n",
       "</style>\n",
       "<table border=\"1\" class=\"dataframe\">\n",
       "  <thead>\n",
       "    <tr style=\"text-align: right;\">\n",
       "      <th></th>\n",
       "      <th>sub_id</th>\n",
       "      <th>height_mri</th>\n",
       "      <th>weight_mri</th>\n",
       "      <th>bmi</th>\n",
       "    </tr>\n",
       "  </thead>\n",
       "  <tbody>\n",
       "    <tr>\n",
       "      <th>0</th>\n",
       "      <td>30012.0</td>\n",
       "      <td>5'3\"</td>\n",
       "      <td>100.0</td>\n",
       "      <td>17.71</td>\n",
       "    </tr>\n",
       "    <tr>\n",
       "      <th>1</th>\n",
       "      <td>30015.0</td>\n",
       "      <td>5'7\"</td>\n",
       "      <td>100.0</td>\n",
       "      <td>15.66</td>\n",
       "    </tr>\n",
       "    <tr>\n",
       "      <th>2</th>\n",
       "      <td>30019.0</td>\n",
       "      <td>5'3\"</td>\n",
       "      <td>130.0</td>\n",
       "      <td>23.03</td>\n",
       "    </tr>\n",
       "    <tr>\n",
       "      <th>3</th>\n",
       "      <td>30020.0</td>\n",
       "      <td>5'1\"</td>\n",
       "      <td>132.0</td>\n",
       "      <td>24.94</td>\n",
       "    </tr>\n",
       "    <tr>\n",
       "      <th>4</th>\n",
       "      <td>30023.0</td>\n",
       "      <td>5'11\"</td>\n",
       "      <td>150.0</td>\n",
       "      <td>20.92</td>\n",
       "    </tr>\n",
       "  </tbody>\n",
       "</table>\n",
       "</div>"
      ],
      "text/plain": [
       "    sub_id height_mri  weight_mri    bmi\n",
       "0  30012.0       5'3\"       100.0  17.71\n",
       "1  30015.0       5'7\"       100.0  15.66\n",
       "2  30019.0       5'3\"       130.0  23.03\n",
       "3  30020.0       5'1\"       132.0  24.94\n",
       "4  30023.0      5'11\"       150.0  20.92"
      ]
     },
     "execution_count": 17,
     "metadata": {},
     "output_type": "execute_result"
    }
   ],
   "source": [
    "body_mass_index = []\n",
    "\n",
    "for i in bmi.index:\n",
    "    \n",
    "    body_mass_index.append(calculate_bmi(bmi, i))\n",
    "\n",
    "body_mass_index = pd.DataFrame(body_mass_index, columns = ['bmi'])\n",
    "bmi_df = pd.concat([bmi, body_mass_index], axis = 1).reset_index().drop(columns = ['level_0', 'index'])\n",
    "bmi_df[0:5]"
   ]
  },
  {
   "cell_type": "code",
   "execution_count": 18,
   "metadata": {},
   "outputs": [],
   "source": [
    "oa_df_n = oa_df.merge(bmi_df[bmi_df['sub_id'] > 40000], left_on = 'record_id', right_on = 'sub_id', how = 'right')\n",
    "ya_df_n = ya_df.merge(bmi_df[bmi_df['sub_id'] < 40000], left_on = 'record_id', right_on = 'sub_id', how = 'right')"
   ]
  },
  {
   "cell_type": "markdown",
   "metadata": {},
   "source": [
    "Some of these values aren't right (eg. > 200)"
   ]
  },
  {
   "cell_type": "code",
   "execution_count": 19,
   "metadata": {},
   "outputs": [
    {
     "data": {
      "text/plain": [
       "Text(0.5, 1.0, 'BMI vs CC FA')"
      ]
     },
     "execution_count": 19,
     "metadata": {},
     "output_type": "execute_result"
    },
    {
     "data": {
      "image/png": "[encoded data removed]",
      "text/plain": [
       "<Figure size 432x288 with 1 Axes>"
      ]
     },
     "metadata": {
      "needs_background": "light"
     },
     "output_type": "display_data"
    }
   ],
   "source": [
    "plt.scatter(ya_df_n['bmi'], ya_df_n['CC_FA'], color = 'blue', label = 'Young Adults')\n",
    "plt.scatter(oa_df_n['bmi'], oa_df_n['CC_FA'], color = 'red', label = 'Older Adults')\n",
    "plt.xlim([15, 35])\n",
    "plt.xlabel(\"BMI\")\n",
    "plt.ylabel(\"CC FA\")\n",
    "plt.legend(loc='lower center', shadow=True, ncol=2)\n",
    "plt.title(\"BMI vs CC FA\")"
   ]
  },
  {
   "cell_type": "code",
   "execution_count": 20,
   "metadata": {},
   "outputs": [
    {
     "data": {
      "text/plain": [
       "Text(0.5, 1.0, 'BMI vs Duration of Peak Activity')"
      ]
     },
     "execution_count": 20,
     "metadata": {},
     "output_type": "execute_result"
    },
    {
     "data": {
      "image/png": "[encoded data removed]",
      "text/plain": [
       "<Figure size 432x288 with 1 Axes>"
      ]
     },
     "metadata": {
      "needs_background": "light"
     },
     "output_type": "display_data"
    }
   ],
   "source": [
    "plt.scatter(ya_df_n['bmi'], ya_df_n['actalph'], color = 'blue', label = 'Young Adults')\n",
    "plt.scatter(oa_df_n['bmi'], oa_df_n['actalph'], color = 'red', label = 'Older Adults')\n",
    "plt.xlim([15, 35])\n",
    "plt.xlabel(\"BMI\")\n",
    "plt.ylabel(\"Width (alpha)\")\n",
    "plt.legend(loc='lower center', shadow=True, ncol=2)\n",
    "plt.title(\"BMI vs Duration of Peak Activity\")"
   ]
  },
  {
   "cell_type": "code",
   "execution_count": 38,
   "metadata": {},
   "outputs": [
    {
     "data": {
      "text/plain": [
       "age                     67.962264\n",
       "trails_b_z_score         0.145255\n",
       "IS                       0.493913\n",
       "IV                       0.841739\n",
       "RA                       0.860652\n",
       "actamp                   1.542622\n",
       "actbeta                 14.261290\n",
       "actphi                  14.785759\n",
       "actmin                   0.150845\n",
       "actmesor                 0.922156\n",
       "actupmesor               7.068573\n",
       "actdownmesor            22.502944\n",
       "actalph                 -0.428420\n",
       "actwidthratio            0.643099\n",
       "rsqact                   0.377278\n",
       "fact                  4711.720788\n",
       "Executive function       0.344416\n",
       "dtype: float64"
      ]
     },
     "execution_count": 38,
     "metadata": {},
     "output_type": "execute_result"
    }
   ],
   "source": [
    "oa_dsn = oa_df.drop(['files', 'record_id', 'CC_FA'], axis = 1)\n",
    "oa_dsn.mean()"
   ]
  },
  {
   "cell_type": "code",
   "execution_count": 46,
   "metadata": {},
   "outputs": [
    {
     "data": {
      "text/plain": [
       "age                   0\n",
       "trails_b_z_score      2\n",
       "IS                    7\n",
       "IV                    7\n",
       "RA                    7\n",
       "actamp                7\n",
       "actbeta               7\n",
       "actphi                7\n",
       "actmin                7\n",
       "actmesor              7\n",
       "actupmesor            7\n",
       "actdownmesor          7\n",
       "actalph               7\n",
       "actwidthratio         7\n",
       "rsqact                7\n",
       "fact                  7\n",
       "Executive function    0\n",
       "dtype: int64"
      ]
     },
     "execution_count": 46,
     "metadata": {},
     "output_type": "execute_result"
    }
   ],
   "source": [
    "oa_dsn.isnull().sum()"
   ]
  },
  {
   "cell_type": "code",
   "execution_count": 39,
   "metadata": {},
   "outputs": [
    {
     "data": {
      "text/html": [
       "<div>\n",
       "<style scoped>\n",
       "    .dataframe tbody tr th:only-of-type {\n",
       "        vertical-align: middle;\n",
       "    }\n",
       "\n",
       "    .dataframe tbody tr th {\n",
       "        vertical-align: top;\n",
       "    }\n",
       "\n",
       "    .dataframe thead th {\n",
       "        text-align: right;\n",
       "    }\n",
       "</style>\n",
       "<table border=\"1\" class=\"dataframe\">\n",
       "  <thead>\n",
       "    <tr style=\"text-align: right;\">\n",
       "      <th></th>\n",
       "      <th>age</th>\n",
       "      <th>trails_b_z_score</th>\n",
       "      <th>IS</th>\n",
       "      <th>IV</th>\n",
       "      <th>RA</th>\n",
       "      <th>actamp</th>\n",
       "      <th>actbeta</th>\n",
       "      <th>actphi</th>\n",
       "      <th>actmin</th>\n",
       "      <th>actmesor</th>\n",
       "      <th>actupmesor</th>\n",
       "      <th>actdownmesor</th>\n",
       "      <th>actalph</th>\n",
       "      <th>actwidthratio</th>\n",
       "      <th>rsqact</th>\n",
       "      <th>fact</th>\n",
       "      <th>Executive function</th>\n",
       "    </tr>\n",
       "  </thead>\n",
       "  <tbody>\n",
       "    <tr>\n",
       "      <th>0</th>\n",
       "      <td>13.037736</td>\n",
       "      <td>-0.025115</td>\n",
       "      <td>0.186087</td>\n",
       "      <td>0.058261</td>\n",
       "      <td>-0.060652</td>\n",
       "      <td>0.018326</td>\n",
       "      <td>28.717525</td>\n",
       "      <td>0.828476</td>\n",
       "      <td>0.204960</td>\n",
       "      <td>0.214123</td>\n",
       "      <td>0.538048</td>\n",
       "      <td>1.118903</td>\n",
       "      <td>-0.073304</td>\n",
       "      <td>0.024202</td>\n",
       "      <td>0.060640</td>\n",
       "      <td>1013.871302</td>\n",
       "      <td>-0.705433</td>\n",
       "    </tr>\n",
       "    <tr>\n",
       "      <th>1</th>\n",
       "      <td>-6.962264</td>\n",
       "      <td>0.154906</td>\n",
       "      <td>0.016087</td>\n",
       "      <td>-0.011739</td>\n",
       "      <td>0.109348</td>\n",
       "      <td>0.007254</td>\n",
       "      <td>13.864761</td>\n",
       "      <td>0.906291</td>\n",
       "      <td>0.020221</td>\n",
       "      <td>0.023848</td>\n",
       "      <td>0.615870</td>\n",
       "      <td>1.196712</td>\n",
       "      <td>-0.073302</td>\n",
       "      <td>0.024202</td>\n",
       "      <td>0.044782</td>\n",
       "      <td>655.118149</td>\n",
       "      <td>-0.032747</td>\n",
       "    </tr>\n",
       "    <tr>\n",
       "      <th>2</th>\n",
       "      <td>-0.962264</td>\n",
       "      <td>-3.139885</td>\n",
       "      <td>-0.233913</td>\n",
       "      <td>0.448261</td>\n",
       "      <td>-0.430652</td>\n",
       "      <td>-0.542622</td>\n",
       "      <td>-10.338641</td>\n",
       "      <td>-0.707232</td>\n",
       "      <td>0.633778</td>\n",
       "      <td>0.362468</td>\n",
       "      <td>0.416526</td>\n",
       "      <td>-1.830991</td>\n",
       "      <td>0.273687</td>\n",
       "      <td>-0.093647</td>\n",
       "      <td>-0.253950</td>\n",
       "      <td>-3677.888455</td>\n",
       "      <td>0.028280</td>\n",
       "    </tr>\n",
       "    <tr>\n",
       "      <th>3</th>\n",
       "      <td>-1.962264</td>\n",
       "      <td>0.082457</td>\n",
       "      <td>0.000000</td>\n",
       "      <td>0.000000</td>\n",
       "      <td>0.000000</td>\n",
       "      <td>0.000000</td>\n",
       "      <td>0.000000</td>\n",
       "      <td>0.000000</td>\n",
       "      <td>0.000000</td>\n",
       "      <td>0.000000</td>\n",
       "      <td>0.000000</td>\n",
       "      <td>0.000000</td>\n",
       "      <td>0.000000</td>\n",
       "      <td>0.000000</td>\n",
       "      <td>0.000000</td>\n",
       "      <td>0.000000</td>\n",
       "      <td>-0.271290</td>\n",
       "    </tr>\n",
       "    <tr>\n",
       "      <th>4</th>\n",
       "      <td>-5.962264</td>\n",
       "      <td>0.692830</td>\n",
       "      <td>0.046087</td>\n",
       "      <td>-0.461739</td>\n",
       "      <td>0.099348</td>\n",
       "      <td>0.463541</td>\n",
       "      <td>-11.201454</td>\n",
       "      <td>-0.935152</td>\n",
       "      <td>-0.150845</td>\n",
       "      <td>0.080926</td>\n",
       "      <td>0.185721</td>\n",
       "      <td>-2.056024</td>\n",
       "      <td>0.272940</td>\n",
       "      <td>-0.093406</td>\n",
       "      <td>0.057370</td>\n",
       "      <td>938.257688</td>\n",
       "      <td>0.630607</td>\n",
       "    </tr>\n",
       "  </tbody>\n",
       "</table>\n",
       "</div>"
      ],
      "text/plain": [
       "         age  trails_b_z_score        IS        IV        RA    actamp  \\\n",
       "0  13.037736         -0.025115  0.186087  0.058261 -0.060652  0.018326   \n",
       "1  -6.962264          0.154906  0.016087 -0.011739  0.109348  0.007254   \n",
       "2  -0.962264         -3.139885 -0.233913  0.448261 -0.430652 -0.542622   \n",
       "3  -1.962264          0.082457  0.000000  0.000000  0.000000  0.000000   \n",
       "4  -5.962264          0.692830  0.046087 -0.461739  0.099348  0.463541   \n",
       "\n",
       "     actbeta    actphi    actmin  actmesor  actupmesor  actdownmesor  \\\n",
       "0  28.717525  0.828476  0.204960  0.214123    0.538048      1.118903   \n",
       "1  13.864761  0.906291  0.020221  0.023848    0.615870      1.196712   \n",
       "2 -10.338641 -0.707232  0.633778  0.362468    0.416526     -1.830991   \n",
       "3   0.000000  0.000000  0.000000  0.000000    0.000000      0.000000   \n",
       "4 -11.201454 -0.935152 -0.150845  0.080926    0.185721     -2.056024   \n",
       "\n",
       "    actalph  actwidthratio    rsqact         fact  Executive function  \n",
       "0 -0.073304       0.024202  0.060640  1013.871302           -0.705433  \n",
       "1 -0.073302       0.024202  0.044782   655.118149           -0.032747  \n",
       "2  0.273687      -0.093647 -0.253950 -3677.888455            0.028280  \n",
       "3  0.000000       0.000000  0.000000     0.000000           -0.271290  \n",
       "4  0.272940      -0.093406  0.057370   938.257688            0.630607  "
      ]
     },
     "execution_count": 39,
     "metadata": {},
     "output_type": "execute_result"
    }
   ],
   "source": [
    "oa_imp = oa_dsn.fillna(oa_dsn.mean())\n",
    "oa_dem = oa_imp - oa_dsn.mean()\n",
    "oa_dem[0:5]"
   ]
  },
  {
   "cell_type": "code",
   "execution_count": 43,
   "metadata": {},
   "outputs": [
    {
     "data": {
      "text/plain": [
       "age                     21.583333\n",
       "trails_b_z_score        -0.356197\n",
       "IS                       0.397436\n",
       "IV                       0.904872\n",
       "RA                       0.837179\n",
       "actamp                   1.646618\n",
       "actbeta                  6.489322\n",
       "actphi                  16.341834\n",
       "actmin                   0.108939\n",
       "actmesor                 0.932248\n",
       "actupmesor               8.279366\n",
       "actdownmesor            24.404302\n",
       "actalph                 -0.534464\n",
       "actwidthratio            0.671872\n",
       "rsqact                   0.349329\n",
       "fact                  4216.457899\n",
       "Executive function       0.584791\n",
       "dtype: float64"
      ]
     },
     "execution_count": 43,
     "metadata": {},
     "output_type": "execute_result"
    }
   ],
   "source": [
    "ya_dsn = ya_df.drop(['files', 'record_id', 'CC_FA'], axis = 1)\n",
    "ya_dsn.mean()"
   ]
  },
  {
   "cell_type": "code",
   "execution_count": 45,
   "metadata": {},
   "outputs": [
    {
     "data": {
      "text/plain": [
       "age                   0\n",
       "trails_b_z_score      0\n",
       "IS                    9\n",
       "IV                    9\n",
       "RA                    9\n",
       "actamp                9\n",
       "actbeta               9\n",
       "actphi                9\n",
       "actmin                9\n",
       "actmesor              9\n",
       "actupmesor            9\n",
       "actdownmesor          9\n",
       "actalph               9\n",
       "actwidthratio         9\n",
       "rsqact                9\n",
       "fact                  9\n",
       "Executive function    0\n",
       "dtype: int64"
      ]
     },
     "execution_count": 45,
     "metadata": {},
     "output_type": "execute_result"
    }
   ],
   "source": [
    "ya_dsn.isnull().sum()"
   ]
  },
  {
   "cell_type": "code",
   "execution_count": 41,
   "metadata": {},
   "outputs": [
    {
     "data": {
      "text/html": [
       "<div>\n",
       "<style scoped>\n",
       "    .dataframe tbody tr th:only-of-type {\n",
       "        vertical-align: middle;\n",
       "    }\n",
       "\n",
       "    .dataframe tbody tr th {\n",
       "        vertical-align: top;\n",
       "    }\n",
       "\n",
       "    .dataframe thead th {\n",
       "        text-align: right;\n",
       "    }\n",
       "</style>\n",
       "<table border=\"1\" class=\"dataframe\">\n",
       "  <thead>\n",
       "    <tr style=\"text-align: right;\">\n",
       "      <th></th>\n",
       "      <th>age</th>\n",
       "      <th>trails_b_z_score</th>\n",
       "      <th>IS</th>\n",
       "      <th>IV</th>\n",
       "      <th>RA</th>\n",
       "      <th>actamp</th>\n",
       "      <th>actbeta</th>\n",
       "      <th>actphi</th>\n",
       "      <th>actmin</th>\n",
       "      <th>actmesor</th>\n",
       "      <th>actupmesor</th>\n",
       "      <th>actdownmesor</th>\n",
       "      <th>actalph</th>\n",
       "      <th>actwidthratio</th>\n",
       "      <th>rsqact</th>\n",
       "      <th>fact</th>\n",
       "      <th>Executive function</th>\n",
       "    </tr>\n",
       "  </thead>\n",
       "  <tbody>\n",
       "    <tr>\n",
       "      <th>0</th>\n",
       "      <td>-2.583333</td>\n",
       "      <td>1.851075</td>\n",
       "      <td>0.000000</td>\n",
       "      <td>0.000000</td>\n",
       "      <td>0.000000</td>\n",
       "      <td>0.000000</td>\n",
       "      <td>0.000000</td>\n",
       "      <td>0.000000</td>\n",
       "      <td>0.000000</td>\n",
       "      <td>0.000000</td>\n",
       "      <td>0.000000</td>\n",
       "      <td>0.000000</td>\n",
       "      <td>0.000000</td>\n",
       "      <td>0.000000</td>\n",
       "      <td>0.000000</td>\n",
       "      <td>0.000000</td>\n",
       "      <td>0.379358</td>\n",
       "    </tr>\n",
       "    <tr>\n",
       "      <th>1</th>\n",
       "      <td>8.416667</td>\n",
       "      <td>0.087589</td>\n",
       "      <td>0.000000</td>\n",
       "      <td>0.000000</td>\n",
       "      <td>0.000000</td>\n",
       "      <td>0.000000</td>\n",
       "      <td>0.000000</td>\n",
       "      <td>0.000000</td>\n",
       "      <td>0.000000</td>\n",
       "      <td>0.000000</td>\n",
       "      <td>0.000000</td>\n",
       "      <td>0.000000</td>\n",
       "      <td>0.000000</td>\n",
       "      <td>0.000000</td>\n",
       "      <td>0.000000</td>\n",
       "      <td>0.000000</td>\n",
       "      <td>0.658883</td>\n",
       "    </tr>\n",
       "    <tr>\n",
       "      <th>2</th>\n",
       "      <td>2.416667</td>\n",
       "      <td>-0.040178</td>\n",
       "      <td>-0.087436</td>\n",
       "      <td>0.415128</td>\n",
       "      <td>0.112821</td>\n",
       "      <td>-0.356334</td>\n",
       "      <td>4.906917</td>\n",
       "      <td>-2.504724</td>\n",
       "      <td>0.030149</td>\n",
       "      <td>-0.148018</td>\n",
       "      <td>-2.339523</td>\n",
       "      <td>-2.669925</td>\n",
       "      <td>0.057936</td>\n",
       "      <td>-0.013767</td>\n",
       "      <td>-0.071046</td>\n",
       "      <td>-1371.239473</td>\n",
       "      <td>0.002815</td>\n",
       "    </tr>\n",
       "    <tr>\n",
       "      <th>3</th>\n",
       "      <td>-3.583333</td>\n",
       "      <td>1.299459</td>\n",
       "      <td>0.002564</td>\n",
       "      <td>-0.164872</td>\n",
       "      <td>-0.007179</td>\n",
       "      <td>0.079188</td>\n",
       "      <td>6.170346</td>\n",
       "      <td>-2.286538</td>\n",
       "      <td>-0.026192</td>\n",
       "      <td>0.013402</td>\n",
       "      <td>-3.617901</td>\n",
       "      <td>-0.955176</td>\n",
       "      <td>-0.241663</td>\n",
       "      <td>0.110947</td>\n",
       "      <td>-0.024194</td>\n",
       "      <td>-661.422042</td>\n",
       "      <td>-0.218905</td>\n",
       "    </tr>\n",
       "    <tr>\n",
       "      <th>4</th>\n",
       "      <td>-2.583333</td>\n",
       "      <td>1.693470</td>\n",
       "      <td>-0.047436</td>\n",
       "      <td>0.025128</td>\n",
       "      <td>-0.157179</td>\n",
       "      <td>0.253457</td>\n",
       "      <td>-2.151464</td>\n",
       "      <td>1.570391</td>\n",
       "      <td>-0.108939</td>\n",
       "      <td>0.017790</td>\n",
       "      <td>1.172340</td>\n",
       "      <td>1.968441</td>\n",
       "      <td>-0.066063</td>\n",
       "      <td>0.033171</td>\n",
       "      <td>-0.021051</td>\n",
       "      <td>-610.268729</td>\n",
       "      <td>0.679750</td>\n",
       "    </tr>\n",
       "  </tbody>\n",
       "</table>\n",
       "</div>"
      ],
      "text/plain": [
       "        age  trails_b_z_score        IS        IV        RA    actamp  \\\n",
       "0 -2.583333          1.851075  0.000000  0.000000  0.000000  0.000000   \n",
       "1  8.416667          0.087589  0.000000  0.000000  0.000000  0.000000   \n",
       "2  2.416667         -0.040178 -0.087436  0.415128  0.112821 -0.356334   \n",
       "3 -3.583333          1.299459  0.002564 -0.164872 -0.007179  0.079188   \n",
       "4 -2.583333          1.693470 -0.047436  0.025128 -0.157179  0.253457   \n",
       "\n",
       "    actbeta    actphi    actmin  actmesor  actupmesor  actdownmesor   actalph  \\\n",
       "0  0.000000  0.000000  0.000000  0.000000    0.000000      0.000000  0.000000   \n",
       "1  0.000000  0.000000  0.000000  0.000000    0.000000      0.000000  0.000000   \n",
       "2  4.906917 -2.504724  0.030149 -0.148018   -2.339523     -2.669925  0.057936   \n",
       "3  6.170346 -2.286538 -0.026192  0.013402   -3.617901     -0.955176 -0.241663   \n",
       "4 -2.151464  1.570391 -0.108939  0.017790    1.172340      1.968441 -0.066063   \n",
       "\n",
       "   actwidthratio    rsqact         fact  Executive function  \n",
       "0       0.000000  0.000000     0.000000            0.379358  \n",
       "1       0.000000  0.000000     0.000000            0.658883  \n",
       "2      -0.013767 -0.071046 -1371.239473            0.002815  \n",
       "3       0.110947 -0.024194  -661.422042           -0.218905  \n",
       "4       0.033171 -0.021051  -610.268729            0.679750  "
      ]
     },
     "execution_count": 41,
     "metadata": {},
     "output_type": "execute_result"
    }
   ],
   "source": [
    "ya_imp = ya_dsn.fillna(ya_dsn.mean())\n",
    "ya_dem = ya_imp - ya_dsn.mean()\n",
    "ya_dem[0:5]"
   ]
  },
  {
   "cell_type": "code",
   "execution_count": 52,
   "metadata": {},
   "outputs": [
    {
     "data": {
      "text/plain": [
       "48"
      ]
     },
     "execution_count": 52,
     "metadata": {},
     "output_type": "execute_result"
    }
   ],
   "source": [
    "ya_dem['IS'].size"
   ]
  },
  {
   "cell_type": "markdown",
   "metadata": {},
   "source": [
    "Missing a lot of rest-activity measures - why?"
   ]
  },
  {
   "cell_type": "code",
   "execution_count": 63,
   "metadata": {},
   "outputs": [],
   "source": [
    "np.savetxt(home_dir + '/tbss_old_1/stats/design_IS_0218.txt', oa_dem['IS'].values, fmt = '%f')\n",
    "np.savetxt(home_dir + '/tbss_old_1/stats/design_IV_0218.txt', oa_dem['IV'].values, fmt = '%f')\n",
    "np.savetxt(home_dir + '/tbss_old_1/stats/design_RA_0218.txt', oa_dem['RA'].values, fmt = '%f')\n",
    "np.savetxt(home_dir + '/tbss_old_1/stats/design_alpha_0218.txt', oa_dem['actalph'].values, fmt = '%f')"
   ]
  },
  {
   "cell_type": "code",
   "execution_count": 64,
   "metadata": {},
   "outputs": [
    {
     "data": {
      "text/plain": [
       "array([ 0.18608696,  0.01608696, -0.23391304,  0.        ,  0.04608696,\n",
       "        0.        ,  0.19608696,  0.        , -0.00391304,  0.00608696,\n",
       "        0.16608696,  0.02608696, -0.19391304,  0.17608696, -0.09391304,\n",
       "        0.04608696, -0.01391304,  0.02608696, -0.11391304, -0.08391304,\n",
       "        0.        ,  0.01608696,  0.        , -0.21391304, -0.12391304,\n",
       "       -0.24391304,  0.05608696,  0.09608696,  0.01608696, -0.17391304,\n",
       "       -0.04391304, -0.01391304,  0.        ,  0.03608696,  0.        ,\n",
       "       -0.15391304,  0.05608696,  0.03608696, -0.06391304, -0.21391304,\n",
       "        0.10608696,  0.29608696, -0.08391304, -0.01391304, -0.06391304,\n",
       "       -0.03391304,  0.01608696,  0.13608696,  0.04608696,  0.03608696,\n",
       "        0.15608696,  0.06608696,  0.11608696])"
      ]
     },
     "execution_count": 64,
     "metadata": {},
     "output_type": "execute_result"
    }
   ],
   "source": [
    "oa_dem['IS'].values"
   ]
  },
  {
   "cell_type": "code",
   "execution_count": 65,
   "metadata": {},
   "outputs": [],
   "source": [
    "np.savetxt(home_dir + '/tbss_young_1/stats/design_IS_0218.txt', ya_dem['IS'].values, fmt = '%f')\n",
    "np.savetxt(home_dir + '/tbss_young_1/stats/design_IV_0218.txt', ya_dem['IV'].values, fmt = '%f')\n",
    "np.savetxt(home_dir + '/tbss_young_1/stats/design_RA_0218.txt', ya_dem['RA'].values, fmt = '%f')\n",
    "np.savetxt(home_dir + '/tbss_young_1/stats/design_alpha_0218.txt', ya_dem['actalph'].values, fmt = '%f')"
   ]
  },
  {
   "cell_type": "code",
   "execution_count": null,
   "metadata": {},
   "outputs": [],
   "source": []
  }
 ],
 "metadata": {
  "kernelspec": {
   "display_name": "Python 3",
   "language": "python",
   "name": "python3"
  },
  "language_info": {
   "codemirror_mode": {
    "name": "ipython",
    "version": 3
   },
   "file_extension": ".py",
   "mimetype": "text/x-python",
   "name": "python",
   "nbconvert_exporter": "python",
   "pygments_lexer": "ipython3",
   "version": "3.7.5"
  }
 },
 "nbformat": 4,
 "nbformat_minor": 2
}
