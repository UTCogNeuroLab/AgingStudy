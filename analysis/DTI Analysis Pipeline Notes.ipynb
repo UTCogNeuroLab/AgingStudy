{
 "cells": [
  {
   "cell_type": "markdown",
   "metadata": {},
   "source": [
    "# DTI Pipeline"
   ]
  },
  {
   "cell_type": "markdown",
   "metadata": {},
   "source": [
    "## Preprocessing"
   ]
  },
  {
   "cell_type": "markdown",
   "metadata": {},
   "source": [
    "[FSL Utils](https://fsl.fmrib.ox.ac.uk/fsl/fslwiki/Fslutils)"
   ]
  },
  {
   "cell_type": "code",
   "execution_count": 2,
   "metadata": {},
   "outputs": [
    {
     "name": "stdout",
     "output_type": "stream",
     "text": [
      "example_AP_PA.nii.gz\t\tsub-30295_acq-71PA_dwi.bval\n",
      "sub-30295_acq-71AP_dwi.bval\tsub-30295_acq-71PA_dwi.bvec\n",
      "sub-30295_acq-71AP_dwi.bvec\tsub-30295_acq-71PA_dwi.json\n",
      "sub-30295_acq-71AP_dwi.json\tsub-30295_acq-71PA_dwi.nii.gz\n",
      "sub-30295_acq-71AP_dwi.nii.gz\n"
     ]
    }
   ],
   "source": [
    "cd ~/Desktop/tmp\n",
    "ls"
   ]
  },
  {
   "cell_type": "code",
   "execution_count": 32,
   "metadata": {},
   "outputs": [
    {
     "name": "stdout",
     "output_type": "stream",
     "text": [
      "AP_vol0000.nii.gz\t\tAP_vol0041.nii.gz\n",
      "AP_vol0001.nii.gz\t\tAP_vol0042.nii.gz\n",
      "AP_vol0002.nii.gz\t\tAP_vol0043.nii.gz\n",
      "AP_vol0003.nii.gz\t\tAP_vol0044.nii.gz\n",
      "AP_vol0004.nii.gz\t\tAP_vol0045.nii.gz\n",
      "AP_vol0005.nii.gz\t\tAP_vol0046.nii.gz\n",
      "AP_vol0006.nii.gz\t\tAP_vol0047.nii.gz\n",
      "AP_vol0007.nii.gz\t\tAP_vol0048.nii.gz\n",
      "AP_vol0008.nii.gz\t\tAP_vol0049.nii.gz\n",
      "AP_vol0009.nii.gz\t\tAP_vol0050.nii.gz\n",
      "AP_vol0010.nii.gz\t\tAP_vol0051.nii.gz\n",
      "AP_vol0011.nii.gz\t\tAP_vol0052.nii.gz\n",
      "AP_vol0012.nii.gz\t\tAP_vol0053.nii.gz\n",
      "AP_vol0013.nii.gz\t\tAP_vol0054.nii.gz\n",
      "AP_vol0014.nii.gz\t\tAP_vol0055.nii.gz\n",
      "AP_vol0015.nii.gz\t\tAP_vol0056.nii.gz\n",
      "AP_vol0016.nii.gz\t\tAP_vol0057.nii.gz\n",
      "AP_vol0017.nii.gz\t\tAP_vol0058.nii.gz\n",
      "AP_vol0018.nii.gz\t\tAP_vol0059.nii.gz\n",
      "AP_vol0019.nii.gz\t\tAP_vol0060.nii.gz\n",
      "AP_vol0020.nii.gz\t\tAP_vol0061.nii.gz\n",
      "AP_vol0021.nii.gz\t\tAP_vol0062.nii.gz\n",
      "AP_vol0022.nii.gz\t\tAP_vol0063.nii.gz\n",
      "AP_vol0023.nii.gz\t\tAP_vol0064.nii.gz\n",
      "AP_vol0024.nii.gz\t\tAP_vol0065.nii.gz\n",
      "AP_vol0025.nii.gz\t\tAP_vol0066.nii.gz\n",
      "AP_vol0026.nii.gz\t\tAP_vol0067.nii.gz\n",
      "AP_vol0027.nii.gz\t\tAP_vol0068.nii.gz\n",
      "AP_vol0028.nii.gz\t\tAP_vol0069.nii.gz\n",
      "AP_vol0029.nii.gz\t\tAP_vol0070.nii.gz\n",
      "AP_vol0030.nii.gz\t\tAP_vol0071.nii.gz\n",
      "AP_vol0031.nii.gz\t\texample_AP_PA.nii.gz\n",
      "AP_vol0032.nii.gz\t\tsub-30295_acq-71AP_dwi.bval\n",
      "AP_vol0033.nii.gz\t\tsub-30295_acq-71AP_dwi.bvec\n",
      "AP_vol0034.nii.gz\t\tsub-30295_acq-71AP_dwi.json\n",
      "AP_vol0035.nii.gz\t\tsub-30295_acq-71AP_dwi.nii.gz\n",
      "AP_vol0036.nii.gz\t\tsub-30295_acq-71PA_dwi.bval\n",
      "AP_vol0037.nii.gz\t\tsub-30295_acq-71PA_dwi.bvec\n",
      "AP_vol0038.nii.gz\t\tsub-30295_acq-71PA_dwi.json\n",
      "AP_vol0039.nii.gz\t\tsub-30295_acq-71PA_dwi.nii.gz\n",
      "AP_vol0040.nii.gz\n"
     ]
    }
   ],
   "source": [
    "fslsplit *71AP_dwi.nii.gz\n",
    "for file in vol*; do mv -- \"$file\" \"AP_$file\"; done\n",
    "ls"
   ]
  },
  {
   "cell_type": "code",
   "execution_count": 33,
   "metadata": {},
   "outputs": [
    {
     "name": "stdout",
     "output_type": "stream",
     "text": [
      "AP_vol0000.nii.gz\t\tPA_vol0005.nii.gz\n",
      "AP_vol0001.nii.gz\t\tPA_vol0006.nii.gz\n",
      "AP_vol0002.nii.gz\t\tPA_vol0007.nii.gz\n",
      "AP_vol0003.nii.gz\t\tPA_vol0008.nii.gz\n",
      "AP_vol0004.nii.gz\t\tPA_vol0009.nii.gz\n",
      "AP_vol0005.nii.gz\t\tPA_vol0010.nii.gz\n",
      "AP_vol0006.nii.gz\t\tPA_vol0011.nii.gz\n",
      "AP_vol0007.nii.gz\t\tPA_vol0012.nii.gz\n",
      "AP_vol0008.nii.gz\t\tPA_vol0013.nii.gz\n",
      "AP_vol0009.nii.gz\t\tPA_vol0014.nii.gz\n",
      "AP_vol0010.nii.gz\t\tPA_vol0015.nii.gz\n",
      "AP_vol0011.nii.gz\t\tPA_vol0016.nii.gz\n",
      "AP_vol0012.nii.gz\t\tPA_vol0017.nii.gz\n",
      "AP_vol0013.nii.gz\t\tPA_vol0018.nii.gz\n",
      "AP_vol0014.nii.gz\t\tPA_vol0019.nii.gz\n",
      "AP_vol0015.nii.gz\t\tPA_vol0020.nii.gz\n",
      "AP_vol0016.nii.gz\t\tPA_vol0021.nii.gz\n",
      "AP_vol0017.nii.gz\t\tPA_vol0022.nii.gz\n",
      "AP_vol0018.nii.gz\t\tPA_vol0023.nii.gz\n",
      "AP_vol0019.nii.gz\t\tPA_vol0024.nii.gz\n",
      "AP_vol0020.nii.gz\t\tPA_vol0025.nii.gz\n",
      "AP_vol0021.nii.gz\t\tPA_vol0026.nii.gz\n",
      "AP_vol0022.nii.gz\t\tPA_vol0027.nii.gz\n",
      "AP_vol0023.nii.gz\t\tPA_vol0028.nii.gz\n",
      "AP_vol0024.nii.gz\t\tPA_vol0029.nii.gz\n",
      "AP_vol0025.nii.gz\t\tPA_vol0030.nii.gz\n",
      "AP_vol0026.nii.gz\t\tPA_vol0031.nii.gz\n",
      "AP_vol0027.nii.gz\t\tPA_vol0032.nii.gz\n",
      "AP_vol0028.nii.gz\t\tPA_vol0033.nii.gz\n",
      "AP_vol0029.nii.gz\t\tPA_vol0034.nii.gz\n",
      "AP_vol0030.nii.gz\t\tPA_vol0035.nii.gz\n",
      "AP_vol0031.nii.gz\t\tPA_vol0036.nii.gz\n",
      "AP_vol0032.nii.gz\t\tPA_vol0037.nii.gz\n",
      "AP_vol0033.nii.gz\t\tPA_vol0038.nii.gz\n",
      "AP_vol0034.nii.gz\t\tPA_vol0039.nii.gz\n",
      "AP_vol0035.nii.gz\t\tPA_vol0040.nii.gz\n",
      "AP_vol0036.nii.gz\t\tPA_vol0041.nii.gz\n",
      "AP_vol0037.nii.gz\t\tPA_vol0042.nii.gz\n",
      "AP_vol0038.nii.gz\t\tPA_vol0043.nii.gz\n",
      "AP_vol0039.nii.gz\t\tPA_vol0044.nii.gz\n",
      "AP_vol0040.nii.gz\t\tPA_vol0045.nii.gz\n",
      "AP_vol0041.nii.gz\t\tPA_vol0046.nii.gz\n",
      "AP_vol0042.nii.gz\t\tPA_vol0047.nii.gz\n",
      "AP_vol0043.nii.gz\t\tPA_vol0048.nii.gz\n",
      "AP_vol0044.nii.gz\t\tPA_vol0049.nii.gz\n",
      "AP_vol0045.nii.gz\t\tPA_vol0050.nii.gz\n",
      "AP_vol0046.nii.gz\t\tPA_vol0051.nii.gz\n",
      "AP_vol0047.nii.gz\t\tPA_vol0052.nii.gz\n",
      "AP_vol0048.nii.gz\t\tPA_vol0053.nii.gz\n",
      "AP_vol0049.nii.gz\t\tPA_vol0054.nii.gz\n",
      "AP_vol0050.nii.gz\t\tPA_vol0055.nii.gz\n",
      "AP_vol0051.nii.gz\t\tPA_vol0056.nii.gz\n",
      "AP_vol0052.nii.gz\t\tPA_vol0057.nii.gz\n",
      "AP_vol0053.nii.gz\t\tPA_vol0058.nii.gz\n",
      "AP_vol0054.nii.gz\t\tPA_vol0059.nii.gz\n",
      "AP_vol0055.nii.gz\t\tPA_vol0060.nii.gz\n",
      "AP_vol0056.nii.gz\t\tPA_vol0061.nii.gz\n",
      "AP_vol0057.nii.gz\t\tPA_vol0062.nii.gz\n",
      "AP_vol0058.nii.gz\t\tPA_vol0063.nii.gz\n",
      "AP_vol0059.nii.gz\t\tPA_vol0064.nii.gz\n",
      "AP_vol0060.nii.gz\t\tPA_vol0065.nii.gz\n",
      "AP_vol0061.nii.gz\t\tPA_vol0066.nii.gz\n",
      "AP_vol0062.nii.gz\t\tPA_vol0067.nii.gz\n",
      "AP_vol0063.nii.gz\t\tPA_vol0068.nii.gz\n",
      "AP_vol0064.nii.gz\t\tPA_vol0069.nii.gz\n",
      "AP_vol0065.nii.gz\t\tPA_vol0070.nii.gz\n",
      "AP_vol0066.nii.gz\t\tPA_vol0071.nii.gz\n",
      "AP_vol0067.nii.gz\t\texample_AP_PA.nii.gz\n",
      "AP_vol0068.nii.gz\t\tsub-30295_acq-71AP_dwi.bval\n",
      "AP_vol0069.nii.gz\t\tsub-30295_acq-71AP_dwi.bvec\n",
      "AP_vol0070.nii.gz\t\tsub-30295_acq-71AP_dwi.json\n",
      "AP_vol0071.nii.gz\t\tsub-30295_acq-71AP_dwi.nii.gz\n",
      "PA_vol0000.nii.gz\t\tsub-30295_acq-71PA_dwi.bval\n",
      "PA_vol0001.nii.gz\t\tsub-30295_acq-71PA_dwi.bvec\n",
      "PA_vol0002.nii.gz\t\tsub-30295_acq-71PA_dwi.json\n",
      "PA_vol0003.nii.gz\t\tsub-30295_acq-71PA_dwi.nii.gz\n",
      "PA_vol0004.nii.gz\n"
     ]
    }
   ],
   "source": [
    "fslsplit *71PA_dwi.nii.gz\n",
    "for file in vol*; do mv -- \"$file\" \"PA_$file\"; done\n",
    "ls"
   ]
  },
  {
   "cell_type": "code",
   "execution_count": null,
   "metadata": {},
   "outputs": [],
   "source": [
    "#cancatenate AP and AP for image, bval, and bvec\n",
    "#bval should be same for all subjects -- unless removing volumes\n",
    "#bval will change for each subject\n",
    "#also need a mean b0 image, where b0s are defined as images which have bvals < 1000"
   ]
  },
  {
   "cell_type": "code",
   "execution_count": 38,
   "metadata": {},
   "outputs": [],
   "source": [
    "fslmerge -t sub-30295_dwi.nii.gz *vol*.nii.gz"
   ]
  },
  {
   "cell_type": "code",
   "execution_count": 39,
   "metadata": {},
   "outputs": [
    {
     "name": "stdout",
     "output_type": "stream",
     "text": [
      "AP_vol0000.nii.gz\t\tPA_vol0005.nii.gz\n",
      "AP_vol0001.nii.gz\t\tPA_vol0006.nii.gz\n",
      "AP_vol0002.nii.gz\t\tPA_vol0007.nii.gz\n",
      "AP_vol0003.nii.gz\t\tPA_vol0008.nii.gz\n",
      "AP_vol0004.nii.gz\t\tPA_vol0009.nii.gz\n",
      "AP_vol0005.nii.gz\t\tPA_vol0010.nii.gz\n",
      "AP_vol0006.nii.gz\t\tPA_vol0011.nii.gz\n",
      "AP_vol0007.nii.gz\t\tPA_vol0012.nii.gz\n",
      "AP_vol0008.nii.gz\t\tPA_vol0013.nii.gz\n",
      "AP_vol0009.nii.gz\t\tPA_vol0014.nii.gz\n",
      "AP_vol0010.nii.gz\t\tPA_vol0015.nii.gz\n",
      "AP_vol0011.nii.gz\t\tPA_vol0016.nii.gz\n",
      "AP_vol0012.nii.gz\t\tPA_vol0017.nii.gz\n",
      "AP_vol0013.nii.gz\t\tPA_vol0018.nii.gz\n",
      "AP_vol0014.nii.gz\t\tPA_vol0019.nii.gz\n",
      "AP_vol0015.nii.gz\t\tPA_vol0020.nii.gz\n",
      "AP_vol0016.nii.gz\t\tPA_vol0021.nii.gz\n",
      "AP_vol0017.nii.gz\t\tPA_vol0022.nii.gz\n",
      "AP_vol0018.nii.gz\t\tPA_vol0023.nii.gz\n",
      "AP_vol0019.nii.gz\t\tPA_vol0024.nii.gz\n",
      "AP_vol0020.nii.gz\t\tPA_vol0025.nii.gz\n",
      "AP_vol0021.nii.gz\t\tPA_vol0026.nii.gz\n",
      "AP_vol0022.nii.gz\t\tPA_vol0027.nii.gz\n",
      "AP_vol0023.nii.gz\t\tPA_vol0028.nii.gz\n",
      "AP_vol0024.nii.gz\t\tPA_vol0029.nii.gz\n",
      "AP_vol0025.nii.gz\t\tPA_vol0030.nii.gz\n",
      "AP_vol0026.nii.gz\t\tPA_vol0031.nii.gz\n",
      "AP_vol0027.nii.gz\t\tPA_vol0032.nii.gz\n",
      "AP_vol0028.nii.gz\t\tPA_vol0033.nii.gz\n",
      "AP_vol0029.nii.gz\t\tPA_vol0034.nii.gz\n",
      "AP_vol0030.nii.gz\t\tPA_vol0035.nii.gz\n",
      "AP_vol0031.nii.gz\t\tPA_vol0036.nii.gz\n",
      "AP_vol0032.nii.gz\t\tPA_vol0037.nii.gz\n",
      "AP_vol0033.nii.gz\t\tPA_vol0038.nii.gz\n",
      "AP_vol0034.nii.gz\t\tPA_vol0039.nii.gz\n",
      "AP_vol0035.nii.gz\t\tPA_vol0040.nii.gz\n",
      "AP_vol0036.nii.gz\t\tPA_vol0041.nii.gz\n",
      "AP_vol0037.nii.gz\t\tPA_vol0042.nii.gz\n",
      "AP_vol0038.nii.gz\t\tPA_vol0043.nii.gz\n",
      "AP_vol0039.nii.gz\t\tPA_vol0044.nii.gz\n",
      "AP_vol0040.nii.gz\t\tPA_vol0045.nii.gz\n",
      "AP_vol0041.nii.gz\t\tPA_vol0046.nii.gz\n",
      "AP_vol0042.nii.gz\t\tPA_vol0047.nii.gz\n",
      "AP_vol0043.nii.gz\t\tPA_vol0048.nii.gz\n",
      "AP_vol0044.nii.gz\t\tPA_vol0049.nii.gz\n",
      "AP_vol0045.nii.gz\t\tPA_vol0050.nii.gz\n",
      "AP_vol0046.nii.gz\t\tPA_vol0051.nii.gz\n",
      "AP_vol0047.nii.gz\t\tPA_vol0052.nii.gz\n",
      "AP_vol0048.nii.gz\t\tPA_vol0053.nii.gz\n",
      "AP_vol0049.nii.gz\t\tPA_vol0054.nii.gz\n",
      "AP_vol0050.nii.gz\t\tPA_vol0055.nii.gz\n",
      "AP_vol0051.nii.gz\t\tPA_vol0056.nii.gz\n",
      "AP_vol0052.nii.gz\t\tPA_vol0057.nii.gz\n",
      "AP_vol0053.nii.gz\t\tPA_vol0058.nii.gz\n",
      "AP_vol0054.nii.gz\t\tPA_vol0059.nii.gz\n",
      "AP_vol0055.nii.gz\t\tPA_vol0060.nii.gz\n",
      "AP_vol0056.nii.gz\t\tPA_vol0061.nii.gz\n",
      "AP_vol0057.nii.gz\t\tPA_vol0062.nii.gz\n",
      "AP_vol0058.nii.gz\t\tPA_vol0063.nii.gz\n",
      "AP_vol0059.nii.gz\t\tPA_vol0064.nii.gz\n",
      "AP_vol0060.nii.gz\t\tPA_vol0065.nii.gz\n",
      "AP_vol0061.nii.gz\t\tPA_vol0066.nii.gz\n",
      "AP_vol0062.nii.gz\t\tPA_vol0067.nii.gz\n",
      "AP_vol0063.nii.gz\t\tPA_vol0068.nii.gz\n",
      "AP_vol0064.nii.gz\t\tPA_vol0069.nii.gz\n",
      "AP_vol0065.nii.gz\t\tPA_vol0070.nii.gz\n",
      "AP_vol0066.nii.gz\t\tPA_vol0071.nii.gz\n",
      "AP_vol0067.nii.gz\t\texample_AP_PA.nii.gz\n",
      "AP_vol0068.nii.gz\t\tsub-30295_acq-71AP_dwi.bval\n",
      "AP_vol0069.nii.gz\t\tsub-30295_acq-71AP_dwi.bvec\n",
      "AP_vol0070.nii.gz\t\tsub-30295_acq-71AP_dwi.json\n",
      "AP_vol0071.nii.gz\t\tsub-30295_acq-71AP_dwi.nii.gz\n",
      "PA_vol0000.nii.gz\t\tsub-30295_acq-71PA_dwi.bval\n",
      "PA_vol0001.nii.gz\t\tsub-30295_acq-71PA_dwi.bvec\n",
      "PA_vol0002.nii.gz\t\tsub-30295_acq-71PA_dwi.json\n",
      "PA_vol0003.nii.gz\t\tsub-30295_acq-71PA_dwi.nii.gz\n",
      "PA_vol0004.nii.gz\t\tsub-30295_dwi.nii.gz\n"
     ]
    }
   ],
   "source": [
    "ls"
   ]
  },
  {
   "cell_type": "code",
   "execution_count": 4,
   "metadata": {},
   "outputs": [
    {
     "name": "stdout",
     "output_type": "stream",
     "text": [
      "\r\n"
     ]
    }
   ],
   "source": [
    "cd ~/Desktop/tmp/\n",
    "fslmerge -t example_AP_PA.nii.gz *71AP_dwi.nii.gz *71PA_dwi.nii.gz"
   ]
  },
  {
   "cell_type": "code",
   "execution_count": 6,
   "metadata": {},
   "outputs": [
    {
     "name": "stdout",
     "output_type": "stream",
     "text": [
      "\n",
      "\n",
      "\n",
      "Part of FSL (ID: 6.0.0)\n",
      "topup\n",
      "\n",
      "Usage: \n",
      "topup --imain=<some 4D image> --datain=<text file> --config=<text file with parameters> --out=my_topup_results\n",
      "\n",
      "\n",
      "Compulsory arguments (You MUST set one or more of):\n",
      "\t--imain\t\tname of 4D file with images\n",
      "\t--datain\tname of text file with PE directions/times\n",
      "\n",
      "Optional arguments (You may optionally specify one or more of):\n",
      "\t--out\t\tbase-name of output files (spline coefficients (Hz) and movement parameters)\n",
      "\t--fout\t\tname of image file with field (Hz)\n",
      "\t--iout\t\tname of 4D image file with unwarped images\n",
      "\t--logout\tName of log-file\n",
      "\t--warpres\t(approximate) resolution (in mm) of warp basis for the different sub-sampling levels, default 10\n",
      "\t--subsamp\tsub-sampling scheme, default 1\n",
      "\t--fwhm\t\tFWHM (in mm) of gaussian smoothing kernel, default 8\n",
      "\t--config\tName of config file specifying command line arguments\n",
      "\t--miter\t\tMax # of non-linear iterations, default 5\n",
      "\t--lambda\tWeight of regularisation, default depending on --ssqlambda and --regmod switches. See user documetation.\n",
      "\t--ssqlambda\tIf set (=1), lambda is weighted by current ssq, default 1\n",
      "\t--regmod\tModel for regularisation of warp-field [membrane_energy bending_energy], default bending_energy\n",
      "\t--estmov\tEstimate movements if set, default 1 (true)\n",
      "\t--minmet\tMinimisation method 0=Levenberg-Marquardt, 1=Scaled Conjugate Gradient, default 0 (LM)\n",
      "\t--splineorder\tOrder of spline, 2->Qadratic spline, 3->Cubic spline. Default=3\n",
      "\t--numprec\tPrecision for representing Hessian, double or float. Default double\n",
      "\t--interp\tImage interpolation model, linear or spline. Default spline\n",
      "\t--scale\t\tIf set (=1), the images are individually scaled to a common mean, default 0 (false)\n",
      "\t--regrid\t\tIf set (=1), the calculations are done in a different grid, default 1 (true)\n",
      "\t-h,--help\tdisplay help info\n",
      "\t-v,--verbose\tPrint diagonostic information while running\n",
      "\t-h,--help\tdisplay help info\n",
      "\n",
      "\n"
     ]
    },
    {
     "ename": "",
     "evalue": "1",
     "output_type": "error",
     "traceback": []
    }
   ],
   "source": [
    "topup"
   ]
  },
  {
   "cell_type": "code",
   "execution_count": null,
   "metadata": {},
   "outputs": [],
   "source": [
    "topup --imain=all_my_b0_images.nii --datain=acquisition_parameters.txt --config=b02b0.cnf --out=my_output"
   ]
  },
  {
   "cell_type": "code",
   "execution_count": 7,
   "metadata": {},
   "outputs": [
    {
     "name": "stdout",
     "output_type": "stream",
     "text": [
      "***************************************************\n",
      "The following COMPULSORY options have not been set:\n",
      "\t--imain\tFile containing all the images to estimate distortions for\n",
      "\t--mask\tMask to indicate brain\n",
      "\t--index\tFile containing indices for all volumes in --imain into --acqp and --topup\n",
      "\t--acqp\tFile containing acquisition parameters\n",
      "\t--bvecs\tFile containing the b-vectors for all volumes in --imain\n",
      "\t--bvals\tFile containing the b-values for all volumes in --imain\n",
      "\t--out\tBasename for output\n",
      "***************************************************\n",
      "\n",
      "Part of FSL (ID: 5.0.11)\n",
      "eddy \n",
      "Copyright(c) 2015, University of Oxford (Jesper Andersson)\n",
      "\n",
      "Usage: \n",
      "eddy --monsoon\n",
      "\n",
      "Compulsory arguments (You MUST set one or more of):\n",
      "\t--imain\tFile containing all the images to estimate distortions for\n",
      "\t--mask\tMask to indicate brain\n",
      "\t--index\tFile containing indices for all volumes in --imain into --acqp and --topup\n",
      "\t--acqp\tFile containing acquisition parameters\n",
      "\t--bvecs\tFile containing the b-vectors for all volumes in --imain\n",
      "\t--bvals\tFile containing the b-values for all volumes in --imain\n",
      "\t--out\tBasename for output\n",
      "\n",
      "Optional arguments (You may optionally specify one or more of):\n",
      "\t--mb\tMulti-band factor\n",
      "\t--mb_offs\tMulti-band offset (-1 if bottom slice removed, 1 if top slice removed)\n",
      "\t--slspec\tName of text file completely specifying slice/group acuistion\n",
      "\t--mporder\tOrder of slice-to-vol movement model\n",
      "\t--s2v_lambda\tRegularisation weight for slice-to-vol movement. (default 1, reasonable range 1--10\n",
      "\t--topup\tBase name for output files from topup\n",
      "\t--field\tName of file with susceptibility field (in Hz)\n",
      "\t--field_mat\tName of rigid body transform for susceptibility field\n",
      "\t--flm\tFirst level EC model (movement/linear/quadratic/cubic, default quadratic)\n",
      "\t--slm\tSecond level EC model (none/linear/quadratic, default none)\n",
      "\t--fwhm\tFWHM for conditioning filter when estimating the parameters (default 0)\n",
      "\t--niter\tNumber of iterations (default 5)\n",
      "\t--s2v_niter\tNumber of iterations for slice-to-vol (default 5)\n",
      "\t--cnr_maps\tWrite shell-wise cnr-maps\n",
      "\t--residuals\tWrite residuals (between GP and observations)\n",
      "\t--fep\tFill empty planes in x- or y-directions\n",
      "\t--interp\tInterpolation model for estimation step (spline/trilinear, default spline)\n",
      "\t--s2v_interp\tSlice-to-vol interpolation model for estimation step (spline/trilinear, default trilinear)\n",
      "\t--resamp\tFinal resampling method (jac/lsr, default jac)\n",
      "\t--nvoxhp\t# of voxels used to estimate the hyperparameters (default 1000)\n",
      "\t--initrand\tResets rand for when selecting voxels (default false)\n",
      "\t--ff\tFudge factor for hyperparameter error variance (default 10.0)\n",
      "\t--repol\tDetect and replace outlier slices\n",
      "\t--ol_nstd\tNumber of std off to qualify as outlier (default 4)\n",
      "\t--ol_nvox\tMin # of voxels in a slice for inclusion in outlier detection (default 250)\n",
      "\t--ol_type\tType of outliers, slicewise (sw), groupwise (gw) or both (both). (default sw)\n",
      "\t--ol_pos\tConsider both positive and negative outliers if set (default false)\n",
      "\t--ol_sqr\tConsider outliers among sums-of-squared differences if set (default false)\n",
      "\t--dont_sep_offs_move\tDo NOT attempt to separate field offset from subject movement (default false)\n",
      "\t--dont_peas\tDo NOT perform a post-eddy alignment of shells (default false)\n",
      "\t--data_is_shelled\tAssume, don't check, that data is shelled (default false)\n",
      "\t-v,--verbose\tswitch on diagnostic messages\n",
      "\t-h,--help\tdisplay this message\n",
      "\n",
      "\n"
     ]
    },
    {
     "ename": "",
     "evalue": "1",
     "output_type": "error",
     "traceback": []
    }
   ],
   "source": [
    "eddy"
   ]
  },
  {
   "cell_type": "code",
   "execution_count": null,
   "metadata": {},
   "outputs": [],
   "source": [
    "eddy --imain=data --mask=my_hifi_b0_brain_mask --acqp=acqparams.txt --index=index.txt --bvecs=bvecs --bvals=bvals --topup=my_topup_results --repol --out=eddy_corrected_data"
   ]
  },
  {
   "cell_type": "code",
   "execution_count": 8,
   "metadata": {},
   "outputs": [
    {
     "name": "stdout",
     "output_type": "stream",
     "text": [
      "eddy_quad: QUality Assessment for DMRI\n",
      "   \n",
      "Usage: eddy_quad <eddyBase> -idx <eddyIndex> -par <eddyParams> -m <mask> -b <bvals> [options]\n",
      "   \n",
      "   \n",
      "Compulsory arguments:\n",
      "       eddyBase             Basename (including path) specified when running EDDY\n",
      "       -idx, --eddyIdx      File containing indices for all volumes into acquisition parameters\n",
      "       -par, --eddyParams   File containing acquisition parameters\n",
      "       -m, --mask           Binary mask file\n",
      "       -b, --bvals          b-values file\n",
      "   \n",
      "Optional arguments:\n",
      "       -g, --bvecs          b-vectors file - only used when <eddyBase>.eddy_residuals file is present\n",
      "       -o, --output-dir     Output directory - default = '<eddyBase>.qc' \n",
      "       -f, --field          TOPUP estimated field (in Hz)\n",
      "       -s, --slspec         Text file specifying slice/group acquisition\n",
      "       -v, --verbose        Display debug messages\n",
      "   \n"
     ]
    },
    {
     "ename": "",
     "evalue": "1",
     "output_type": "error",
     "traceback": []
    }
   ],
   "source": [
    "eddy_quad"
   ]
  },
  {
   "cell_type": "markdown",
   "metadata": {},
   "source": [
    "## Fit a model to create FA images"
   ]
  },
  {
   "cell_type": "code",
   "execution_count": 9,
   "metadata": {},
   "outputs": [
    {
     "name": "stdout",
     "output_type": "stream",
     "text": [
      "\n",
      "\n",
      "\n",
      "\n",
      "\n",
      "\n",
      "Part of FSL (ID: 6.0.0)\n",
      "dtifit\n",
      "\n",
      "Usage: \n",
      "dtifit -k <filename>\n",
      " dtifit --verbose\n",
      "\n",
      "\n",
      "Compulsory arguments (You MUST set one or more of):\n",
      "\t-k,--data\tdti data file\n",
      "\t-o,--out\tOutput basename\n",
      "\t-m,--mask\tBet binary mask file\n",
      "\t-r,--bvecs\tb vectors file\n",
      "\t-b,--bvals\tb values file\n",
      "\n",
      "Optional arguments (You may optionally specify one or more of):\n",
      "\t-V,--verbose\tswitch on diagnostic messages\n",
      "\t-h,--help\tdisplay this message\n",
      "\t--cni\tInput confound regressors\n",
      "\t--sse\tOutput sum of squared errors\n",
      "\t-w,--wls\tFit the tensor with weighted least squares\n",
      "\t--kurt\tOutput mean kurtosis map (for multi-shell data)\n",
      "\t--kurtdir\tOutput  parallel/perpendicular kurtosis maps (for multi-shell data)\n",
      "\t--littlebit\tOnly process small area of brain\n",
      "\t--save_tensor\tSave the elements of the tensor\n",
      "\t-z,--zmin\tmin z\n",
      "\t-Z,--zmax\tmax z\n",
      "\t-y,--ymin\tmin y\n",
      "\t-Y,--ymax\tmax y\n",
      "\t-x,--xmin\tmin x\n",
      "\t-X,--xmax\tmax x\n",
      "\t--gradnonlin\tGradient Nonlinearity Tensor file\n",
      "\n",
      "\n"
     ]
    },
    {
     "ename": "",
     "evalue": "1",
     "output_type": "error",
     "traceback": []
    }
   ],
   "source": [
    "dtifit"
   ]
  },
  {
   "cell_type": "markdown",
   "metadata": {},
   "source": [
    "**QC** <br>\n",
    "* Check for LR at corpus callosum, c.spinal tract SI <br>\n",
    "* In RGB green = gray matter"
   ]
  },
  {
   "cell_type": "markdown",
   "metadata": {},
   "source": [
    "## TBSS"
   ]
  },
  {
   "cell_type": "code",
   "execution_count": 10,
   "metadata": {},
   "outputs": [
    {
     "name": "stdout",
     "output_type": "stream",
     "text": [
      "\n",
      "Usage: tbss_1_preproc <image1> <image2> ...\n",
      "\n"
     ]
    },
    {
     "ename": "",
     "evalue": "1",
     "output_type": "error",
     "traceback": []
    }
   ],
   "source": [
    "tbss_1_preproc"
   ]
  },
  {
   "cell_type": "code",
   "execution_count": 11,
   "metadata": {},
   "outputs": [
    {
     "name": "stdout",
     "output_type": "stream",
     "text": [
      "\n",
      "Usage: tbss_2_reg [options]\n",
      "\n",
      "Target-selection options - choose ONE of:\n",
      " -T            : use FMRIB58_FA_1mm as target for nonlinear registrations (recommended)\n",
      " -t <target>   : use <target> image as target for nonlinear registrations\n",
      " -n            : find best target from all images in FA\n",
      "\n"
     ]
    },
    {
     "ename": "",
     "evalue": "1",
     "output_type": "error",
     "traceback": []
    }
   ],
   "source": [
    "tbss_2_reg"
   ]
  },
  {
   "cell_type": "raw",
   "metadata": {},
   "source": [
    "tbss_2_reg -T"
   ]
  },
  {
   "cell_type": "code",
   "execution_count": 12,
   "metadata": {},
   "outputs": [
    {
     "name": "stdout",
     "output_type": "stream",
     "text": [
      "\n",
      "Usage: tbss_3_postreg [options]\n",
      "\n",
      "Choose ONE of:\n",
      " -S   : derive mean_FA and mean_FA_skeleton from mean of all subjects in study (recommended)\n",
      " -T   : use FMRIB58_FA and its skeleton instead of study-derived mean and skeleton\n",
      "\n"
     ]
    },
    {
     "ename": "",
     "evalue": "1",
     "output_type": "error",
     "traceback": []
    }
   ],
   "source": [
    "tbss_3_postreg"
   ]
  },
  {
   "cell_type": "raw",
   "metadata": {},
   "source": [
    "tbss_3_postreg -S"
   ]
  },
  {
   "cell_type": "code",
   "execution_count": 13,
   "metadata": {},
   "outputs": [
    {
     "name": "stdout",
     "output_type": "stream",
     "text": [
      "\n",
      "Usage: tbss_4_prestats <threshold>\n",
      "\n",
      "The normal recommendation for <threshold> is 0.2\n",
      "\n"
     ]
    },
    {
     "ename": "",
     "evalue": "1",
     "output_type": "error",
     "traceback": []
    }
   ],
   "source": [
    "tbss_4_prestats"
   ]
  },
  {
   "cell_type": "raw",
   "metadata": {},
   "source": [
    "tbss_4_prestats 0.2"
   ]
  },
  {
   "cell_type": "code",
   "execution_count": 14,
   "metadata": {},
   "outputs": [
    {
     "name": "stdout",
     "output_type": "stream",
     "text": [
      "\n",
      "\n",
      "\n",
      "Part of FSL (ID: 6.0.0)\n",
      "randomise v2.9\n",
      "\n",
      "Usage: \n",
      "randomise -i <input> -o <output> -d <design.mat> -t <design.con> [options]\n",
      "\n",
      "Compulsory arguments (You MUST set one or more of):\n",
      "\t-i <input>\t4D input image\n",
      "\t-o <out_root>\toutput file-rootname\n",
      "\n",
      "Optional arguments (You may optionally specify one or more of):\n",
      "\t-D\t\tdemean data temporally before model fitting ( demean model as well if required )\n",
      "\t-1\t\tperform 1-sample group-mean test instead of generic permutation test\n",
      "\t-m <mask>\tmask image\n",
      "\t-d <design.mat>\tdesign matrix file\n",
      "\t-t <design.con>\tt contrasts file\n",
      "\t-f <design.fts>\tf contrasts file\n",
      "\t-e <design.grp>\texchangeability block labels file\n",
      "\t--effective_design <design2.mat>\talternative design for determining valid permutations\n",
      "\t-q\t\tprint out how many unique permutations would be generated and exit\n",
      "\t-Q\t\tprint out information required for parallel mode and exit\n",
      "\t-n <n_perm>\tnumber of permutations (default 5000, set to 0 for exhaustive)\n",
      "\t-x\t\toutput voxelwise corrected p-value images\n",
      "\t--fonly\t\tcalculate f-statistics only\n",
      "\t-T\t\tcarry out Threshold-Free Cluster Enhancement\n",
      "\t--T2\t\tcarry out Threshold-Free Cluster Enhancement with 2D optimisation (e.g. for TBSS data); H=2, E=1, C=26\n",
      "\t-c <thresh>\tcarry out cluster-based thresholding\n",
      "\t-C <thresh>\tcarry out cluster-mass-based thresholding\n",
      "\t-F <thresh>\tcarry out f cluster thresholding\n",
      "\t-S <thresh>\tcarry out f cluster-mass thresholding\n",
      "\t-v <std>\tuse variance smoothing for t-stats (std is in mm)\n",
      "\t-h,--help\tdisplay this message\n",
      "\t--quiet\t\tswitch off diagnostic messages\n",
      "\t--twopass\tcarry out cluster normalisation thresholding\n",
      "\t-R\t\toutput raw ( unpermuted ) statistic images\n",
      "\t--uncorrp\toutput uncorrected p-value images\n",
      "\t-P\t\toutput permutation vector text file\n",
      "\t-N\t\toutput null distribution text files\n",
      "\t--norcmask\tdon't remove constant voxels from mask\n",
      "\t--seed <seed>\tspecific integer seed for random number generator\n",
      "\t--tfce_H <H>\tTFCE height parameter (default=2)\n",
      "\t--tfce_D <H>\tTFCE delta parameter overide\n",
      "\t--tfce_E <E>\tTFCE extent parameter (default=0.5)\n",
      "\t--tfce_C <C>\tTFCE connectivity (6 or 26; default=6)\n",
      "\t--vxl\t\tlist of numbers indicating voxelwise EVs position in the design matrix (list order corresponds to files in vxf option). caution BETA option.\n",
      "\t--vxf\t\tlist of 4D images containing voxelwise EVs (list order corresponds to numbers in vxl option). caution BETA option.\n",
      "\t--permuteBlocks\tpermute exchangeability blocks. Caution BETA option\n",
      "\t--glm_output\toutput glm information for t-statistics ( unpermuted case only )\n",
      "\t--film\toutput stats to simulate the output of film\n",
      "\n",
      "\n"
     ]
    },
    {
     "ename": "",
     "evalue": "2",
     "output_type": "error",
     "traceback": []
    }
   ],
   "source": [
    "randomise"
   ]
  },
  {
   "cell_type": "markdown",
   "metadata": {},
   "source": [
    "[Image Lab Wiki - Statistical Analysis FA](http://wikis.la.utexas.edu/imagelab/book/statistical-analysis-fa-values.html)"
   ]
  },
  {
   "cell_type": "code",
   "execution_count": null,
   "metadata": {},
   "outputs": [],
   "source": [
    "randomise -i all_FA_skeletonised -o tbss -m mean_FA_skeleton_mask -d design.mat -t design.con -n 500 --T2 -V"
   ]
  },
  {
   "cell_type": "code",
   "execution_count": null,
   "metadata": {},
   "outputs": [],
   "source": [
    "fslview $FSLDIR/data/standard/MNI152_T1_1mm mean_FA_skeleton -l Green -b 0.2,0.7 tbss_tfce_corrp_tstat1 -l Red-Yellow -b 0.95,1"
   ]
  },
  {
   "cell_type": "code",
   "execution_count": null,
   "metadata": {},
   "outputs": [],
   "source": []
  }
 ],
 "metadata": {
  "kernelspec": {
   "display_name": "Bash",
   "language": "bash",
   "name": "bash"
  },
  "language_info": {
   "codemirror_mode": "shell",
   "file_extension": ".sh",
   "mimetype": "text/x-sh",
   "name": "bash"
  }
 },
 "nbformat": 4,
 "nbformat_minor": 2
}
