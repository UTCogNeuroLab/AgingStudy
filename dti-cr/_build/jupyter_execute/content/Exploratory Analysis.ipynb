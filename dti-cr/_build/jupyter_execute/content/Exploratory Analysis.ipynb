{
 "cells": [
  {
   "cell_type": "code",
   "execution_count": null,
   "metadata": {},
   "outputs": [],
   "source": [
    "import numpy as np\n",
    "import pandas as pd\n",
    "import matplotlib.pyplot as plt\n",
    "import os\n",
    "import sys\n",
    "\n",
    "home_dir = '/Volumes/schnyer/Aging_DecMem/Scan_Data/BIDS/derivatives'"
   ]
  },
  {
   "cell_type": "markdown",
   "metadata": {},
   "source": [
    "## Older Adults"
   ]
  },
  {
   "cell_type": "code",
   "execution_count": null,
   "metadata": {},
   "outputs": [],
   "source": [
    "oa_df1 = []\n",
    "oa_files = pd.DataFrame(os.listdir(home_dir + '/tbss_oa/origdata'), columns = ['files'])\n",
    "\n",
    "oa_fa = pd.read_csv(home_dir + '/tbss_oa/stats/mean_fa_cc.txt', names = ['CC_FA'])\n",
    "oa_md = pd.read_csv(home_dir + '/tbss_oa/stats/mean_md_cc.txt', names = ['CC_MD'])\n",
    "oa_ad = pd.read_csv(home_dir + '/tbss_oa/stats/mean_ad_cc.txt', names = ['CC_AD'])\n",
    "oa_rd = pd.read_csv(home_dir + '/tbss_oa/stats/mean_rd_cc.txt', names = ['CC_RD'])\n",
    "\n",
    "oa_fa_genu = pd.read_csv(home_dir + '/tbss_oa/stats/mean_fa_genu.txt', names = ['genu_FA'])\n",
    "oa_md_genu = pd.read_csv(home_dir + '/tbss_oa/stats/mean_md_genu.txt', names = ['genu_MD'])\n",
    "oa_ad_genu = pd.read_csv(home_dir + '/tbss_oa/stats/mean_ad_genu.txt', names = ['genu_AD'])\n",
    "oa_rd_genu = pd.read_csv(home_dir + '/tbss_oa/stats/mean_rd_genu.txt', names = ['genu_RD'])\n",
    "\n",
    "oa_df1 = pd.concat([oa_files, oa_fa], axis = 1)\n",
    "oa_df1 = pd.concat([oa_df1, oa_md], axis = 1)\n",
    "oa_df1 = pd.concat([oa_df1, oa_ad], axis = 1)\n",
    "oa_df1 = pd.concat([oa_df1, oa_rd], axis = 1)\n",
    "oa_df1 = pd.concat([oa_df1, oa_fa_genu], axis = 1)\n",
    "oa_df1 = pd.concat([oa_df1, oa_md_genu], axis = 1)\n",
    "oa_df1 = pd.concat([oa_df1, oa_ad_genu], axis = 1)\n",
    "oa_df1 = pd.concat([oa_df1, oa_rd_genu], axis = 1)\n",
    "\n",
    "#oa_df1['Group'] == 'Older Adults'\n",
    "\n",
    "oa_df1"
   ]
  },
  {
   "cell_type": "code",
   "execution_count": null,
   "metadata": {},
   "outputs": [],
   "source": [
    "oa_df1.describe()"
   ]
  },
  {
   "cell_type": "code",
   "execution_count": null,
   "metadata": {},
   "outputs": [],
   "source": [
    "oa_df1['record_id1'] = oa_df1['files'].str.split('-', expand = True)[1]\n",
    "oa_df1['record_id'] = oa_df1['record_id1'].str.split('_', expand = True)[0].astype(int)\n",
    "oa_df1"
   ]
  },
  {
   "cell_type": "code",
   "execution_count": null,
   "metadata": {},
   "outputs": [],
   "source": [
    "#oa_df1 = oa_df1.set_index('record_id')\n",
    "beh = beh.set_index('record_id')"
   ]
  },
  {
   "cell_type": "code",
   "execution_count": null,
   "metadata": {},
   "outputs": [],
   "source": [
    "oa_df = []\n",
    "oa_df = oa_df1.join(beh, sort=True).dropna(subset = ['files'])\n",
    "oa_df"
   ]
  },
  {
   "cell_type": "code",
   "execution_count": null,
   "metadata": {},
   "outputs": [],
   "source": [
    "oa_df.drop(columns = ['record_id1']).describe()"
   ]
  },
  {
   "cell_type": "code",
   "execution_count": null,
   "metadata": {},
   "outputs": [],
   "source": [
    "plt.subplots(figsize=(5,5), dpi=250)\n",
    "\n",
    "plt.scatter(oa_df['age'], oa_df['CC_FA'], color = 'red')\n",
    "plt.xlabel('Age')\n",
    "plt.ylabel('CC FA')"
   ]
  },
  {
   "cell_type": "code",
   "execution_count": null,
   "metadata": {},
   "outputs": [],
   "source": [
    "fig, (ax1, ax2, ax3) = plt.subplots(3,1, figsize=(5,15), dpi=250)\n",
    "\n",
    "ax1.scatter(oa_df['age'], oa_df['CC_MD'], color = 'blue')\n",
    "ax1.set(ylabel='CC MD')\n",
    "ax1.set_ylim([0.0004, 0.00055])\n",
    "\n",
    "ax2.scatter(oa_df['age'], oa_df['CC_AD'], color = 'green')\n",
    "ax2.set(ylabel='CC AD')\n",
    "ax2.set_ylim([0.00065, 0.001])\n",
    "\n",
    "ax3.scatter(oa_df['age'], oa_df['CC_RD'], color = 'orange')\n",
    "ax3.set(xlabel='Age', ylabel='CC RD')\n",
    "ax3.set_ylim([0.0002, 0.0004])\n"
   ]
  },
  {
   "cell_type": "markdown",
   "metadata": {},
   "source": [
    "## Young Adults"
   ]
  },
  {
   "cell_type": "code",
   "execution_count": null,
   "metadata": {},
   "outputs": [],
   "source": [
    "ya_files = pd.DataFrame(os.listdir(home_dir + '/tbss_ya/origdata'), columns = ['files'])\n",
    "ya_df1 = []\n",
    "\n",
    "ya_fa = pd.read_csv(home_dir + '/tbss_ya/stats/mean_fa_cc.txt', names = ['CC_FA'])\n",
    "ya_md = pd.read_csv(home_dir + '/tbss_ya/stats/mean_md_cc.txt', names = ['CC_MD'])\n",
    "ya_ad = pd.read_csv(home_dir + '/tbss_ya/stats/mean_ad_cc.txt', names = ['CC_AD'])\n",
    "ya_rd = pd.read_csv(home_dir + '/tbss_ya/stats/mean_rd_cc.txt', names = ['CC_RD'])\n",
    "\n",
    "ya_fa_genu = pd.read_csv(home_dir + '/tbss_ya/stats/mean_fa_genu.txt', names = ['genu_FA'])\n",
    "ya_md_genu = pd.read_csv(home_dir + '/tbss_ya/stats/mean_md_genu.txt', names = ['genu_MD'])\n",
    "ya_ad_genu = pd.read_csv(home_dir + '/tbss_ya/stats/mean_ad_genu.txt', names = ['genu_AD'])\n",
    "ya_rd_genu = pd.read_csv(home_dir + '/tbss_ya/stats/mean_rd_genu.txt', names = ['genu_RD'])\n",
    "\n",
    "ya_df1 = pd.concat([ya_files, ya_fa], axis = 1)\n",
    "ya_df1 = pd.concat([ya_df1, ya_md], axis = 1)\n",
    "ya_df1 = pd.concat([ya_df1, ya_ad], axis = 1)\n",
    "ya_df1 = pd.concat([ya_df1, ya_rd], axis = 1)\n",
    "ya_df1 = pd.concat([ya_df1, ya_fa_genu], axis = 1)\n",
    "ya_df1 = pd.concat([ya_df1, ya_md_genu], axis = 1)\n",
    "ya_df1 = pd.concat([ya_df1, ya_ad_genu], axis = 1)\n",
    "ya_df1 = pd.concat([ya_df1, ya_rd_genu], axis = 1)\n",
    "\n",
    "ya_df1"
   ]
  },
  {
   "cell_type": "code",
   "execution_count": null,
   "metadata": {},
   "outputs": [],
   "source": [
    "ya_df1['record_id1'] = ya_df1['files'].str.split('-', expand = True)[1]\n",
    "ya_df1['record_id'] = ya_df1['record_id1'].str.split('_', expand = True)[0].astype(int)\n",
    "ya_df1 = ya_df1.set_index('record_id')\n",
    "ya_df1[0:5]"
   ]
  },
  {
   "cell_type": "code",
   "execution_count": null,
   "metadata": {},
   "outputs": [],
   "source": [
    "ya_df = []\n",
    "ya_df = ya_df1.join(beh, sort=True).dropna(subset = ['files'])\n",
    "ya_df = ya_df.dropna(subset = ['files'])\n",
    "ya_df.shape"
   ]
  },
  {
   "cell_type": "code",
   "execution_count": null,
   "metadata": {},
   "outputs": [],
   "source": [
    "ya_df.drop(columns = 'record_id1').describe()"
   ]
  },
  {
   "cell_type": "code",
   "execution_count": 1,
   "metadata": {},
   "outputs": [
    {
     "ename": "NameError",
     "evalue": "name 'plt' is not defined",
     "output_type": "error",
     "traceback": [
      "\u001b[0;31m---------------------------------------------------------------------------\u001b[0m",
      "\u001b[0;31mNameError\u001b[0m                                 Traceback (most recent call last)",
      "\u001b[0;32m<ipython-input-1-9cddbb9dd087>\u001b[0m in \u001b[0;36m<module>\u001b[0;34m\u001b[0m\n\u001b[0;32m----> 1\u001b[0;31m \u001b[0mplt\u001b[0m\u001b[0;34m.\u001b[0m\u001b[0mscatter\u001b[0m\u001b[0;34m(\u001b[0m\u001b[0mya_df\u001b[0m\u001b[0;34m[\u001b[0m\u001b[0;34m'age'\u001b[0m\u001b[0;34m]\u001b[0m\u001b[0;34m,\u001b[0m \u001b[0mya_df\u001b[0m\u001b[0;34m[\u001b[0m\u001b[0;34m'CC_FA'\u001b[0m\u001b[0;34m]\u001b[0m\u001b[0;34m,\u001b[0m \u001b[0mcolor\u001b[0m \u001b[0;34m=\u001b[0m \u001b[0;34m'blue'\u001b[0m\u001b[0;34m)\u001b[0m\u001b[0;34m\u001b[0m\u001b[0;34m\u001b[0m\u001b[0m\n\u001b[0m\u001b[1;32m      2\u001b[0m \u001b[0mplt\u001b[0m\u001b[0;34m.\u001b[0m\u001b[0mxlabel\u001b[0m\u001b[0;34m(\u001b[0m\u001b[0;34m\"Age\"\u001b[0m\u001b[0;34m)\u001b[0m\u001b[0;34m\u001b[0m\u001b[0;34m\u001b[0m\u001b[0m\n\u001b[1;32m      3\u001b[0m \u001b[0mplt\u001b[0m\u001b[0;34m.\u001b[0m\u001b[0mylabel\u001b[0m\u001b[0;34m(\u001b[0m\u001b[0;34m\"CC FA\"\u001b[0m\u001b[0;34m)\u001b[0m\u001b[0;34m\u001b[0m\u001b[0;34m\u001b[0m\u001b[0m\n\u001b[1;32m      4\u001b[0m \u001b[0mplt\u001b[0m\u001b[0;34m.\u001b[0m\u001b[0mtitle\u001b[0m\u001b[0;34m(\u001b[0m\u001b[0;34m\"Age\"\u001b[0m\u001b[0;34m)\u001b[0m\u001b[0;34m\u001b[0m\u001b[0;34m\u001b[0m\u001b[0m\n",
      "\u001b[0;31mNameError\u001b[0m: name 'plt' is not defined"
     ]
    }
   ],
   "source": [
    "plt.scatter(ya_df['age'], ya_df['CC_FA'], color = 'blue')\n",
    "plt.xlabel(\"Age\")\n",
    "plt.ylabel(\"CC FA\")\n",
    "plt.title(\"Age\")"
   ]
  },
  {
   "cell_type": "markdown",
   "metadata": {},
   "source": [
    "## Correlation Plots"
   ]
  },
  {
   "cell_type": "code",
   "execution_count": null,
   "metadata": {},
   "outputs": [],
   "source": [
    "oa_df = oa_df[oa_df['actalph']<.9] #excluding 40175"
   ]
  },
  {
   "cell_type": "code",
   "execution_count": null,
   "metadata": {},
   "outputs": [],
   "source": [
    "import seaborn as sns\n",
    "\n",
    "oa_corr = oa_df.drop(columns = ['record_id', 'years_educ']).iloc[:,0:24].corr()\n",
    "\n",
    "fig, ax1 = plt.subplots(figsize=(20,15), dpi=400)\n",
    "sns.heatmap(oa_corr[['CC_FA', 'CC_MD', 'CC_AD', 'CC_RD']].sort_values(by=['CC_AD'],ascending=False), annot=True, ax=ax1)\n",
    "ax1.set_title('Older Adults')\n"
   ]
  },
  {
   "cell_type": "code",
   "execution_count": null,
   "metadata": {},
   "outputs": [],
   "source": [
    "import seaborn as sns\n",
    "\n",
    "oa_corr = oa_df.drop(columns = ['years_educ', 'CC_FA', 'CC_MD', 'CC_AD', 'CC_RD']).iloc[:,0:24].corr()\n",
    "\n",
    "fig, ax1 = plt.subplots(figsize=(20,15), dpi=400)\n",
    "sns.heatmap(oa_corr[['genu_FA', 'genu_MD', 'genu_AD', 'genu_RD']].sort_values(by=['genu_FA'],ascending=False), annot=True, ax=ax1)\n",
    "ax1.set_title('Older Adults')"
   ]
  },
  {
   "cell_type": "code",
   "execution_count": null,
   "metadata": {},
   "outputs": [],
   "source": [
    "import seaborn as sns\n",
    "\n",
    "ya_corr = ya_df.drop(columns = ['record_id', 'years_educ']).iloc[:,0:24].corr()\n",
    "\n",
    "fig, ax1 = plt.subplots(figsize=(20,15), dpi=400)\n",
    "sns.heatmap(ya_corr[['CC_FA', 'CC_MD', 'CC_AD', 'CC_RD']].sort_values(by=['CC_AD'],ascending=False), annot=True, ax=ax1)\n",
    "ax1.set_title('Young Adults')\n"
   ]
  },
  {
   "cell_type": "code",
   "execution_count": null,
   "metadata": {},
   "outputs": [],
   "source": [
    "import seaborn as sns\n",
    "\n",
    "ya_corr = ya_df.drop(columns = ['years_educ', 'CC_FA', 'CC_MD', 'CC_AD', 'CC_RD']).iloc[:,0:24].corr()\n",
    "\n",
    "fig, ax1 = plt.subplots(figsize=(20,15), dpi=400)\n",
    "sns.heatmap(ya_corr[['genu_FA', 'genu_MD', 'genu_AD', 'genu_RD']].sort_values(by=['genu_FA'],ascending=False), annot=True, ax=ax1)\n",
    "ax1.set_title('Older Adults')"
   ]
  },
  {
   "cell_type": "code",
   "execution_count": null,
   "metadata": {},
   "outputs": [],
   "source": [
    "df = []\n",
    "df = pd.concat([ya_df, oa_df], sort=True)\n",
    "df\n",
    "df.to_csv('/Users/PSYC-mcm5324/Box/CogNeuroLab/Aging Decision Making R01/Data/data_03_2020.csv')"
   ]
  },
  {
   "cell_type": "code",
   "execution_count": null,
   "metadata": {},
   "outputs": [],
   "source": []
  },
  {
   "cell_type": "code",
   "execution_count": null,
   "metadata": {},
   "outputs": [],
   "source": []
  }
 ],
 "metadata": {
  "kernelspec": {
   "display_name": "Python 3",
   "language": "python",
   "name": "python3"
  },
  "language_info": {
   "codemirror_mode": {
    "name": "ipython",
    "version": 3
   },
   "file_extension": ".py",
   "mimetype": "text/x-python",
   "name": "python",
   "nbconvert_exporter": "python",
   "pygments_lexer": "ipython3",
   "version": "3.7.5"
  }
 },
 "nbformat": 4,
 "nbformat_minor": 2
}